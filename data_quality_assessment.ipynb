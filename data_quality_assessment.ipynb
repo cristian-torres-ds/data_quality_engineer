{
 "cells": [
  {
   "cell_type": "markdown",
   "metadata": {},
   "source": [
    "# Data Quality Assessment"
   ]
  },
  {
   "cell_type": "markdown",
   "metadata": {},
   "source": [
    "#### Índice <a class=\"anchor\" id=\"indice\"></a>\n",
    "* [1 - Exploración inicial](#exploracion)\n",
    "    * [Variables](#variables)\n",
    "* [2 - Completeness](#completeness)\n",
    "    * [Puntuación](#puntuacion_1)\n",
    "* [3 - Uniqueness](#uniqueness)\n",
    "    * [Puntuación](#puntuacion_2)\n",
    "* [4 - Timeliness](#timeliness)\n",
    "    * [Puntuación](#puntuacion_3)\n",
    "* [5 - Validity](#validity)\n",
    "    * [Puntuación](#puntuacion_4)\n",
    "* [6 - Accuracy](#Accuracy)\n",
    "    * [Puntuación](#puntuacion_5)\n",
    "* [7 - Consistency](#Consistency)\n",
    "    * [Puntuación](#puntuacion_6)\n",
    "* [8 - Conclusión](#conclusion)\n",
    "    * [Puntuación](#puntuacion_7)"
   ]
  },
  {
   "cell_type": "code",
   "execution_count": 1,
   "metadata": {},
   "outputs": [],
   "source": [
    "import pandas as pd\n",
    "import json\n",
    "import matplotlib.pyplot as plt"
   ]
  },
  {
   "cell_type": "code",
   "execution_count": 2,
   "metadata": {},
   "outputs": [],
   "source": [
    "df = pd.read_csv('dataset.csv')"
   ]
  },
  {
   "cell_type": "markdown",
   "metadata": {},
   "source": [
    "### 1. Exploración inicial<a class=\"anchor\" id=\"exploracion\"></a>\n",
    "\n",
    "[Índice](#indice)"
   ]
  },
  {
   "cell_type": "code",
   "execution_count": 3,
   "metadata": {},
   "outputs": [
    {
     "data": {
      "text/html": [
       "<div>\n",
       "<style scoped>\n",
       "    .dataframe tbody tr th:only-of-type {\n",
       "        vertical-align: middle;\n",
       "    }\n",
       "\n",
       "    .dataframe tbody tr th {\n",
       "        vertical-align: top;\n",
       "    }\n",
       "\n",
       "    .dataframe thead th {\n",
       "        text-align: right;\n",
       "    }\n",
       "</style>\n",
       "<table border=\"1\" class=\"dataframe\">\n",
       "  <thead>\n",
       "    <tr style=\"text-align: right;\">\n",
       "      <th></th>\n",
       "      <th>disc_number</th>\n",
       "      <th>duration_ms</th>\n",
       "      <th>explicit</th>\n",
       "      <th>track_number</th>\n",
       "      <th>track_popularity</th>\n",
       "      <th>track_id</th>\n",
       "      <th>track_name</th>\n",
       "      <th>audio_features.danceability</th>\n",
       "      <th>audio_features.energy</th>\n",
       "      <th>audio_features.key</th>\n",
       "      <th>...</th>\n",
       "      <th>audio_features.tempo</th>\n",
       "      <th>audio_features.id</th>\n",
       "      <th>audio_features.time_signature</th>\n",
       "      <th>artist_id</th>\n",
       "      <th>artist_name</th>\n",
       "      <th>artist_popularity</th>\n",
       "      <th>album_id</th>\n",
       "      <th>album_name</th>\n",
       "      <th>album_release_date</th>\n",
       "      <th>album_total_tracks</th>\n",
       "    </tr>\n",
       "  </thead>\n",
       "  <tbody>\n",
       "    <tr>\n",
       "      <th>0</th>\n",
       "      <td>1</td>\n",
       "      <td>212600</td>\n",
       "      <td>False</td>\n",
       "      <td>1</td>\n",
       "      <td>77</td>\n",
       "      <td>4WUepByoeqcedHoYhSNHRt</td>\n",
       "      <td>Welcome To New York (Taylor's Version)</td>\n",
       "      <td>0.757</td>\n",
       "      <td>0.610</td>\n",
       "      <td>7.0</td>\n",
       "      <td>...</td>\n",
       "      <td>116.998</td>\n",
       "      <td>4WUepByoeqcedHoYhSNHRt</td>\n",
       "      <td>4.0</td>\n",
       "      <td>06HL4z0CvFAxyc27GX</td>\n",
       "      <td>Taylor Swift</td>\n",
       "      <td>120</td>\n",
       "      <td>1o59UpKw81iHR0HPiSkJR0</td>\n",
       "      <td>1989 (Taylor's Version) [Deluxe]</td>\n",
       "      <td>2023-10-27</td>\n",
       "      <td>22</td>\n",
       "    </tr>\n",
       "    <tr>\n",
       "      <th>1</th>\n",
       "      <td>1</td>\n",
       "      <td>231833</td>\n",
       "      <td>False</td>\n",
       "      <td>2</td>\n",
       "      <td>78</td>\n",
       "      <td>0108kcWLnn2HlH2kedi1gn</td>\n",
       "      <td>Blank Space (Taylor's Version)</td>\n",
       "      <td>0.733</td>\n",
       "      <td>0.733</td>\n",
       "      <td>0.0</td>\n",
       "      <td>...</td>\n",
       "      <td>96.057</td>\n",
       "      <td>0108kcWLnn2HlH2kedi1gn</td>\n",
       "      <td>4.0</td>\n",
       "      <td>06HL4z0CvFAxyc27GX</td>\n",
       "      <td>Taylor Swift</td>\n",
       "      <td>120</td>\n",
       "      <td>1o59UpKw81iHR0HPiSkJR0</td>\n",
       "      <td>1989 (Taylor's Version) [Deluxe]</td>\n",
       "      <td>2023-10-27</td>\n",
       "      <td>22</td>\n",
       "    </tr>\n",
       "    <tr>\n",
       "      <th>2</th>\n",
       "      <td>1</td>\n",
       "      <td>231000</td>\n",
       "      <td>False</td>\n",
       "      <td>3</td>\n",
       "      <td>79</td>\n",
       "      <td>3Vpk1hfMAQme8VJ0SNRSkd</td>\n",
       "      <td>Style (Taylor's Version)</td>\n",
       "      <td>0.511</td>\n",
       "      <td>0.822</td>\n",
       "      <td>11.0</td>\n",
       "      <td>...</td>\n",
       "      <td>94.868</td>\n",
       "      <td>3Vpk1hfMAQme8VJ0SNRSkd</td>\n",
       "      <td>4.0</td>\n",
       "      <td>06HL4z0CvFAxyc27GX</td>\n",
       "      <td>Taylor Swift</td>\n",
       "      <td>120</td>\n",
       "      <td>1o59UpKw81iHR0HPiSkJR0</td>\n",
       "      <td>1989 (Taylor's Version) [Deluxe]</td>\n",
       "      <td>2023-10-27</td>\n",
       "      <td>22</td>\n",
       "    </tr>\n",
       "  </tbody>\n",
       "</table>\n",
       "<p>3 rows × 27 columns</p>\n",
       "</div>"
      ],
      "text/plain": [
       "   disc_number  duration_ms explicit  track_number  track_popularity  \\\n",
       "0            1       212600    False             1                77   \n",
       "1            1       231833    False             2                78   \n",
       "2            1       231000    False             3                79   \n",
       "\n",
       "                 track_id                              track_name  \\\n",
       "0  4WUepByoeqcedHoYhSNHRt  Welcome To New York (Taylor's Version)   \n",
       "1  0108kcWLnn2HlH2kedi1gn          Blank Space (Taylor's Version)   \n",
       "2  3Vpk1hfMAQme8VJ0SNRSkd                Style (Taylor's Version)   \n",
       "\n",
       "   audio_features.danceability  audio_features.energy  audio_features.key  \\\n",
       "0                        0.757                  0.610                 7.0   \n",
       "1                        0.733                  0.733                 0.0   \n",
       "2                        0.511                  0.822                11.0   \n",
       "\n",
       "   ...  audio_features.tempo       audio_features.id  \\\n",
       "0  ...               116.998  4WUepByoeqcedHoYhSNHRt   \n",
       "1  ...                96.057  0108kcWLnn2HlH2kedi1gn   \n",
       "2  ...                94.868  3Vpk1hfMAQme8VJ0SNRSkd   \n",
       "\n",
       "   audio_features.time_signature           artist_id   artist_name  \\\n",
       "0                            4.0  06HL4z0CvFAxyc27GX  Taylor Swift   \n",
       "1                            4.0  06HL4z0CvFAxyc27GX  Taylor Swift   \n",
       "2                            4.0  06HL4z0CvFAxyc27GX  Taylor Swift   \n",
       "\n",
       "   artist_popularity                album_id  \\\n",
       "0                120  1o59UpKw81iHR0HPiSkJR0   \n",
       "1                120  1o59UpKw81iHR0HPiSkJR0   \n",
       "2                120  1o59UpKw81iHR0HPiSkJR0   \n",
       "\n",
       "                         album_name album_release_date  album_total_tracks  \n",
       "0  1989 (Taylor's Version) [Deluxe]         2023-10-27                  22  \n",
       "1  1989 (Taylor's Version) [Deluxe]         2023-10-27                  22  \n",
       "2  1989 (Taylor's Version) [Deluxe]         2023-10-27                  22  \n",
       "\n",
       "[3 rows x 27 columns]"
      ]
     },
     "execution_count": 3,
     "metadata": {},
     "output_type": "execute_result"
    }
   ],
   "source": [
    "df.head(3)"
   ]
  },
  {
   "cell_type": "code",
   "execution_count": 4,
   "metadata": {},
   "outputs": [
    {
     "name": "stdout",
     "output_type": "stream",
     "text": [
      "disc_number\n",
      "duration_ms\n",
      "explicit\n",
      "track_number\n",
      "track_popularity\n",
      "track_id\n",
      "track_name\n",
      "audio_features.danceability\n",
      "audio_features.energy\n",
      "audio_features.key\n",
      "audio_features.loudness\n",
      "audio_features.mode\n",
      "audio_features.speechiness\n",
      "audio_features.acousticness\n",
      "audio_features.instrumentalness\n",
      "audio_features.liveness\n",
      "audio_features.valence\n",
      "audio_features.tempo\n",
      "audio_features.id\n",
      "audio_features.time_signature\n",
      "artist_id\n",
      "artist_name\n",
      "artist_popularity\n",
      "album_id\n",
      "album_name\n",
      "album_release_date\n",
      "album_total_tracks\n"
     ]
    }
   ],
   "source": [
    "columns = list(df.columns)\n",
    "\n",
    "for column in columns:\n",
    "    print(column)"
   ]
  },
  {
   "cell_type": "markdown",
   "metadata": {},
   "source": [
    "#### Variables <a class=\"anchor\" id=\"variables\"></a>\n",
    "\n",
    "- **disc_number:** (entero) Número del disco en que se aloja una pista, es usualmente ya que los álbumes no suelen estar compuestos por más de dos discos.\n",
    "\n",
    "- **duration_ms:** (entero) Duración de una pista en milisegundos.\n",
    "\n",
    "- **explicit:** (booleano) True si la pista contiene contentenido explícito o False si no contiene o no se sabe si tiene contenido explícito.\n",
    "    Prestar atención a este valor, ya que un False no necesariamente indica ausencia de contenido explícito.\n",
    "\n",
    "- **track_number:** (entero) El número de la pista. Si un álbum tiene varios discos, el número de pista es el número del disco especificado.\n",
    "\n",
    "- **track_popularity:** (entero) La popularidad de una pista tiene un valor entre 0 y 100, siendo 100 el más popular.<br>\n",
    "    La popularidad se calcula mediante un algoritmo y se basa, en su mayor parte, en el número total de reproducciones que ha tenido la pista y en lo recientes que son esas reproducciones.<br>\n",
    "    En términos generales, las canciones que se reproducen mucho ahora tendrán mayor popularidad que las canciones que se reproducen mucho en el pasado.<br>\n",
    "    Las pistas duplicadas (por ejemplo, la misma pista de una canción y un álbum) se clasifican de forma independiente.<br>\n",
    "    La popularidad del artista y del álbum se deriva matemáticamente de la popularidad de la pista.<br>\n",
    "    Hay que tener en cuenta que el valor de popularidad puede retrasarse unos días con respecto a la popularidad real ya que el valor no se actualiza en tiempo real.\n",
    "\n",
    "- **track_id:** (string) Un ID asignado por Spotify para la pista.\n",
    "\n",
    "- **track_name:** (string) Nombre de la pista.\n",
    "\n",
    "- **audio_features.danceability:** (punto flotante) La \"*bailabilidad*\" describe qué tan adecuada es una pista para bailar en función de una combinación de elementos musicales que incluyen el tempo, la estabilidad del ritmo, la fuerza del ritmo y la regularidad general. Un valor de 0,0 es el menos bailable y 1,0 es el más bailable.\n",
    "\n",
    "- **audio_features.energy:** (punto flotante) La energía es una medida de 0,0 a 1,0 y representa una medida perceptiva de intensidad y actividad.<br>\n",
    "    Normalmente, las pistas enérgicas se sienten rápidas, ruidosas y ruidosas. Por ejemplo, el death metal tiene mucha energía, mientras que un preludio de Bach obtiene una puntuación baja en la escala. Las características de percepción que contribuyen a este atributo incluyen rango dinámico, volumen percibido, timbre, velocidad de inicio y entropía general.\n",
    "\n",
    "- **audio_features.key:** (entero) La clave en la que se encuentra la pista. Los números enteros se asignan a los tonos utilizando la notación estándar de clase de tono.<br>\n",
    "    Por ejemplo 0 = C, 1 = C♯/D♭, 2 = D, y así sucesivamente.<br>\n",
    "    Si no se detectó ninguna clave, el valor es -1. **(Prestar atención a este valor)**<br>\n",
    "    Rango: -1 - 11\n",
    "\n",
    "- **audio_features.loudness:** (punto flotante) El volumen general de una pista en decibeles (dB).<br>\n",
    "    Los valores de sonoridad se promedian en toda la pista y son útiles para comparar el volumen relativo de las pistas. El volumen es la cualidad de un sonido que es el principal correlato psicológico de la fuerza física (amplitud). Los valores suelen oscilar entre -60 y 0 db.\n",
    "\n",
    "\n",
    "\n",
    "- **audio_features.mode:** (entero) Modo indica la modalidad (mayor o menor) de una pista, el tipo de escala de la que se deriva su contenido melódico.<br>\n",
    "El mayor está representado por 1 y el menor es 0.\n",
    "\n",
    "\n",
    "\n",
    "- **audio_features.speechiness:** (punto flotante) Speechiness detecta la presencia de palabras habladas en una pista.<br>\n",
    "    Cuanto más exclusivamente hablada sea la grabación (por ejemplo, un programa de entrevistas, un audiolibro, poesía), más cercano a 1,0 será el valor del atributo.<br>\n",
    "    Los valores superiores a 0,66 describen pistas que probablemente estén compuestas exclusivamente de palabras habladas.<br>\n",
    "    Los valores entre 0,33 y 0,66 describen pistas que pueden contener música y voz, ya sea en secciones o en capas, incluidos casos como la música rap.<br>\n",
    "    Los valores inferiores a 0,33 probablemente representen música y otras pistas que no sean de voz.\n",
    "\n",
    "- **audio_features.acousticness:** (punto flotante) Una medida de confianza de 0,0 a 1,0 sobre si la pista es acústica.<br>\n",
    "    1.0 representa una alta confianza en que la pista es acústica.\n",
    "\n",
    "- **audio_features.instrumentalness:** (punto flotante) Predice si una pista no contiene voces.<br>\n",
    "    Los sonidos \"Ooh\" y \"aah\" se tratan como instrumentales en este contexto.<br>\n",
    "    Las pistas de rap o de palabra hablada son claramente \"vocales\".<br>\n",
    "    Cuanto más cerca esté el valor de instrumentalidad de 1,0, mayor será la probabilidad de que la pista no contenga contenido vocal.<br>\n",
    "    Los valores superiores a 0,5 pretenden representar pistas instrumentales, pero la confianza es mayor a medida que el valor se acerca a 1,0.\n",
    "\n",
    "- **audio_features.liveness:** (punto flotante) Detecta la presencia de una audiencia en la grabación. Los valores de vida más altos representan una mayor probabilidad de que la pista se haya interpretado en vivo. Un valor superior a 0,8 proporciona una gran probabilidad de que la pista esté activa.\n",
    "\n",
    "- **audio_features.valence:** (punto flotante) Una medida de 0,0 a 1,0 que describe la positividad musical que transmite una pista.<br>\n",
    "    Las pistas con valencia alta suenan más positivas (por ejemplo, felices, alegres, eufóricas), mientras que las pistas con valencia baja suenan más negativas (por ejemplo, tristes, deprimidas, enojadas).\n",
    "\n",
    "- **audio_features.tempo:** (punto flotante) El tempo general estimado de una pista en pulsaciones por minuto (BPM).<br>\n",
    "    En terminología musical, el tempo es la velocidad o el ritmo de una pieza determinada y se deriva directamente de la duración promedio del tiempo.\n",
    "\n",
    "- **audio_features.id:**  (string) Un ID asignado por Spotify para la pista. ( controlar si es igual a track_id)\n",
    "\n",
    "- **audio_features.time_signature:** (punto flotante) Un compás estimado. El tipo de compás (metro) es una convención de notación para especificar cuántos tiempos hay en cada compás (o compás).\n",
    "    El tipo de compás varía de 3 a 7, lo que indica tipos de compás de \"3/4\" a \"7/4\".\n",
    "    Rango: 3 - 7\n",
    "\n",
    "- **artist_id:** (string) Un ID asignado por Spotify para el artista.\n",
    "\n",
    "- **artist_name:** (string) Nombre del artista.\n",
    "\n",
    "- **artist_popularity:** La popularidad del artista.<br>\n",
    "     El valor estará entre 0 y 100, siendo 100 el más popular.<br>\n",
    "     La popularidad del artista se calcula a partir de la popularidad de todas sus pistas.\n",
    "\n",
    "- **album_id:** (string) Un ID asignado por Spotify para el album.\n",
    "\n",
    "- **album_name:** (string) Nombre del album.\n",
    "\n",
    "- **album_release_date:** La fecha en que se lanzó el álbum por primera vez.<br>\n",
    "    Ejemplo: \"1981-12\"\n",
    "\n",
    "- **album_total_tracks:** (entero) Cantidad de pistas en un album.\n",
    "\n",
    "[Índice](#indice)"
   ]
  },
  {
   "cell_type": "markdown",
   "metadata": {},
   "source": [
    "---"
   ]
  },
  {
   "cell_type": "markdown",
   "metadata": {},
   "source": [
    "Comprobamos la variable track_number, que en un segundo disco, las pistas arrancan desde 1 y no continúan el conteo del primer disco"
   ]
  },
  {
   "cell_type": "code",
   "execution_count": 5,
   "metadata": {},
   "outputs": [
    {
     "data": {
      "text/html": [
       "<div>\n",
       "<style scoped>\n",
       "    .dataframe tbody tr th:only-of-type {\n",
       "        vertical-align: middle;\n",
       "    }\n",
       "\n",
       "    .dataframe tbody tr th {\n",
       "        vertical-align: top;\n",
       "    }\n",
       "\n",
       "    .dataframe thead th {\n",
       "        text-align: right;\n",
       "    }\n",
       "</style>\n",
       "<table border=\"1\" class=\"dataframe\">\n",
       "  <thead>\n",
       "    <tr style=\"text-align: right;\">\n",
       "      <th></th>\n",
       "      <th>disc_number</th>\n",
       "      <th>track_number</th>\n",
       "    </tr>\n",
       "  </thead>\n",
       "  <tbody>\n",
       "    <tr>\n",
       "      <th>227</th>\n",
       "      <td>2</td>\n",
       "      <td>1</td>\n",
       "    </tr>\n",
       "    <tr>\n",
       "      <th>228</th>\n",
       "      <td>2</td>\n",
       "      <td>2</td>\n",
       "    </tr>\n",
       "    <tr>\n",
       "      <th>229</th>\n",
       "      <td>2</td>\n",
       "      <td>3</td>\n",
       "    </tr>\n",
       "    <tr>\n",
       "      <th>230</th>\n",
       "      <td>2</td>\n",
       "      <td>4</td>\n",
       "    </tr>\n",
       "    <tr>\n",
       "      <th>231</th>\n",
       "      <td>2</td>\n",
       "      <td>5</td>\n",
       "    </tr>\n",
       "    <tr>\n",
       "      <th>232</th>\n",
       "      <td>2</td>\n",
       "      <td>6</td>\n",
       "    </tr>\n",
       "    <tr>\n",
       "      <th>233</th>\n",
       "      <td>2</td>\n",
       "      <td>7</td>\n",
       "    </tr>\n",
       "    <tr>\n",
       "      <th>234</th>\n",
       "      <td>2</td>\n",
       "      <td>8</td>\n",
       "    </tr>\n",
       "    <tr>\n",
       "      <th>235</th>\n",
       "      <td>2</td>\n",
       "      <td>9</td>\n",
       "    </tr>\n",
       "    <tr>\n",
       "      <th>236</th>\n",
       "      <td>2</td>\n",
       "      <td>10</td>\n",
       "    </tr>\n",
       "    <tr>\n",
       "      <th>237</th>\n",
       "      <td>2</td>\n",
       "      <td>11</td>\n",
       "    </tr>\n",
       "    <tr>\n",
       "      <th>238</th>\n",
       "      <td>2</td>\n",
       "      <td>12</td>\n",
       "    </tr>\n",
       "    <tr>\n",
       "      <th>239</th>\n",
       "      <td>2</td>\n",
       "      <td>13</td>\n",
       "    </tr>\n",
       "    <tr>\n",
       "      <th>240</th>\n",
       "      <td>2</td>\n",
       "      <td>14</td>\n",
       "    </tr>\n",
       "    <tr>\n",
       "      <th>241</th>\n",
       "      <td>2</td>\n",
       "      <td>15</td>\n",
       "    </tr>\n",
       "    <tr>\n",
       "      <th>242</th>\n",
       "      <td>2</td>\n",
       "      <td>16</td>\n",
       "    </tr>\n",
       "    <tr>\n",
       "      <th>243</th>\n",
       "      <td>2</td>\n",
       "      <td>17</td>\n",
       "    </tr>\n",
       "  </tbody>\n",
       "</table>\n",
       "</div>"
      ],
      "text/plain": [
       "     disc_number  track_number\n",
       "227            2             1\n",
       "228            2             2\n",
       "229            2             3\n",
       "230            2             4\n",
       "231            2             5\n",
       "232            2             6\n",
       "233            2             7\n",
       "234            2             8\n",
       "235            2             9\n",
       "236            2            10\n",
       "237            2            11\n",
       "238            2            12\n",
       "239            2            13\n",
       "240            2            14\n",
       "241            2            15\n",
       "242            2            16\n",
       "243            2            17"
      ]
     },
     "execution_count": 5,
     "metadata": {},
     "output_type": "execute_result"
    }
   ],
   "source": [
    "cd2 = df[df['disc_number'] == 2]\n",
    "cd2[['disc_number', 'track_number']]"
   ]
  },
  {
   "cell_type": "markdown",
   "metadata": {},
   "source": [
    "En este caso el disco dos no arranca con la pista **18**, si no que con la pista **1**."
   ]
  },
  {
   "cell_type": "code",
   "execution_count": 6,
   "metadata": {},
   "outputs": [
    {
     "data": {
      "text/html": [
       "<div>\n",
       "<style scoped>\n",
       "    .dataframe tbody tr th:only-of-type {\n",
       "        vertical-align: middle;\n",
       "    }\n",
       "\n",
       "    .dataframe tbody tr th {\n",
       "        vertical-align: top;\n",
       "    }\n",
       "\n",
       "    .dataframe thead th {\n",
       "        text-align: right;\n",
       "    }\n",
       "</style>\n",
       "<table border=\"1\" class=\"dataframe\">\n",
       "  <thead>\n",
       "    <tr style=\"text-align: right;\">\n",
       "      <th></th>\n",
       "      <th>album_name</th>\n",
       "      <th>disc_number</th>\n",
       "      <th>track_number</th>\n",
       "    </tr>\n",
       "  </thead>\n",
       "  <tbody>\n",
       "    <tr>\n",
       "      <th>220</th>\n",
       "      <td>folklore: the long pond studio sessions (from ...</td>\n",
       "      <td>1</td>\n",
       "      <td>11</td>\n",
       "    </tr>\n",
       "    <tr>\n",
       "      <th>221</th>\n",
       "      <td>folklore: the long pond studio sessions (from ...</td>\n",
       "      <td>1</td>\n",
       "      <td>12</td>\n",
       "    </tr>\n",
       "    <tr>\n",
       "      <th>222</th>\n",
       "      <td>folklore: the long pond studio sessions (from ...</td>\n",
       "      <td>1</td>\n",
       "      <td>13</td>\n",
       "    </tr>\n",
       "    <tr>\n",
       "      <th>223</th>\n",
       "      <td>folklore: the long pond studio sessions (from ...</td>\n",
       "      <td>1</td>\n",
       "      <td>14</td>\n",
       "    </tr>\n",
       "    <tr>\n",
       "      <th>224</th>\n",
       "      <td>folklore: the long pond studio sessions (from ...</td>\n",
       "      <td>1</td>\n",
       "      <td>15</td>\n",
       "    </tr>\n",
       "    <tr>\n",
       "      <th>225</th>\n",
       "      <td>folklore: the long pond studio sessions (from ...</td>\n",
       "      <td>1</td>\n",
       "      <td>16</td>\n",
       "    </tr>\n",
       "    <tr>\n",
       "      <th>226</th>\n",
       "      <td>folklore: the long pond studio sessions (from ...</td>\n",
       "      <td>1</td>\n",
       "      <td>17</td>\n",
       "    </tr>\n",
       "    <tr>\n",
       "      <th>227</th>\n",
       "      <td>folklore: the long pond studio sessions (from ...</td>\n",
       "      <td>2</td>\n",
       "      <td>1</td>\n",
       "    </tr>\n",
       "    <tr>\n",
       "      <th>228</th>\n",
       "      <td>folklore: the long pond studio sessions (from ...</td>\n",
       "      <td>2</td>\n",
       "      <td>2</td>\n",
       "    </tr>\n",
       "    <tr>\n",
       "      <th>229</th>\n",
       "      <td>folklore: the long pond studio sessions (from ...</td>\n",
       "      <td>2</td>\n",
       "      <td>3</td>\n",
       "    </tr>\n",
       "    <tr>\n",
       "      <th>230</th>\n",
       "      <td>folklore: the long pond studio sessions (from ...</td>\n",
       "      <td>2</td>\n",
       "      <td>4</td>\n",
       "    </tr>\n",
       "    <tr>\n",
       "      <th>231</th>\n",
       "      <td>folklore: the long pond studio sessions (from ...</td>\n",
       "      <td>2</td>\n",
       "      <td>5</td>\n",
       "    </tr>\n",
       "    <tr>\n",
       "      <th>232</th>\n",
       "      <td>folklore: the long pond studio sessions (from ...</td>\n",
       "      <td>2</td>\n",
       "      <td>6</td>\n",
       "    </tr>\n",
       "    <tr>\n",
       "      <th>233</th>\n",
       "      <td>folklore: the long pond studio sessions (from ...</td>\n",
       "      <td>2</td>\n",
       "      <td>7</td>\n",
       "    </tr>\n",
       "    <tr>\n",
       "      <th>234</th>\n",
       "      <td>folklore: the long pond studio sessions (from ...</td>\n",
       "      <td>2</td>\n",
       "      <td>8</td>\n",
       "    </tr>\n",
       "  </tbody>\n",
       "</table>\n",
       "</div>"
      ],
      "text/plain": [
       "                                            album_name  disc_number  \\\n",
       "220  folklore: the long pond studio sessions (from ...            1   \n",
       "221  folklore: the long pond studio sessions (from ...            1   \n",
       "222  folklore: the long pond studio sessions (from ...            1   \n",
       "223  folklore: the long pond studio sessions (from ...            1   \n",
       "224  folklore: the long pond studio sessions (from ...            1   \n",
       "225  folklore: the long pond studio sessions (from ...            1   \n",
       "226  folklore: the long pond studio sessions (from ...            1   \n",
       "227  folklore: the long pond studio sessions (from ...            2   \n",
       "228  folklore: the long pond studio sessions (from ...            2   \n",
       "229  folklore: the long pond studio sessions (from ...            2   \n",
       "230  folklore: the long pond studio sessions (from ...            2   \n",
       "231  folklore: the long pond studio sessions (from ...            2   \n",
       "232  folklore: the long pond studio sessions (from ...            2   \n",
       "233  folklore: the long pond studio sessions (from ...            2   \n",
       "234  folklore: the long pond studio sessions (from ...            2   \n",
       "\n",
       "     track_number  \n",
       "220            11  \n",
       "221            12  \n",
       "222            13  \n",
       "223            14  \n",
       "224            15  \n",
       "225            16  \n",
       "226            17  \n",
       "227             1  \n",
       "228             2  \n",
       "229             3  \n",
       "230             4  \n",
       "231             5  \n",
       "232             6  \n",
       "233             7  \n",
       "234             8  "
      ]
     },
     "execution_count": 6,
     "metadata": {},
     "output_type": "execute_result"
    }
   ],
   "source": [
    "cd2 = df.iloc[220:235,:]\n",
    "cd2[['album_name','disc_number', 'track_number']]"
   ]
  },
  {
   "cell_type": "code",
   "execution_count": 7,
   "metadata": {},
   "outputs": [
    {
     "data": {
      "text/plain": [
       "(539, 27)"
      ]
     },
     "execution_count": 7,
     "metadata": {},
     "output_type": "execute_result"
    }
   ],
   "source": [
    "df.shape"
   ]
  },
  {
   "cell_type": "code",
   "execution_count": 8,
   "metadata": {},
   "outputs": [
    {
     "data": {
      "text/html": [
       "<div>\n",
       "<style scoped>\n",
       "    .dataframe tbody tr th:only-of-type {\n",
       "        vertical-align: middle;\n",
       "    }\n",
       "\n",
       "    .dataframe tbody tr th {\n",
       "        vertical-align: top;\n",
       "    }\n",
       "\n",
       "    .dataframe thead th {\n",
       "        text-align: right;\n",
       "    }\n",
       "</style>\n",
       "<table border=\"1\" class=\"dataframe\">\n",
       "  <thead>\n",
       "    <tr style=\"text-align: right;\">\n",
       "      <th></th>\n",
       "      <th>disc_number</th>\n",
       "      <th>duration_ms</th>\n",
       "      <th>track_number</th>\n",
       "      <th>track_popularity</th>\n",
       "      <th>audio_features.danceability</th>\n",
       "      <th>audio_features.energy</th>\n",
       "      <th>audio_features.key</th>\n",
       "      <th>audio_features.loudness</th>\n",
       "      <th>audio_features.mode</th>\n",
       "      <th>audio_features.speechiness</th>\n",
       "      <th>audio_features.acousticness</th>\n",
       "      <th>audio_features.liveness</th>\n",
       "      <th>audio_features.valence</th>\n",
       "      <th>audio_features.tempo</th>\n",
       "      <th>audio_features.time_signature</th>\n",
       "      <th>artist_popularity</th>\n",
       "    </tr>\n",
       "  </thead>\n",
       "  <tbody>\n",
       "    <tr>\n",
       "      <th>count</th>\n",
       "      <td>539.000000</td>\n",
       "      <td>539.000000</td>\n",
       "      <td>539.000000</td>\n",
       "      <td>539.000000</td>\n",
       "      <td>537.000000</td>\n",
       "      <td>537.000000</td>\n",
       "      <td>538.000000</td>\n",
       "      <td>537.000000</td>\n",
       "      <td>539.000000</td>\n",
       "      <td>538.000000</td>\n",
       "      <td>538.000000</td>\n",
       "      <td>538.000000</td>\n",
       "      <td>539.000000</td>\n",
       "      <td>538.000000</td>\n",
       "      <td>538.000000</td>\n",
       "      <td>539.0</td>\n",
       "    </tr>\n",
       "    <tr>\n",
       "      <th>mean</th>\n",
       "      <td>1.031540</td>\n",
       "      <td>236003.725417</td>\n",
       "      <td>11.280148</td>\n",
       "      <td>62.918367</td>\n",
       "      <td>0.587242</td>\n",
       "      <td>0.573065</td>\n",
       "      <td>4.587361</td>\n",
       "      <td>-7.520639</td>\n",
       "      <td>0.912801</td>\n",
       "      <td>0.057709</td>\n",
       "      <td>0.337806</td>\n",
       "      <td>0.163308</td>\n",
       "      <td>0.398410</td>\n",
       "      <td>122.362639</td>\n",
       "      <td>3.986989</td>\n",
       "      <td>120.0</td>\n",
       "    </tr>\n",
       "    <tr>\n",
       "      <th>std</th>\n",
       "      <td>0.174934</td>\n",
       "      <td>55019.871010</td>\n",
       "      <td>7.965621</td>\n",
       "      <td>22.498757</td>\n",
       "      <td>0.116858</td>\n",
       "      <td>0.192309</td>\n",
       "      <td>3.246082</td>\n",
       "      <td>2.933158</td>\n",
       "      <td>0.282388</td>\n",
       "      <td>0.073146</td>\n",
       "      <td>0.395292</td>\n",
       "      <td>0.141800</td>\n",
       "      <td>0.199409</td>\n",
       "      <td>30.485522</td>\n",
       "      <td>0.197323</td>\n",
       "      <td>0.0</td>\n",
       "    </tr>\n",
       "    <tr>\n",
       "      <th>min</th>\n",
       "      <td>1.000000</td>\n",
       "      <td>-223093.000000</td>\n",
       "      <td>1.000000</td>\n",
       "      <td>-92.000000</td>\n",
       "      <td>0.243000</td>\n",
       "      <td>0.118000</td>\n",
       "      <td>0.000000</td>\n",
       "      <td>-17.932000</td>\n",
       "      <td>0.000000</td>\n",
       "      <td>0.023100</td>\n",
       "      <td>-0.003540</td>\n",
       "      <td>0.033500</td>\n",
       "      <td>0.037400</td>\n",
       "      <td>68.097000</td>\n",
       "      <td>3.000000</td>\n",
       "      <td>120.0</td>\n",
       "    </tr>\n",
       "    <tr>\n",
       "      <th>25%</th>\n",
       "      <td>1.000000</td>\n",
       "      <td>209486.500000</td>\n",
       "      <td>5.000000</td>\n",
       "      <td>51.000000</td>\n",
       "      <td>0.517000</td>\n",
       "      <td>0.436000</td>\n",
       "      <td>2.000000</td>\n",
       "      <td>-9.287000</td>\n",
       "      <td>1.000000</td>\n",
       "      <td>0.030525</td>\n",
       "      <td>0.036250</td>\n",
       "      <td>0.096500</td>\n",
       "      <td>0.230000</td>\n",
       "      <td>96.684500</td>\n",
       "      <td>4.000000</td>\n",
       "      <td>120.0</td>\n",
       "    </tr>\n",
       "    <tr>\n",
       "      <th>50%</th>\n",
       "      <td>1.000000</td>\n",
       "      <td>233626.000000</td>\n",
       "      <td>10.000000</td>\n",
       "      <td>69.000000</td>\n",
       "      <td>0.595000</td>\n",
       "      <td>0.589000</td>\n",
       "      <td>5.000000</td>\n",
       "      <td>-6.942000</td>\n",
       "      <td>1.000000</td>\n",
       "      <td>0.037750</td>\n",
       "      <td>0.167500</td>\n",
       "      <td>0.115000</td>\n",
       "      <td>0.386000</td>\n",
       "      <td>119.000500</td>\n",
       "      <td>4.000000</td>\n",
       "      <td>120.0</td>\n",
       "    </tr>\n",
       "    <tr>\n",
       "      <th>75%</th>\n",
       "      <td>1.000000</td>\n",
       "      <td>259045.500000</td>\n",
       "      <td>15.000000</td>\n",
       "      <td>77.000000</td>\n",
       "      <td>0.661000</td>\n",
       "      <td>0.729000</td>\n",
       "      <td>7.000000</td>\n",
       "      <td>-5.376000</td>\n",
       "      <td>1.000000</td>\n",
       "      <td>0.056400</td>\n",
       "      <td>0.663750</td>\n",
       "      <td>0.162250</td>\n",
       "      <td>0.535000</td>\n",
       "      <td>143.939000</td>\n",
       "      <td>4.000000</td>\n",
       "      <td>120.0</td>\n",
       "    </tr>\n",
       "    <tr>\n",
       "      <th>max</th>\n",
       "      <td>2.000000</td>\n",
       "      <td>613026.000000</td>\n",
       "      <td>46.000000</td>\n",
       "      <td>152.000000</td>\n",
       "      <td>0.897000</td>\n",
       "      <td>0.949000</td>\n",
       "      <td>11.000000</td>\n",
       "      <td>-1.909000</td>\n",
       "      <td>1.000000</td>\n",
       "      <td>0.912000</td>\n",
       "      <td>5.000000</td>\n",
       "      <td>0.931000</td>\n",
       "      <td>0.943000</td>\n",
       "      <td>208.918000</td>\n",
       "      <td>5.000000</td>\n",
       "      <td>120.0</td>\n",
       "    </tr>\n",
       "  </tbody>\n",
       "</table>\n",
       "</div>"
      ],
      "text/plain": [
       "       disc_number    duration_ms  track_number  track_popularity  \\\n",
       "count   539.000000     539.000000    539.000000        539.000000   \n",
       "mean      1.031540  236003.725417     11.280148         62.918367   \n",
       "std       0.174934   55019.871010      7.965621         22.498757   \n",
       "min       1.000000 -223093.000000      1.000000        -92.000000   \n",
       "25%       1.000000  209486.500000      5.000000         51.000000   \n",
       "50%       1.000000  233626.000000     10.000000         69.000000   \n",
       "75%       1.000000  259045.500000     15.000000         77.000000   \n",
       "max       2.000000  613026.000000     46.000000        152.000000   \n",
       "\n",
       "       audio_features.danceability  audio_features.energy  audio_features.key  \\\n",
       "count                   537.000000             537.000000          538.000000   \n",
       "mean                      0.587242               0.573065            4.587361   \n",
       "std                       0.116858               0.192309            3.246082   \n",
       "min                       0.243000               0.118000            0.000000   \n",
       "25%                       0.517000               0.436000            2.000000   \n",
       "50%                       0.595000               0.589000            5.000000   \n",
       "75%                       0.661000               0.729000            7.000000   \n",
       "max                       0.897000               0.949000           11.000000   \n",
       "\n",
       "       audio_features.loudness  audio_features.mode  \\\n",
       "count               537.000000           539.000000   \n",
       "mean                 -7.520639             0.912801   \n",
       "std                   2.933158             0.282388   \n",
       "min                 -17.932000             0.000000   \n",
       "25%                  -9.287000             1.000000   \n",
       "50%                  -6.942000             1.000000   \n",
       "75%                  -5.376000             1.000000   \n",
       "max                  -1.909000             1.000000   \n",
       "\n",
       "       audio_features.speechiness  audio_features.acousticness  \\\n",
       "count                  538.000000                   538.000000   \n",
       "mean                     0.057709                     0.337806   \n",
       "std                      0.073146                     0.395292   \n",
       "min                      0.023100                    -0.003540   \n",
       "25%                      0.030525                     0.036250   \n",
       "50%                      0.037750                     0.167500   \n",
       "75%                      0.056400                     0.663750   \n",
       "max                      0.912000                     5.000000   \n",
       "\n",
       "       audio_features.liveness  audio_features.valence  audio_features.tempo  \\\n",
       "count               538.000000              539.000000            538.000000   \n",
       "mean                  0.163308                0.398410            122.362639   \n",
       "std                   0.141800                0.199409             30.485522   \n",
       "min                   0.033500                0.037400             68.097000   \n",
       "25%                   0.096500                0.230000             96.684500   \n",
       "50%                   0.115000                0.386000            119.000500   \n",
       "75%                   0.162250                0.535000            143.939000   \n",
       "max                   0.931000                0.943000            208.918000   \n",
       "\n",
       "       audio_features.time_signature  artist_popularity  \n",
       "count                     538.000000              539.0  \n",
       "mean                        3.986989              120.0  \n",
       "std                         0.197323                0.0  \n",
       "min                         3.000000              120.0  \n",
       "25%                         4.000000              120.0  \n",
       "50%                         4.000000              120.0  \n",
       "75%                         4.000000              120.0  \n",
       "max                         5.000000              120.0  "
      ]
     },
     "execution_count": 8,
     "metadata": {},
     "output_type": "execute_result"
    }
   ],
   "source": [
    "df.describe()"
   ]
  },
  {
   "cell_type": "code",
   "execution_count": 9,
   "metadata": {},
   "outputs": [
    {
     "name": "stdout",
     "output_type": "stream",
     "text": [
      "<class 'pandas.core.frame.DataFrame'>\n",
      "RangeIndex: 539 entries, 0 to 538\n",
      "Data columns (total 27 columns):\n",
      " #   Column                           Non-Null Count  Dtype  \n",
      "---  ------                           --------------  -----  \n",
      " 0   disc_number                      539 non-null    int64  \n",
      " 1   duration_ms                      539 non-null    int64  \n",
      " 2   explicit                         539 non-null    object \n",
      " 3   track_number                     539 non-null    int64  \n",
      " 4   track_popularity                 539 non-null    int64  \n",
      " 5   track_id                         531 non-null    object \n",
      " 6   track_name                       532 non-null    object \n",
      " 7   audio_features.danceability      537 non-null    float64\n",
      " 8   audio_features.energy            537 non-null    float64\n",
      " 9   audio_features.key               538 non-null    float64\n",
      " 10  audio_features.loudness          537 non-null    float64\n",
      " 11  audio_features.mode              539 non-null    int64  \n",
      " 12  audio_features.speechiness       538 non-null    float64\n",
      " 13  audio_features.acousticness      538 non-null    float64\n",
      " 14  audio_features.instrumentalness  539 non-null    object \n",
      " 15  audio_features.liveness          538 non-null    float64\n",
      " 16  audio_features.valence           539 non-null    float64\n",
      " 17  audio_features.tempo             538 non-null    float64\n",
      " 18  audio_features.id                539 non-null    object \n",
      " 19  audio_features.time_signature    538 non-null    float64\n",
      " 20  artist_id                        539 non-null    object \n",
      " 21  artist_name                      539 non-null    object \n",
      " 22  artist_popularity                539 non-null    int64  \n",
      " 23  album_id                         539 non-null    object \n",
      " 24  album_name                       477 non-null    object \n",
      " 25  album_release_date               539 non-null    object \n",
      " 26  album_total_tracks               539 non-null    object \n",
      "dtypes: float64(10), int64(6), object(11)\n",
      "memory usage: 113.8+ KB\n"
     ]
    }
   ],
   "source": [
    "df.info()"
   ]
  },
  {
   "cell_type": "markdown",
   "metadata": {},
   "source": [
    "---"
   ]
  },
  {
   "cell_type": "markdown",
   "metadata": {},
   "source": [
    "### 2 - Completeness <a class=\"anchor\" id=\"completeness\"></a>\n",
    "\n",
    "[Índice](#indice)"
   ]
  },
  {
   "cell_type": "markdown",
   "metadata": {},
   "source": [
    "Cantidad de nulos por columnas"
   ]
  },
  {
   "cell_type": "code",
   "execution_count": 10,
   "metadata": {},
   "outputs": [
    {
     "data": {
      "text/plain": [
       "disc_number                         0\n",
       "duration_ms                         0\n",
       "explicit                            0\n",
       "track_number                        0\n",
       "track_popularity                    0\n",
       "track_id                            8\n",
       "track_name                          7\n",
       "audio_features.danceability         2\n",
       "audio_features.energy               2\n",
       "audio_features.key                  1\n",
       "audio_features.loudness             2\n",
       "audio_features.mode                 0\n",
       "audio_features.speechiness          1\n",
       "audio_features.acousticness         1\n",
       "audio_features.instrumentalness     0\n",
       "audio_features.liveness             1\n",
       "audio_features.valence              0\n",
       "audio_features.tempo                1\n",
       "audio_features.id                   0\n",
       "audio_features.time_signature       1\n",
       "artist_id                           0\n",
       "artist_name                         0\n",
       "artist_popularity                   0\n",
       "album_id                            0\n",
       "album_name                         62\n",
       "album_release_date                  0\n",
       "album_total_tracks                  0\n",
       "dtype: int64"
      ]
     },
     "execution_count": 10,
     "metadata": {},
     "output_type": "execute_result"
    }
   ],
   "source": [
    "df.isnull().sum()"
   ]
  },
  {
   "cell_type": "markdown",
   "metadata": {},
   "source": [
    "Porcentaje de nulos por columnas"
   ]
  },
  {
   "cell_type": "code",
   "execution_count": 11,
   "metadata": {},
   "outputs": [
    {
     "data": {
      "text/plain": [
       "disc_number                         0.000000\n",
       "duration_ms                         0.000000\n",
       "explicit                            0.000000\n",
       "track_number                        0.000000\n",
       "track_popularity                    0.000000\n",
       "track_id                            1.484230\n",
       "track_name                          1.298701\n",
       "audio_features.danceability         0.371058\n",
       "audio_features.energy               0.371058\n",
       "audio_features.key                  0.185529\n",
       "audio_features.loudness             0.371058\n",
       "audio_features.mode                 0.000000\n",
       "audio_features.speechiness          0.185529\n",
       "audio_features.acousticness         0.185529\n",
       "audio_features.instrumentalness     0.000000\n",
       "audio_features.liveness             0.185529\n",
       "audio_features.valence              0.000000\n",
       "audio_features.tempo                0.185529\n",
       "audio_features.id                   0.000000\n",
       "audio_features.time_signature       0.185529\n",
       "artist_id                           0.000000\n",
       "artist_name                         0.000000\n",
       "artist_popularity                   0.000000\n",
       "album_id                            0.000000\n",
       "album_name                         11.502783\n",
       "album_release_date                  0.000000\n",
       "album_total_tracks                  0.000000\n",
       "dtype: float64"
      ]
     },
     "execution_count": 11,
     "metadata": {},
     "output_type": "execute_result"
    }
   ],
   "source": [
    "df.isnull().sum() / df.shape[0] * 100"
   ]
  },
  {
   "cell_type": "code",
   "execution_count": 12,
   "metadata": {},
   "outputs": [
    {
     "name": "stdout",
     "output_type": "stream",
     "text": [
      "En el data frame tenemos 89 registros nulos.\n",
      "Estos datos nulos representan un 0.61% del total de la data.\n",
      "Completeness = 99.39%\n"
     ]
    }
   ],
   "source": [
    "nulos = df.isnull().sum().sum()\n",
    "\n",
    "print(f\"En el data frame tenemos {nulos} registros nulos.\")\n",
    "\n",
    "porcentaje_nulos = round(nulos / df.size * 100, 2)\n",
    "\n",
    "print(f\"Estos datos nulos representan un {porcentaje_nulos}% del total de la data.\")\n",
    "\n",
    "completeness = 100 - porcentaje_nulos\n",
    "\n",
    "print(f'Completeness = {completeness}%')"
   ]
  },
  {
   "cell_type": "code",
   "execution_count": 13,
   "metadata": {},
   "outputs": [
    {
     "data": {
      "text/plain": [
       "<Axes: >"
      ]
     },
     "execution_count": 13,
     "metadata": {},
     "output_type": "execute_result"
    },
    {
     "data": {
      "image/png": "[encoded data removed]",
      "text/plain": [
       "<Figure size 640x480 with 1 Axes>"
      ]
     },
     "metadata": {},
     "output_type": "display_data"
    }
   ],
   "source": [
    "df.isna().sum()[df.isna().sum() > 0].plot(kind='bar')"
   ]
  },
  {
   "cell_type": "code",
   "execution_count": 14,
   "metadata": {},
   "outputs": [
    {
     "data": {
      "image/png": "[encoded data removed]",
      "text/plain": [
       "<Figure size 640x480 with 1 Axes>"
      ]
     },
     "metadata": {},
     "output_type": "display_data"
    }
   ],
   "source": [
    "comp_labels = ['Complete', 'Missing']\n",
    "\n",
    "comp_data = [completeness, 100 - completeness]\n",
    "\n",
    "plt.pie(comp_data, labels=comp_labels, autopct='%1.1f%%', pctdistance=0.85)\n",
    "\n",
    "centre_circle = plt.Circle((0, 0), 0.70, fc='white')\n",
    "fig = plt.gcf()\n",
    "\n",
    "fig.gca().add_artist(centre_circle)\n",
    "\n",
    "plt.title('Completeness')\n",
    "\n",
    "plt.show()"
   ]
  },
  {
   "cell_type": "markdown",
   "metadata": {},
   "source": [
    "#### Completeness = 99.39% <a class=\"anchor\" id=\"puntuacion_1\"></a>\n",
    "\n",
    "[Índice](#indice)"
   ]
  },
  {
   "cell_type": "markdown",
   "metadata": {},
   "source": [
    "---"
   ]
  },
  {
   "cell_type": "markdown",
   "metadata": {},
   "source": [
    "### 3 - Uniqueness <a class=\"anchor\" id=\"uniqueness\"></a>\n",
    "\n",
    "[Índice](#indice)"
   ]
  },
  {
   "cell_type": "markdown",
   "metadata": {},
   "source": [
    "Vamos a listar los valores únicos de algunas columnas, para analizarlas, vamos a exceptuar las columnas con variables continuas.\n",
    "\n",
    "Deberíamos cumplir con algunas espectativas:\n",
    "- explicit True or False\n",
    "- track_id >= track_name\n",
    "- audio_features.key entre -1 y 11 (13 + nan)\n",
    "- audio_features.id == track_id\n",
    "- audio_features.time_signature entre 3 y 7 (5 + nan)\n",
    "- album_name == album_id == album_release_date\n"
   ]
  },
  {
   "cell_type": "code",
   "execution_count": 15,
   "metadata": {},
   "outputs": [
    {
     "data": {
      "text/plain": [
       "disc_number                        2\n",
       "explicit                           4\n",
       "track_id                         512\n",
       "track_name                       331\n",
       "audio_features.key                12\n",
       "audio_features.id                519\n",
       "audio_features.time_signature      3\n",
       "artist_id                          1\n",
       "artist_name                        1\n",
       "artist_popularity                  1\n",
       "album_id                          26\n",
       "album_name                        24\n",
       "album_release_date                23\n",
       "dtype: int64"
      ]
     },
     "execution_count": 15,
     "metadata": {},
     "output_type": "execute_result"
    }
   ],
   "source": [
    "# explicit True or False\n",
    "# track_id >= track_name\n",
    "# audio_features.key entre -1 y 11 (13 + nan)\n",
    "# audio_features.id == track_id\n",
    "# audio_features.time_signature entre 3 y 7 (5 + nan)\n",
    "# album_name == album_id == album_release_date\n",
    "\n",
    "df[['disc_number',\n",
    "    'explicit',\n",
    "    'track_id',\n",
    "    'track_name',\n",
    "    'audio_features.key',\n",
    "    'audio_features.id',\n",
    "    'audio_features.time_signature',\n",
    "    'artist_id',\n",
    "    'artist_name',\n",
    "    'artist_popularity',\n",
    "    'album_id',\n",
    "    'album_name',\n",
    "    'album_release_date'\n",
    "    ]].nunique()"
   ]
  },
  {
   "cell_type": "code",
   "execution_count": 16,
   "metadata": {},
   "outputs": [
    {
     "data": {
      "text/plain": [
       "array([ 7.,  0., 11.,  8.,  5.,  1.,  4.,  3.,  9.,  2., 10.,  6., nan])"
      ]
     },
     "execution_count": 16,
     "metadata": {},
     "output_type": "execute_result"
    }
   ],
   "source": [
    "df['audio_features.key'].unique()"
   ]
  },
  {
   "cell_type": "markdown",
   "metadata": {},
   "source": [
    "En la columna de contenido explícito vemos una incosistencia de los datos, ya que no solo tenemos True or False, si no que también tenemos Si y No."
   ]
  },
  {
   "cell_type": "code",
   "execution_count": 17,
   "metadata": {},
   "outputs": [
    {
     "data": {
      "text/plain": [
       "array(['False', 'True', 'Si', 'No'], dtype=object)"
      ]
     },
     "execution_count": 17,
     "metadata": {},
     "output_type": "execute_result"
    }
   ],
   "source": [
    "df.explicit.unique()"
   ]
  },
  {
   "cell_type": "code",
   "execution_count": 18,
   "metadata": {},
   "outputs": [
    {
     "data": {
      "text/plain": [
       "array([ 4.,  3.,  5., nan])"
      ]
     },
     "execution_count": 18,
     "metadata": {},
     "output_type": "execute_result"
    }
   ],
   "source": [
    "df['audio_features.time_signature'].unique()"
   ]
  },
  {
   "cell_type": "markdown",
   "metadata": {},
   "source": [
    "En las fechas vemos que todos los valores están en un formato correcto (mas adelante lo vamos a comprobar con código, ya que es en este caso tenemos pocas, pero en una base de datos grandes deberíamos poder comprobar el formato de la misma con código).\n",
    "También vemos que todos los valores son únicos por lo que cumple con lo que buscamos en esta sección, mas adelante veremos también los valores fuera de rango."
   ]
  },
  {
   "cell_type": "code",
   "execution_count": 19,
   "metadata": {},
   "outputs": [
    {
     "data": {
      "text/plain": [
       "['1989-10-24',\n",
       " '2008-06-28',\n",
       " '2008-11-11',\n",
       " '2010-01-01',\n",
       " '2010-10-25',\n",
       " '2012-10-22',\n",
       " '2014-01-01',\n",
       " '2017-11-09',\n",
       " '2017-11-10',\n",
       " '2019-08-23',\n",
       " '2020-07-24',\n",
       " '2020-08-18',\n",
       " '2020-11-25',\n",
       " '2020-12-11',\n",
       " '2021-01-07',\n",
       " '2021-04-09',\n",
       " '2021-11-12',\n",
       " '2022-10-21',\n",
       " '2022-10-22',\n",
       " '2023-07-07',\n",
       " '2023-10-26',\n",
       " '2023-10-27',\n",
       " '2027-05-26']"
      ]
     },
     "execution_count": 19,
     "metadata": {},
     "output_type": "execute_result"
    }
   ],
   "source": [
    "fechas = list(df['album_release_date'].unique())\n",
    "fechas.sort()\n",
    "fechas"
   ]
  },
  {
   "cell_type": "markdown",
   "metadata": {},
   "source": [
    "Podemos ver que la columna **track_id** no solo es redundante, ya que el contenido es exactamente el mismo que el de la columna **audio_features.id**, si no que también aporta datos faltantes."
   ]
  },
  {
   "cell_type": "code",
   "execution_count": 20,
   "metadata": {},
   "outputs": [
    {
     "data": {
      "text/html": [
       "<div>\n",
       "<style scoped>\n",
       "    .dataframe tbody tr th:only-of-type {\n",
       "        vertical-align: middle;\n",
       "    }\n",
       "\n",
       "    .dataframe tbody tr th {\n",
       "        vertical-align: top;\n",
       "    }\n",
       "\n",
       "    .dataframe thead th {\n",
       "        text-align: right;\n",
       "    }\n",
       "</style>\n",
       "<table border=\"1\" class=\"dataframe\">\n",
       "  <thead>\n",
       "    <tr style=\"text-align: right;\">\n",
       "      <th></th>\n",
       "      <th>self</th>\n",
       "      <th>other</th>\n",
       "    </tr>\n",
       "  </thead>\n",
       "  <tbody>\n",
       "    <tr>\n",
       "      <th>321</th>\n",
       "      <td>NaN</td>\n",
       "      <td>1ZY1PqizIl78geGM4xWlEA</td>\n",
       "    </tr>\n",
       "    <tr>\n",
       "      <th>363</th>\n",
       "      <td>NaN</td>\n",
       "      <td>5zytSTR2g0I9psX2Z12ex6</td>\n",
       "    </tr>\n",
       "    <tr>\n",
       "      <th>375</th>\n",
       "      <td>NaN</td>\n",
       "      <td>3nRmDz7qGCvsMS30rGGY0x</td>\n",
       "    </tr>\n",
       "    <tr>\n",
       "      <th>379</th>\n",
       "      <td>NaN</td>\n",
       "      <td>6aLOekfwbytwWvQftxTEF0</td>\n",
       "    </tr>\n",
       "    <tr>\n",
       "      <th>382</th>\n",
       "      <td>NaN</td>\n",
       "      <td>2NlmmAjGYrrjAp0MED5rGx</td>\n",
       "    </tr>\n",
       "    <tr>\n",
       "      <th>434</th>\n",
       "      <td>NaN</td>\n",
       "      <td>1IsquhJFJ0qcFZI7FeAEuN</td>\n",
       "    </tr>\n",
       "    <tr>\n",
       "      <th>442</th>\n",
       "      <td>NaN</td>\n",
       "      <td>3lm4L3pPL32PFy74dR17OR</td>\n",
       "    </tr>\n",
       "    <tr>\n",
       "      <th>445</th>\n",
       "      <td>NaN</td>\n",
       "      <td>0GxW5K0qzrq7L1jwSY5OmY</td>\n",
       "    </tr>\n",
       "  </tbody>\n",
       "</table>\n",
       "</div>"
      ],
      "text/plain": [
       "    self                   other\n",
       "321  NaN  1ZY1PqizIl78geGM4xWlEA\n",
       "363  NaN  5zytSTR2g0I9psX2Z12ex6\n",
       "375  NaN  3nRmDz7qGCvsMS30rGGY0x\n",
       "379  NaN  6aLOekfwbytwWvQftxTEF0\n",
       "382  NaN  2NlmmAjGYrrjAp0MED5rGx\n",
       "434  NaN  1IsquhJFJ0qcFZI7FeAEuN\n",
       "442  NaN  3lm4L3pPL32PFy74dR17OR\n",
       "445  NaN  0GxW5K0qzrq7L1jwSY5OmY"
      ]
     },
     "execution_count": 20,
     "metadata": {},
     "output_type": "execute_result"
    }
   ],
   "source": [
    "df.track_id.compare(df['audio_features.id'])"
   ]
  },
  {
   "cell_type": "markdown",
   "metadata": {},
   "source": [
    "Vemos la cantidad de registros iguales en todas sus variables."
   ]
  },
  {
   "cell_type": "code",
   "execution_count": 21,
   "metadata": {},
   "outputs": [
    {
     "data": {
      "text/plain": [
       "36"
      ]
     },
     "execution_count": 21,
     "metadata": {},
     "output_type": "execute_result"
    }
   ],
   "source": [
    "duplicados = df[df.duplicated(keep=False)]\n",
    "duplicados.shape[0]"
   ]
  },
  {
   "cell_type": "markdown",
   "metadata": {},
   "source": [
    "Vamos a remover la columna **track_id**, para que no tengamos una influencia de sus NaNs en el chequeo de datos iguales."
   ]
  },
  {
   "cell_type": "code",
   "execution_count": 22,
   "metadata": {},
   "outputs": [],
   "source": [
    "df.drop('track_id', axis=1, inplace=True)"
   ]
  },
  {
   "cell_type": "markdown",
   "metadata": {},
   "source": [
    "Sin esta columna obtenemos dos duplicados más, 38 registros duplicadosen en total, vamos a ver por que."
   ]
  },
  {
   "cell_type": "code",
   "execution_count": 23,
   "metadata": {},
   "outputs": [
    {
     "data": {
      "text/plain": [
       "38"
      ]
     },
     "execution_count": 23,
     "metadata": {},
     "output_type": "execute_result"
    }
   ],
   "source": [
    "duplicados = df[df.duplicated(keep=False)]\n",
    "duplicados.shape[0]"
   ]
  },
  {
   "cell_type": "code",
   "execution_count": 24,
   "metadata": {},
   "outputs": [
    {
     "data": {
      "text/html": [
       "<div>\n",
       "<style scoped>\n",
       "    .dataframe tbody tr th:only-of-type {\n",
       "        vertical-align: middle;\n",
       "    }\n",
       "\n",
       "    .dataframe tbody tr th {\n",
       "        vertical-align: top;\n",
       "    }\n",
       "\n",
       "    .dataframe thead tr th {\n",
       "        text-align: left;\n",
       "    }\n",
       "\n",
       "    .dataframe thead tr:last-of-type th {\n",
       "        text-align: right;\n",
       "    }\n",
       "</style>\n",
       "<table border=\"1\" class=\"dataframe\">\n",
       "  <thead>\n",
       "    <tr>\n",
       "      <th></th>\n",
       "      <th colspan=\"4\" halign=\"left\">album_name</th>\n",
       "    </tr>\n",
       "    <tr>\n",
       "      <th></th>\n",
       "      <th>count</th>\n",
       "      <th>unique</th>\n",
       "      <th>top</th>\n",
       "      <th>freq</th>\n",
       "    </tr>\n",
       "    <tr>\n",
       "      <th>album_id</th>\n",
       "      <th></th>\n",
       "      <th></th>\n",
       "      <th></th>\n",
       "      <th></th>\n",
       "    </tr>\n",
       "  </thead>\n",
       "  <tbody>\n",
       "    <tr>\n",
       "      <th>08CWGiv27MVQhYpuTtvx83</th>\n",
       "      <td>16</td>\n",
       "      <td>1</td>\n",
       "      <td>Fearless (International Version)</td>\n",
       "      <td>16</td>\n",
       "    </tr>\n",
       "    <tr>\n",
       "      <th>0PZ7lAru5FDFHuirTkWe9Z</th>\n",
       "      <td>34</td>\n",
       "      <td>1</td>\n",
       "      <td>folklore: the long pond studio sessions (from ...</td>\n",
       "      <td>34</td>\n",
       "    </tr>\n",
       "    <tr>\n",
       "      <th>151w1FgRZfnKZA9FEcg9Z3</th>\n",
       "      <td>13</td>\n",
       "      <td>1</td>\n",
       "      <td>Midnights</td>\n",
       "      <td>13</td>\n",
       "    </tr>\n",
       "    <tr>\n",
       "      <th>1KVKqWeRuXsJDLTW0VuD29</th>\n",
       "      <td>22</td>\n",
       "      <td>1</td>\n",
       "      <td>Red (Deluxe Edition)</td>\n",
       "      <td>22</td>\n",
       "    </tr>\n",
       "    <tr>\n",
       "      <th>1MPAXuTVL2Ej5x0JHiSPq8</th>\n",
       "      <td>0</td>\n",
       "      <td>0</td>\n",
       "      <td>NaN</td>\n",
       "      <td>NaN</td>\n",
       "    </tr>\n",
       "    <tr>\n",
       "      <th>1NAmidJlEaVgA3MpcPFYGq</th>\n",
       "      <td>36</td>\n",
       "      <td>1</td>\n",
       "      <td>Lover</td>\n",
       "      <td>36</td>\n",
       "    </tr>\n",
       "    <tr>\n",
       "      <th>1fnJ7k0bllNfL1kVdNVW1A</th>\n",
       "      <td>24</td>\n",
       "      <td>1</td>\n",
       "      <td>Midnights (The Til Dawn Edition)</td>\n",
       "      <td>24</td>\n",
       "    </tr>\n",
       "    <tr>\n",
       "      <th>1o59UpKw81iHR0HPiSkJR0</th>\n",
       "      <td>22</td>\n",
       "      <td>1</td>\n",
       "      <td>1989 (Taylor's Version) [Deluxe]</td>\n",
       "      <td>22</td>\n",
       "    </tr>\n",
       "    <tr>\n",
       "      <th>1pzvBxYgT6OVwJLtHkrdQK</th>\n",
       "      <td>17</td>\n",
       "      <td>1</td>\n",
       "      <td>folklore (deluxe version)</td>\n",
       "      <td>17</td>\n",
       "    </tr>\n",
       "    <tr>\n",
       "      <th>1yGbNOtRIgdIiGHOEBaZWf</th>\n",
       "      <td>19</td>\n",
       "      <td>1</td>\n",
       "      <td>1989 (Deluxe)</td>\n",
       "      <td>19</td>\n",
       "    </tr>\n",
       "    <tr>\n",
       "      <th>1ycoesYxIFymXWebfmz828</th>\n",
       "      <td>8</td>\n",
       "      <td>1</td>\n",
       "      <td>Live From Clear Channel Stripped 2008</td>\n",
       "      <td>8</td>\n",
       "    </tr>\n",
       "    <tr>\n",
       "      <th>2Xoteh7uEpea4TohMxjtaq</th>\n",
       "      <td>15</td>\n",
       "      <td>1</td>\n",
       "      <td>evermore</td>\n",
       "      <td>15</td>\n",
       "    </tr>\n",
       "    <tr>\n",
       "      <th>2fenSS68JI1h4Fo296JfGr</th>\n",
       "      <td>16</td>\n",
       "      <td>1</td>\n",
       "      <td>folklore</td>\n",
       "      <td>16</td>\n",
       "    </tr>\n",
       "    <tr>\n",
       "      <th>2gP2LMVcIFgVczSJqn340t</th>\n",
       "      <td>19</td>\n",
       "      <td>1</td>\n",
       "      <td>Fearless (Platinum Edition)</td>\n",
       "      <td>19</td>\n",
       "    </tr>\n",
       "    <tr>\n",
       "      <th>3lS1y25WAhcqJDATJK70Mq</th>\n",
       "      <td>20</td>\n",
       "      <td>1</td>\n",
       "      <td>Midnights (3am Edition)</td>\n",
       "      <td>20</td>\n",
       "    </tr>\n",
       "    <tr>\n",
       "      <th>4hDok0OAJd57SGIT8xuWJH</th>\n",
       "      <td>26</td>\n",
       "      <td>1</td>\n",
       "      <td>Fearless (Taylor's Version)</td>\n",
       "      <td>26</td>\n",
       "    </tr>\n",
       "    <tr>\n",
       "      <th>5AEDGbliTTfjOB8TSm1sxt</th>\n",
       "      <td>22</td>\n",
       "      <td>1</td>\n",
       "      <td>Speak Now (Taylor's Version)</td>\n",
       "      <td>22</td>\n",
       "    </tr>\n",
       "    <tr>\n",
       "      <th>5eyZZoQEFQWRHkV2xgAeBw</th>\n",
       "      <td>15</td>\n",
       "      <td>1</td>\n",
       "      <td>Taylor Swift</td>\n",
       "      <td>15</td>\n",
       "    </tr>\n",
       "    <tr>\n",
       "      <th>5fy0X0JmZRZnVa2UEicIOl</th>\n",
       "      <td>13</td>\n",
       "      <td>1</td>\n",
       "      <td>1989</td>\n",
       "      <td>13</td>\n",
       "    </tr>\n",
       "    <tr>\n",
       "      <th>64LU4c1nfjz1t4VnGhagcg</th>\n",
       "      <td>21</td>\n",
       "      <td>1</td>\n",
       "      <td>1989 (Taylor's Version)</td>\n",
       "      <td>21</td>\n",
       "    </tr>\n",
       "    <tr>\n",
       "      <th>6AORtDjduMM3bupSWzbTSG</th>\n",
       "      <td>17</td>\n",
       "      <td>1</td>\n",
       "      <td>evermore (deluxe version)</td>\n",
       "      <td>17</td>\n",
       "    </tr>\n",
       "    <tr>\n",
       "      <th>6Ar2o9KCqcyYF9J0aQP3au</th>\n",
       "      <td>14</td>\n",
       "      <td>1</td>\n",
       "      <td>Speak Now</td>\n",
       "      <td>14</td>\n",
       "    </tr>\n",
       "    <tr>\n",
       "      <th>6DEjYFkNZh67HP7R9PSZvv</th>\n",
       "      <td>16</td>\n",
       "      <td>1</td>\n",
       "      <td>reputation</td>\n",
       "      <td>16</td>\n",
       "    </tr>\n",
       "    <tr>\n",
       "      <th>6S6JQWzUrJVcJLK4fi74Fw</th>\n",
       "      <td>22</td>\n",
       "      <td>1</td>\n",
       "      <td>Speak Now (Deluxe Package)</td>\n",
       "      <td>22</td>\n",
       "    </tr>\n",
       "    <tr>\n",
       "      <th>6fyR4wBPwLHKcRtxgd4sGh</th>\n",
       "      <td>0</td>\n",
       "      <td>0</td>\n",
       "      <td>NaN</td>\n",
       "      <td>NaN</td>\n",
       "    </tr>\n",
       "    <tr>\n",
       "      <th>6kZ42qRrzov54LcAk4onW9</th>\n",
       "      <td>30</td>\n",
       "      <td>1</td>\n",
       "      <td>Red (Taylor's Version)</td>\n",
       "      <td>30</td>\n",
       "    </tr>\n",
       "  </tbody>\n",
       "</table>\n",
       "</div>"
      ],
      "text/plain": [
       "                       album_name         \\\n",
       "                            count unique   \n",
       "album_id                                   \n",
       "08CWGiv27MVQhYpuTtvx83         16      1   \n",
       "0PZ7lAru5FDFHuirTkWe9Z         34      1   \n",
       "151w1FgRZfnKZA9FEcg9Z3         13      1   \n",
       "1KVKqWeRuXsJDLTW0VuD29         22      1   \n",
       "1MPAXuTVL2Ej5x0JHiSPq8          0      0   \n",
       "1NAmidJlEaVgA3MpcPFYGq         36      1   \n",
       "1fnJ7k0bllNfL1kVdNVW1A         24      1   \n",
       "1o59UpKw81iHR0HPiSkJR0         22      1   \n",
       "1pzvBxYgT6OVwJLtHkrdQK         17      1   \n",
       "1yGbNOtRIgdIiGHOEBaZWf         19      1   \n",
       "1ycoesYxIFymXWebfmz828          8      1   \n",
       "2Xoteh7uEpea4TohMxjtaq         15      1   \n",
       "2fenSS68JI1h4Fo296JfGr         16      1   \n",
       "2gP2LMVcIFgVczSJqn340t         19      1   \n",
       "3lS1y25WAhcqJDATJK70Mq         20      1   \n",
       "4hDok0OAJd57SGIT8xuWJH         26      1   \n",
       "5AEDGbliTTfjOB8TSm1sxt         22      1   \n",
       "5eyZZoQEFQWRHkV2xgAeBw         15      1   \n",
       "5fy0X0JmZRZnVa2UEicIOl         13      1   \n",
       "64LU4c1nfjz1t4VnGhagcg         21      1   \n",
       "6AORtDjduMM3bupSWzbTSG         17      1   \n",
       "6Ar2o9KCqcyYF9J0aQP3au         14      1   \n",
       "6DEjYFkNZh67HP7R9PSZvv         16      1   \n",
       "6S6JQWzUrJVcJLK4fi74Fw         22      1   \n",
       "6fyR4wBPwLHKcRtxgd4sGh          0      0   \n",
       "6kZ42qRrzov54LcAk4onW9         30      1   \n",
       "\n",
       "                                                                                \n",
       "                                                                      top freq  \n",
       "album_id                                                                        \n",
       "08CWGiv27MVQhYpuTtvx83                   Fearless (International Version)   16  \n",
       "0PZ7lAru5FDFHuirTkWe9Z  folklore: the long pond studio sessions (from ...   34  \n",
       "151w1FgRZfnKZA9FEcg9Z3                                          Midnights   13  \n",
       "1KVKqWeRuXsJDLTW0VuD29                               Red (Deluxe Edition)   22  \n",
       "1MPAXuTVL2Ej5x0JHiSPq8                                                NaN  NaN  \n",
       "1NAmidJlEaVgA3MpcPFYGq                                              Lover   36  \n",
       "1fnJ7k0bllNfL1kVdNVW1A                   Midnights (The Til Dawn Edition)   24  \n",
       "1o59UpKw81iHR0HPiSkJR0                   1989 (Taylor's Version) [Deluxe]   22  \n",
       "1pzvBxYgT6OVwJLtHkrdQK                          folklore (deluxe version)   17  \n",
       "1yGbNOtRIgdIiGHOEBaZWf                                      1989 (Deluxe)   19  \n",
       "1ycoesYxIFymXWebfmz828              Live From Clear Channel Stripped 2008    8  \n",
       "2Xoteh7uEpea4TohMxjtaq                                           evermore   15  \n",
       "2fenSS68JI1h4Fo296JfGr                                           folklore   16  \n",
       "2gP2LMVcIFgVczSJqn340t                        Fearless (Platinum Edition)   19  \n",
       "3lS1y25WAhcqJDATJK70Mq                            Midnights (3am Edition)   20  \n",
       "4hDok0OAJd57SGIT8xuWJH                        Fearless (Taylor's Version)   26  \n",
       "5AEDGbliTTfjOB8TSm1sxt                       Speak Now (Taylor's Version)   22  \n",
       "5eyZZoQEFQWRHkV2xgAeBw                                       Taylor Swift   15  \n",
       "5fy0X0JmZRZnVa2UEicIOl                                               1989   13  \n",
       "64LU4c1nfjz1t4VnGhagcg                            1989 (Taylor's Version)   21  \n",
       "6AORtDjduMM3bupSWzbTSG                          evermore (deluxe version)   17  \n",
       "6Ar2o9KCqcyYF9J0aQP3au                                          Speak Now   14  \n",
       "6DEjYFkNZh67HP7R9PSZvv                                         reputation   16  \n",
       "6S6JQWzUrJVcJLK4fi74Fw                         Speak Now (Deluxe Package)   22  \n",
       "6fyR4wBPwLHKcRtxgd4sGh                                                NaN  NaN  \n",
       "6kZ42qRrzov54LcAk4onW9                             Red (Taylor's Version)   30  "
      ]
     },
     "execution_count": 24,
     "metadata": {},
     "output_type": "execute_result"
    }
   ],
   "source": [
    "id_grouped = df[['album_name', 'album_id']].groupby('album_id')\n",
    "id_grouped.describe()"
   ]
  },
  {
   "cell_type": "markdown",
   "metadata": {},
   "source": [
    "Vemos una inconsistencia en 2 variables de album_id. Vamos a profundizar."
   ]
  },
  {
   "cell_type": "code",
   "execution_count": 25,
   "metadata": {},
   "outputs": [
    {
     "data": {
      "text/html": [
       "<div>\n",
       "<style scoped>\n",
       "    .dataframe tbody tr th:only-of-type {\n",
       "        vertical-align: middle;\n",
       "    }\n",
       "\n",
       "    .dataframe tbody tr th {\n",
       "        vertical-align: top;\n",
       "    }\n",
       "\n",
       "    .dataframe thead th {\n",
       "        text-align: right;\n",
       "    }\n",
       "</style>\n",
       "<table border=\"1\" class=\"dataframe\">\n",
       "  <thead>\n",
       "    <tr style=\"text-align: right;\">\n",
       "      <th></th>\n",
       "      <th>album_id</th>\n",
       "      <th>album_name</th>\n",
       "    </tr>\n",
       "  </thead>\n",
       "  <tbody>\n",
       "    <tr>\n",
       "      <th>329</th>\n",
       "      <td>1MPAXuTVL2Ej5x0JHiSPq8</td>\n",
       "      <td>NaN</td>\n",
       "    </tr>\n",
       "    <tr>\n",
       "      <th>330</th>\n",
       "      <td>1MPAXuTVL2Ej5x0JHiSPq8</td>\n",
       "      <td>NaN</td>\n",
       "    </tr>\n",
       "    <tr>\n",
       "      <th>331</th>\n",
       "      <td>1MPAXuTVL2Ej5x0JHiSPq8</td>\n",
       "      <td>NaN</td>\n",
       "    </tr>\n",
       "    <tr>\n",
       "      <th>332</th>\n",
       "      <td>1MPAXuTVL2Ej5x0JHiSPq8</td>\n",
       "      <td>NaN</td>\n",
       "    </tr>\n",
       "    <tr>\n",
       "      <th>333</th>\n",
       "      <td>1MPAXuTVL2Ej5x0JHiSPq8</td>\n",
       "      <td>NaN</td>\n",
       "    </tr>\n",
       "    <tr>\n",
       "      <th>334</th>\n",
       "      <td>1MPAXuTVL2Ej5x0JHiSPq8</td>\n",
       "      <td>NaN</td>\n",
       "    </tr>\n",
       "    <tr>\n",
       "      <th>335</th>\n",
       "      <td>1MPAXuTVL2Ej5x0JHiSPq8</td>\n",
       "      <td>NaN</td>\n",
       "    </tr>\n",
       "    <tr>\n",
       "      <th>336</th>\n",
       "      <td>1MPAXuTVL2Ej5x0JHiSPq8</td>\n",
       "      <td>NaN</td>\n",
       "    </tr>\n",
       "    <tr>\n",
       "      <th>337</th>\n",
       "      <td>1MPAXuTVL2Ej5x0JHiSPq8</td>\n",
       "      <td>NaN</td>\n",
       "    </tr>\n",
       "    <tr>\n",
       "      <th>338</th>\n",
       "      <td>1MPAXuTVL2Ej5x0JHiSPq8</td>\n",
       "      <td>NaN</td>\n",
       "    </tr>\n",
       "    <tr>\n",
       "      <th>339</th>\n",
       "      <td>1MPAXuTVL2Ej5x0JHiSPq8</td>\n",
       "      <td>NaN</td>\n",
       "    </tr>\n",
       "    <tr>\n",
       "      <th>340</th>\n",
       "      <td>1MPAXuTVL2Ej5x0JHiSPq8</td>\n",
       "      <td>NaN</td>\n",
       "    </tr>\n",
       "    <tr>\n",
       "      <th>341</th>\n",
       "      <td>1MPAXuTVL2Ej5x0JHiSPq8</td>\n",
       "      <td>NaN</td>\n",
       "    </tr>\n",
       "    <tr>\n",
       "      <th>342</th>\n",
       "      <td>1MPAXuTVL2Ej5x0JHiSPq8</td>\n",
       "      <td>NaN</td>\n",
       "    </tr>\n",
       "    <tr>\n",
       "      <th>343</th>\n",
       "      <td>1MPAXuTVL2Ej5x0JHiSPq8</td>\n",
       "      <td>NaN</td>\n",
       "    </tr>\n",
       "    <tr>\n",
       "      <th>344</th>\n",
       "      <td>1MPAXuTVL2Ej5x0JHiSPq8</td>\n",
       "      <td>NaN</td>\n",
       "    </tr>\n",
       "    <tr>\n",
       "      <th>345</th>\n",
       "      <td>1MPAXuTVL2Ej5x0JHiSPq8</td>\n",
       "      <td>NaN</td>\n",
       "    </tr>\n",
       "    <tr>\n",
       "      <th>346</th>\n",
       "      <td>1MPAXuTVL2Ej5x0JHiSPq8</td>\n",
       "      <td>NaN</td>\n",
       "    </tr>\n",
       "    <tr>\n",
       "      <th>347</th>\n",
       "      <td>1MPAXuTVL2Ej5x0JHiSPq8</td>\n",
       "      <td>NaN</td>\n",
       "    </tr>\n",
       "    <tr>\n",
       "      <th>348</th>\n",
       "      <td>1MPAXuTVL2Ej5x0JHiSPq8</td>\n",
       "      <td>NaN</td>\n",
       "    </tr>\n",
       "    <tr>\n",
       "      <th>349</th>\n",
       "      <td>1MPAXuTVL2Ej5x0JHiSPq8</td>\n",
       "      <td>NaN</td>\n",
       "    </tr>\n",
       "    <tr>\n",
       "      <th>350</th>\n",
       "      <td>1MPAXuTVL2Ej5x0JHiSPq8</td>\n",
       "      <td>NaN</td>\n",
       "    </tr>\n",
       "    <tr>\n",
       "      <th>351</th>\n",
       "      <td>1MPAXuTVL2Ej5x0JHiSPq8</td>\n",
       "      <td>NaN</td>\n",
       "    </tr>\n",
       "    <tr>\n",
       "      <th>352</th>\n",
       "      <td>1MPAXuTVL2Ej5x0JHiSPq8</td>\n",
       "      <td>NaN</td>\n",
       "    </tr>\n",
       "    <tr>\n",
       "      <th>353</th>\n",
       "      <td>1MPAXuTVL2Ej5x0JHiSPq8</td>\n",
       "      <td>NaN</td>\n",
       "    </tr>\n",
       "    <tr>\n",
       "      <th>354</th>\n",
       "      <td>1MPAXuTVL2Ej5x0JHiSPq8</td>\n",
       "      <td>NaN</td>\n",
       "    </tr>\n",
       "    <tr>\n",
       "      <th>355</th>\n",
       "      <td>1MPAXuTVL2Ej5x0JHiSPq8</td>\n",
       "      <td>NaN</td>\n",
       "    </tr>\n",
       "    <tr>\n",
       "      <th>356</th>\n",
       "      <td>1MPAXuTVL2Ej5x0JHiSPq8</td>\n",
       "      <td>NaN</td>\n",
       "    </tr>\n",
       "    <tr>\n",
       "      <th>357</th>\n",
       "      <td>1MPAXuTVL2Ej5x0JHiSPq8</td>\n",
       "      <td>NaN</td>\n",
       "    </tr>\n",
       "    <tr>\n",
       "      <th>358</th>\n",
       "      <td>1MPAXuTVL2Ej5x0JHiSPq8</td>\n",
       "      <td>NaN</td>\n",
       "    </tr>\n",
       "    <tr>\n",
       "      <th>359</th>\n",
       "      <td>1MPAXuTVL2Ej5x0JHiSPq8</td>\n",
       "      <td>NaN</td>\n",
       "    </tr>\n",
       "    <tr>\n",
       "      <th>360</th>\n",
       "      <td>1MPAXuTVL2Ej5x0JHiSPq8</td>\n",
       "      <td>NaN</td>\n",
       "    </tr>\n",
       "    <tr>\n",
       "      <th>361</th>\n",
       "      <td>1MPAXuTVL2Ej5x0JHiSPq8</td>\n",
       "      <td>NaN</td>\n",
       "    </tr>\n",
       "    <tr>\n",
       "      <th>362</th>\n",
       "      <td>1MPAXuTVL2Ej5x0JHiSPq8</td>\n",
       "      <td>NaN</td>\n",
       "    </tr>\n",
       "    <tr>\n",
       "      <th>363</th>\n",
       "      <td>1MPAXuTVL2Ej5x0JHiSPq8</td>\n",
       "      <td>NaN</td>\n",
       "    </tr>\n",
       "    <tr>\n",
       "      <th>364</th>\n",
       "      <td>1MPAXuTVL2Ej5x0JHiSPq8</td>\n",
       "      <td>NaN</td>\n",
       "    </tr>\n",
       "    <tr>\n",
       "      <th>365</th>\n",
       "      <td>1MPAXuTVL2Ej5x0JHiSPq8</td>\n",
       "      <td>NaN</td>\n",
       "    </tr>\n",
       "    <tr>\n",
       "      <th>366</th>\n",
       "      <td>1MPAXuTVL2Ej5x0JHiSPq8</td>\n",
       "      <td>NaN</td>\n",
       "    </tr>\n",
       "    <tr>\n",
       "      <th>367</th>\n",
       "      <td>1MPAXuTVL2Ej5x0JHiSPq8</td>\n",
       "      <td>NaN</td>\n",
       "    </tr>\n",
       "    <tr>\n",
       "      <th>368</th>\n",
       "      <td>1MPAXuTVL2Ej5x0JHiSPq8</td>\n",
       "      <td>NaN</td>\n",
       "    </tr>\n",
       "    <tr>\n",
       "      <th>369</th>\n",
       "      <td>1MPAXuTVL2Ej5x0JHiSPq8</td>\n",
       "      <td>NaN</td>\n",
       "    </tr>\n",
       "    <tr>\n",
       "      <th>370</th>\n",
       "      <td>1MPAXuTVL2Ej5x0JHiSPq8</td>\n",
       "      <td>NaN</td>\n",
       "    </tr>\n",
       "    <tr>\n",
       "      <th>371</th>\n",
       "      <td>1MPAXuTVL2Ej5x0JHiSPq8</td>\n",
       "      <td>NaN</td>\n",
       "    </tr>\n",
       "    <tr>\n",
       "      <th>372</th>\n",
       "      <td>1MPAXuTVL2Ej5x0JHiSPq8</td>\n",
       "      <td>NaN</td>\n",
       "    </tr>\n",
       "    <tr>\n",
       "      <th>373</th>\n",
       "      <td>1MPAXuTVL2Ej5x0JHiSPq8</td>\n",
       "      <td>NaN</td>\n",
       "    </tr>\n",
       "    <tr>\n",
       "      <th>374</th>\n",
       "      <td>1MPAXuTVL2Ej5x0JHiSPq8</td>\n",
       "      <td>NaN</td>\n",
       "    </tr>\n",
       "  </tbody>\n",
       "</table>\n",
       "</div>"
      ],
      "text/plain": [
       "                   album_id album_name\n",
       "329  1MPAXuTVL2Ej5x0JHiSPq8        NaN\n",
       "330  1MPAXuTVL2Ej5x0JHiSPq8        NaN\n",
       "331  1MPAXuTVL2Ej5x0JHiSPq8        NaN\n",
       "332  1MPAXuTVL2Ej5x0JHiSPq8        NaN\n",
       "333  1MPAXuTVL2Ej5x0JHiSPq8        NaN\n",
       "334  1MPAXuTVL2Ej5x0JHiSPq8        NaN\n",
       "335  1MPAXuTVL2Ej5x0JHiSPq8        NaN\n",
       "336  1MPAXuTVL2Ej5x0JHiSPq8        NaN\n",
       "337  1MPAXuTVL2Ej5x0JHiSPq8        NaN\n",
       "338  1MPAXuTVL2Ej5x0JHiSPq8        NaN\n",
       "339  1MPAXuTVL2Ej5x0JHiSPq8        NaN\n",
       "340  1MPAXuTVL2Ej5x0JHiSPq8        NaN\n",
       "341  1MPAXuTVL2Ej5x0JHiSPq8        NaN\n",
       "342  1MPAXuTVL2Ej5x0JHiSPq8        NaN\n",
       "343  1MPAXuTVL2Ej5x0JHiSPq8        NaN\n",
       "344  1MPAXuTVL2Ej5x0JHiSPq8        NaN\n",
       "345  1MPAXuTVL2Ej5x0JHiSPq8        NaN\n",
       "346  1MPAXuTVL2Ej5x0JHiSPq8        NaN\n",
       "347  1MPAXuTVL2Ej5x0JHiSPq8        NaN\n",
       "348  1MPAXuTVL2Ej5x0JHiSPq8        NaN\n",
       "349  1MPAXuTVL2Ej5x0JHiSPq8        NaN\n",
       "350  1MPAXuTVL2Ej5x0JHiSPq8        NaN\n",
       "351  1MPAXuTVL2Ej5x0JHiSPq8        NaN\n",
       "352  1MPAXuTVL2Ej5x0JHiSPq8        NaN\n",
       "353  1MPAXuTVL2Ej5x0JHiSPq8        NaN\n",
       "354  1MPAXuTVL2Ej5x0JHiSPq8        NaN\n",
       "355  1MPAXuTVL2Ej5x0JHiSPq8        NaN\n",
       "356  1MPAXuTVL2Ej5x0JHiSPq8        NaN\n",
       "357  1MPAXuTVL2Ej5x0JHiSPq8        NaN\n",
       "358  1MPAXuTVL2Ej5x0JHiSPq8        NaN\n",
       "359  1MPAXuTVL2Ej5x0JHiSPq8        NaN\n",
       "360  1MPAXuTVL2Ej5x0JHiSPq8        NaN\n",
       "361  1MPAXuTVL2Ej5x0JHiSPq8        NaN\n",
       "362  1MPAXuTVL2Ej5x0JHiSPq8        NaN\n",
       "363  1MPAXuTVL2Ej5x0JHiSPq8        NaN\n",
       "364  1MPAXuTVL2Ej5x0JHiSPq8        NaN\n",
       "365  1MPAXuTVL2Ej5x0JHiSPq8        NaN\n",
       "366  1MPAXuTVL2Ej5x0JHiSPq8        NaN\n",
       "367  1MPAXuTVL2Ej5x0JHiSPq8        NaN\n",
       "368  1MPAXuTVL2Ej5x0JHiSPq8        NaN\n",
       "369  1MPAXuTVL2Ej5x0JHiSPq8        NaN\n",
       "370  1MPAXuTVL2Ej5x0JHiSPq8        NaN\n",
       "371  1MPAXuTVL2Ej5x0JHiSPq8        NaN\n",
       "372  1MPAXuTVL2Ej5x0JHiSPq8        NaN\n",
       "373  1MPAXuTVL2Ej5x0JHiSPq8        NaN\n",
       "374  1MPAXuTVL2Ej5x0JHiSPq8        NaN"
      ]
     },
     "execution_count": 25,
     "metadata": {},
     "output_type": "execute_result"
    }
   ],
   "source": [
    "df[df['album_id'] == '1MPAXuTVL2Ej5x0JHiSPq8'][['album_id', 'album_name']]"
   ]
  },
  {
   "cell_type": "code",
   "execution_count": 26,
   "metadata": {},
   "outputs": [
    {
     "data": {
      "text/html": [
       "<div>\n",
       "<style scoped>\n",
       "    .dataframe tbody tr th:only-of-type {\n",
       "        vertical-align: middle;\n",
       "    }\n",
       "\n",
       "    .dataframe tbody tr th {\n",
       "        vertical-align: top;\n",
       "    }\n",
       "\n",
       "    .dataframe thead th {\n",
       "        text-align: right;\n",
       "    }\n",
       "</style>\n",
       "<table border=\"1\" class=\"dataframe\">\n",
       "  <thead>\n",
       "    <tr style=\"text-align: right;\">\n",
       "      <th></th>\n",
       "      <th>album_id</th>\n",
       "      <th>album_name</th>\n",
       "    </tr>\n",
       "  </thead>\n",
       "  <tbody>\n",
       "    <tr>\n",
       "      <th>429</th>\n",
       "      <td>6fyR4wBPwLHKcRtxgd4sGh</td>\n",
       "      <td>NaN</td>\n",
       "    </tr>\n",
       "    <tr>\n",
       "      <th>430</th>\n",
       "      <td>6fyR4wBPwLHKcRtxgd4sGh</td>\n",
       "      <td>NaN</td>\n",
       "    </tr>\n",
       "    <tr>\n",
       "      <th>431</th>\n",
       "      <td>6fyR4wBPwLHKcRtxgd4sGh</td>\n",
       "      <td>NaN</td>\n",
       "    </tr>\n",
       "    <tr>\n",
       "      <th>432</th>\n",
       "      <td>6fyR4wBPwLHKcRtxgd4sGh</td>\n",
       "      <td>NaN</td>\n",
       "    </tr>\n",
       "    <tr>\n",
       "      <th>433</th>\n",
       "      <td>6fyR4wBPwLHKcRtxgd4sGh</td>\n",
       "      <td>NaN</td>\n",
       "    </tr>\n",
       "    <tr>\n",
       "      <th>434</th>\n",
       "      <td>6fyR4wBPwLHKcRtxgd4sGh</td>\n",
       "      <td>NaN</td>\n",
       "    </tr>\n",
       "    <tr>\n",
       "      <th>435</th>\n",
       "      <td>6fyR4wBPwLHKcRtxgd4sGh</td>\n",
       "      <td>NaN</td>\n",
       "    </tr>\n",
       "    <tr>\n",
       "      <th>436</th>\n",
       "      <td>6fyR4wBPwLHKcRtxgd4sGh</td>\n",
       "      <td>NaN</td>\n",
       "    </tr>\n",
       "    <tr>\n",
       "      <th>437</th>\n",
       "      <td>6fyR4wBPwLHKcRtxgd4sGh</td>\n",
       "      <td>NaN</td>\n",
       "    </tr>\n",
       "    <tr>\n",
       "      <th>438</th>\n",
       "      <td>6fyR4wBPwLHKcRtxgd4sGh</td>\n",
       "      <td>NaN</td>\n",
       "    </tr>\n",
       "    <tr>\n",
       "      <th>439</th>\n",
       "      <td>6fyR4wBPwLHKcRtxgd4sGh</td>\n",
       "      <td>NaN</td>\n",
       "    </tr>\n",
       "    <tr>\n",
       "      <th>440</th>\n",
       "      <td>6fyR4wBPwLHKcRtxgd4sGh</td>\n",
       "      <td>NaN</td>\n",
       "    </tr>\n",
       "    <tr>\n",
       "      <th>441</th>\n",
       "      <td>6fyR4wBPwLHKcRtxgd4sGh</td>\n",
       "      <td>NaN</td>\n",
       "    </tr>\n",
       "    <tr>\n",
       "      <th>442</th>\n",
       "      <td>6fyR4wBPwLHKcRtxgd4sGh</td>\n",
       "      <td>NaN</td>\n",
       "    </tr>\n",
       "    <tr>\n",
       "      <th>443</th>\n",
       "      <td>6fyR4wBPwLHKcRtxgd4sGh</td>\n",
       "      <td>NaN</td>\n",
       "    </tr>\n",
       "    <tr>\n",
       "      <th>444</th>\n",
       "      <td>6fyR4wBPwLHKcRtxgd4sGh</td>\n",
       "      <td>NaN</td>\n",
       "    </tr>\n",
       "  </tbody>\n",
       "</table>\n",
       "</div>"
      ],
      "text/plain": [
       "                   album_id album_name\n",
       "429  6fyR4wBPwLHKcRtxgd4sGh        NaN\n",
       "430  6fyR4wBPwLHKcRtxgd4sGh        NaN\n",
       "431  6fyR4wBPwLHKcRtxgd4sGh        NaN\n",
       "432  6fyR4wBPwLHKcRtxgd4sGh        NaN\n",
       "433  6fyR4wBPwLHKcRtxgd4sGh        NaN\n",
       "434  6fyR4wBPwLHKcRtxgd4sGh        NaN\n",
       "435  6fyR4wBPwLHKcRtxgd4sGh        NaN\n",
       "436  6fyR4wBPwLHKcRtxgd4sGh        NaN\n",
       "437  6fyR4wBPwLHKcRtxgd4sGh        NaN\n",
       "438  6fyR4wBPwLHKcRtxgd4sGh        NaN\n",
       "439  6fyR4wBPwLHKcRtxgd4sGh        NaN\n",
       "440  6fyR4wBPwLHKcRtxgd4sGh        NaN\n",
       "441  6fyR4wBPwLHKcRtxgd4sGh        NaN\n",
       "442  6fyR4wBPwLHKcRtxgd4sGh        NaN\n",
       "443  6fyR4wBPwLHKcRtxgd4sGh        NaN\n",
       "444  6fyR4wBPwLHKcRtxgd4sGh        NaN"
      ]
     },
     "execution_count": 26,
     "metadata": {},
     "output_type": "execute_result"
    }
   ],
   "source": [
    "df[df['album_id'] == '6fyR4wBPwLHKcRtxgd4sGh'][['album_id', 'album_name']]"
   ]
  },
  {
   "cell_type": "markdown",
   "metadata": {},
   "source": [
    "Aparentemente hay dos Nombres de álbumes faltantes, dado que la información se toma de un archivo .json, conformado por listas anidadas, 2 nombres faltantes, nos terminan generando 62 registros incompletos."
   ]
  },
  {
   "cell_type": "markdown",
   "metadata": {},
   "source": [
    "Contador rústico de álbumes basado en cantidad de pistas número uno, en cd número 1"
   ]
  },
  {
   "cell_type": "code",
   "execution_count": 27,
   "metadata": {},
   "outputs": [
    {
     "data": {
      "text/plain": [
       "27"
      ]
     },
     "execution_count": 27,
     "metadata": {},
     "output_type": "execute_result"
    }
   ],
   "source": [
    "album_counter = 0\n",
    "\n",
    "for i in range(df.shape[0]):\n",
    "    if (df.iloc[i, 0] == 1) and (df.iloc[i, 3] == 1): # column 0 = disc_number, column 3 = track_number\n",
    "        album_counter += 1\n",
    "\n",
    "album_counter"
   ]
  },
  {
   "cell_type": "markdown",
   "metadata": {},
   "source": [
    "Pareciera ser que hay un album repetido. Vamos a chequear mejor creando una columna aparte para controlar."
   ]
  },
  {
   "cell_type": "code",
   "execution_count": 28,
   "metadata": {},
   "outputs": [
    {
     "data": {
      "text/html": [
       "<div>\n",
       "<style scoped>\n",
       "    .dataframe tbody tr th:only-of-type {\n",
       "        vertical-align: middle;\n",
       "    }\n",
       "\n",
       "    .dataframe tbody tr th {\n",
       "        vertical-align: top;\n",
       "    }\n",
       "\n",
       "    .dataframe thead th {\n",
       "        text-align: right;\n",
       "    }\n",
       "</style>\n",
       "<table border=\"1\" class=\"dataframe\">\n",
       "  <thead>\n",
       "    <tr style=\"text-align: right;\">\n",
       "      <th></th>\n",
       "      <th>disc_number</th>\n",
       "      <th>track_number</th>\n",
       "      <th>control_album</th>\n",
       "      <th>audio_features.id</th>\n",
       "    </tr>\n",
       "  </thead>\n",
       "  <tbody>\n",
       "    <tr>\n",
       "      <th>0</th>\n",
       "      <td>1</td>\n",
       "      <td>1</td>\n",
       "      <td>True</td>\n",
       "      <td>4WUepByoeqcedHoYhSNHRt</td>\n",
       "    </tr>\n",
       "    <tr>\n",
       "      <th>1</th>\n",
       "      <td>1</td>\n",
       "      <td>2</td>\n",
       "      <td>False</td>\n",
       "      <td>0108kcWLnn2HlH2kedi1gn</td>\n",
       "    </tr>\n",
       "    <tr>\n",
       "      <th>2</th>\n",
       "      <td>1</td>\n",
       "      <td>3</td>\n",
       "      <td>False</td>\n",
       "      <td>3Vpk1hfMAQme8VJ0SNRSkd</td>\n",
       "    </tr>\n",
       "    <tr>\n",
       "      <th>3</th>\n",
       "      <td>1</td>\n",
       "      <td>4</td>\n",
       "      <td>False</td>\n",
       "      <td>1OcSfkeCg9hRC2sFKB4IMJ</td>\n",
       "    </tr>\n",
       "    <tr>\n",
       "      <th>4</th>\n",
       "      <td>1</td>\n",
       "      <td>5</td>\n",
       "      <td>False</td>\n",
       "      <td>2k0ZEeAqzvYMcx9Qt5aClQ</td>\n",
       "    </tr>\n",
       "  </tbody>\n",
       "</table>\n",
       "</div>"
      ],
      "text/plain": [
       "   disc_number  track_number  control_album       audio_features.id\n",
       "0            1             1           True  4WUepByoeqcedHoYhSNHRt\n",
       "1            1             2          False  0108kcWLnn2HlH2kedi1gn\n",
       "2            1             3          False  3Vpk1hfMAQme8VJ0SNRSkd\n",
       "3            1             4          False  1OcSfkeCg9hRC2sFKB4IMJ\n",
       "4            1             5          False  2k0ZEeAqzvYMcx9Qt5aClQ"
      ]
     },
     "execution_count": 28,
     "metadata": {},
     "output_type": "execute_result"
    }
   ],
   "source": [
    "df_control = df.copy()\n",
    "df_control['control_album'] = False\n",
    "\n",
    "for i in range(df.shape[0]):\n",
    "    if (df.iloc[i, 0] == 1) and (df.iloc[i, 3] == 1): # column 0 = disc_number, column 3 = track_number\n",
    "        df_control.iloc[i, -1] = True\n",
    "\n",
    "df_control[['disc_number', 'track_number', 'control_album','audio_features.id']].head()"
   ]
  },
  {
   "cell_type": "code",
   "execution_count": 29,
   "metadata": {},
   "outputs": [
    {
     "data": {
      "text/html": [
       "<div>\n",
       "<style scoped>\n",
       "    .dataframe tbody tr th:only-of-type {\n",
       "        vertical-align: middle;\n",
       "    }\n",
       "\n",
       "    .dataframe tbody tr th {\n",
       "        vertical-align: top;\n",
       "    }\n",
       "\n",
       "    .dataframe thead th {\n",
       "        text-align: right;\n",
       "    }\n",
       "</style>\n",
       "<table border=\"1\" class=\"dataframe\">\n",
       "  <thead>\n",
       "    <tr style=\"text-align: right;\">\n",
       "      <th></th>\n",
       "      <th>disc_number</th>\n",
       "      <th>track_number</th>\n",
       "      <th>control_album</th>\n",
       "      <th>album_name</th>\n",
       "      <th>album_id</th>\n",
       "      <th>audio_features.id</th>\n",
       "    </tr>\n",
       "  </thead>\n",
       "  <tbody>\n",
       "    <tr>\n",
       "      <th>277</th>\n",
       "      <td>1</td>\n",
       "      <td>1</td>\n",
       "      <td>True</td>\n",
       "      <td>Lover</td>\n",
       "      <td>1NAmidJlEaVgA3MpcPFYGq</td>\n",
       "      <td>43rA71bccXFGD4C8GOpIlN</td>\n",
       "    </tr>\n",
       "    <tr>\n",
       "      <th>295</th>\n",
       "      <td>1</td>\n",
       "      <td>1</td>\n",
       "      <td>True</td>\n",
       "      <td>Lover</td>\n",
       "      <td>1NAmidJlEaVgA3MpcPFYGq</td>\n",
       "      <td>43rA71bccXFGD4C8GOpIlN</td>\n",
       "    </tr>\n",
       "  </tbody>\n",
       "</table>\n",
       "</div>"
      ],
      "text/plain": [
       "     disc_number  track_number  control_album album_name  \\\n",
       "277            1             1           True      Lover   \n",
       "295            1             1           True      Lover   \n",
       "\n",
       "                   album_id       audio_features.id  \n",
       "277  1NAmidJlEaVgA3MpcPFYGq  43rA71bccXFGD4C8GOpIlN  \n",
       "295  1NAmidJlEaVgA3MpcPFYGq  43rA71bccXFGD4C8GOpIlN  "
      ]
     },
     "execution_count": 29,
     "metadata": {},
     "output_type": "execute_result"
    }
   ],
   "source": [
    "df_control = df_control[df_control.control_album == True]\n",
    "df_control = df_control[['disc_number', 'track_number', 'control_album', 'album_name', 'album_id', 'audio_features.id']]\n",
    "df_control = df_control[df_control.duplicated(keep=False)]\n",
    "df_control"
   ]
  },
  {
   "cell_type": "markdown",
   "metadata": {},
   "source": [
    "Parece que tenemos un album duplicado."
   ]
  },
  {
   "cell_type": "code",
   "execution_count": 30,
   "metadata": {},
   "outputs": [
    {
     "data": {
      "text/html": [
       "<div>\n",
       "<style scoped>\n",
       "    .dataframe tbody tr th:only-of-type {\n",
       "        vertical-align: middle;\n",
       "    }\n",
       "\n",
       "    .dataframe tbody tr th {\n",
       "        vertical-align: top;\n",
       "    }\n",
       "\n",
       "    .dataframe thead th {\n",
       "        text-align: right;\n",
       "    }\n",
       "</style>\n",
       "<table border=\"1\" class=\"dataframe\">\n",
       "  <thead>\n",
       "    <tr style=\"text-align: right;\">\n",
       "      <th></th>\n",
       "      <th>track_name</th>\n",
       "      <th>track_number</th>\n",
       "      <th>album_name</th>\n",
       "    </tr>\n",
       "  </thead>\n",
       "  <tbody>\n",
       "    <tr>\n",
       "      <th>277</th>\n",
       "      <td>I Forgot That You Existed</td>\n",
       "      <td>1</td>\n",
       "      <td>Lover</td>\n",
       "    </tr>\n",
       "    <tr>\n",
       "      <th>278</th>\n",
       "      <td>Cruel Summer</td>\n",
       "      <td>2</td>\n",
       "      <td>Lover</td>\n",
       "    </tr>\n",
       "    <tr>\n",
       "      <th>279</th>\n",
       "      <td>Lover</td>\n",
       "      <td>3</td>\n",
       "      <td>Lover</td>\n",
       "    </tr>\n",
       "    <tr>\n",
       "      <th>280</th>\n",
       "      <td>The Man</td>\n",
       "      <td>4</td>\n",
       "      <td>Lover</td>\n",
       "    </tr>\n",
       "    <tr>\n",
       "      <th>281</th>\n",
       "      <td>The Archer</td>\n",
       "      <td>5</td>\n",
       "      <td>Lover</td>\n",
       "    </tr>\n",
       "    <tr>\n",
       "      <th>282</th>\n",
       "      <td>I Think He Knows</td>\n",
       "      <td>6</td>\n",
       "      <td>Lover</td>\n",
       "    </tr>\n",
       "    <tr>\n",
       "      <th>283</th>\n",
       "      <td>Miss Americana &amp; The Heartbreak Prince</td>\n",
       "      <td>7</td>\n",
       "      <td>Lover</td>\n",
       "    </tr>\n",
       "    <tr>\n",
       "      <th>284</th>\n",
       "      <td>Paper Rings</td>\n",
       "      <td>8</td>\n",
       "      <td>Lover</td>\n",
       "    </tr>\n",
       "    <tr>\n",
       "      <th>285</th>\n",
       "      <td>Cornelia Street</td>\n",
       "      <td>9</td>\n",
       "      <td>Lover</td>\n",
       "    </tr>\n",
       "    <tr>\n",
       "      <th>286</th>\n",
       "      <td>Death By A Thousand Cuts</td>\n",
       "      <td>10</td>\n",
       "      <td>Lover</td>\n",
       "    </tr>\n",
       "    <tr>\n",
       "      <th>287</th>\n",
       "      <td>London Boy</td>\n",
       "      <td>11</td>\n",
       "      <td>Lover</td>\n",
       "    </tr>\n",
       "    <tr>\n",
       "      <th>288</th>\n",
       "      <td>Soon You’ll Get Better (feat. The Chicks)</td>\n",
       "      <td>12</td>\n",
       "      <td>Lover</td>\n",
       "    </tr>\n",
       "    <tr>\n",
       "      <th>289</th>\n",
       "      <td>False God</td>\n",
       "      <td>13</td>\n",
       "      <td>Lover</td>\n",
       "    </tr>\n",
       "    <tr>\n",
       "      <th>290</th>\n",
       "      <td>You Need To Calm Down</td>\n",
       "      <td>14</td>\n",
       "      <td>Lover</td>\n",
       "    </tr>\n",
       "    <tr>\n",
       "      <th>291</th>\n",
       "      <td>Afterglow</td>\n",
       "      <td>15</td>\n",
       "      <td>Lover</td>\n",
       "    </tr>\n",
       "    <tr>\n",
       "      <th>292</th>\n",
       "      <td>ME! (feat. Brendon Urie of Panic! At The Disco)</td>\n",
       "      <td>16</td>\n",
       "      <td>Lover</td>\n",
       "    </tr>\n",
       "    <tr>\n",
       "      <th>293</th>\n",
       "      <td>It’s Nice To Have A Friend</td>\n",
       "      <td>17</td>\n",
       "      <td>Lover</td>\n",
       "    </tr>\n",
       "    <tr>\n",
       "      <th>294</th>\n",
       "      <td>Daylight</td>\n",
       "      <td>18</td>\n",
       "      <td>Lover</td>\n",
       "    </tr>\n",
       "    <tr>\n",
       "      <th>295</th>\n",
       "      <td>I Forgot That You Existed</td>\n",
       "      <td>1</td>\n",
       "      <td>Lover</td>\n",
       "    </tr>\n",
       "    <tr>\n",
       "      <th>296</th>\n",
       "      <td>Cruel Summer</td>\n",
       "      <td>2</td>\n",
       "      <td>Lover</td>\n",
       "    </tr>\n",
       "    <tr>\n",
       "      <th>297</th>\n",
       "      <td>Lover</td>\n",
       "      <td>3</td>\n",
       "      <td>Lover</td>\n",
       "    </tr>\n",
       "    <tr>\n",
       "      <th>298</th>\n",
       "      <td>The Man</td>\n",
       "      <td>4</td>\n",
       "      <td>Lover</td>\n",
       "    </tr>\n",
       "    <tr>\n",
       "      <th>299</th>\n",
       "      <td>The Archer</td>\n",
       "      <td>5</td>\n",
       "      <td>Lover</td>\n",
       "    </tr>\n",
       "    <tr>\n",
       "      <th>300</th>\n",
       "      <td>I Think He Knows</td>\n",
       "      <td>6</td>\n",
       "      <td>Lover</td>\n",
       "    </tr>\n",
       "    <tr>\n",
       "      <th>301</th>\n",
       "      <td>Miss Americana &amp; The Heartbreak Prince</td>\n",
       "      <td>7</td>\n",
       "      <td>Lover</td>\n",
       "    </tr>\n",
       "    <tr>\n",
       "      <th>302</th>\n",
       "      <td>Paper Rings</td>\n",
       "      <td>8</td>\n",
       "      <td>Lover</td>\n",
       "    </tr>\n",
       "    <tr>\n",
       "      <th>303</th>\n",
       "      <td>Cornelia Street</td>\n",
       "      <td>9</td>\n",
       "      <td>Lover</td>\n",
       "    </tr>\n",
       "    <tr>\n",
       "      <th>304</th>\n",
       "      <td>Death By A Thousand Cuts</td>\n",
       "      <td>10</td>\n",
       "      <td>Lover</td>\n",
       "    </tr>\n",
       "    <tr>\n",
       "      <th>305</th>\n",
       "      <td>London Boy</td>\n",
       "      <td>11</td>\n",
       "      <td>Lover</td>\n",
       "    </tr>\n",
       "    <tr>\n",
       "      <th>306</th>\n",
       "      <td>Soon You’ll Get Better (feat. The Chicks)</td>\n",
       "      <td>12</td>\n",
       "      <td>Lover</td>\n",
       "    </tr>\n",
       "    <tr>\n",
       "      <th>307</th>\n",
       "      <td>False God</td>\n",
       "      <td>13</td>\n",
       "      <td>Lover</td>\n",
       "    </tr>\n",
       "    <tr>\n",
       "      <th>308</th>\n",
       "      <td>You Need To Calm Down</td>\n",
       "      <td>14</td>\n",
       "      <td>Lover</td>\n",
       "    </tr>\n",
       "    <tr>\n",
       "      <th>309</th>\n",
       "      <td>Afterglow</td>\n",
       "      <td>15</td>\n",
       "      <td>Lover</td>\n",
       "    </tr>\n",
       "    <tr>\n",
       "      <th>310</th>\n",
       "      <td>ME! (feat. Brendon Urie of Panic! At The Disco)</td>\n",
       "      <td>16</td>\n",
       "      <td>Lover</td>\n",
       "    </tr>\n",
       "    <tr>\n",
       "      <th>311</th>\n",
       "      <td>It’s Nice To Have A Friend</td>\n",
       "      <td>17</td>\n",
       "      <td>Lover</td>\n",
       "    </tr>\n",
       "    <tr>\n",
       "      <th>312</th>\n",
       "      <td>Daylight</td>\n",
       "      <td>18</td>\n",
       "      <td>Lover</td>\n",
       "    </tr>\n",
       "  </tbody>\n",
       "</table>\n",
       "</div>"
      ],
      "text/plain": [
       "                                          track_name  track_number album_name\n",
       "277                        I Forgot That You Existed             1      Lover\n",
       "278                                     Cruel Summer             2      Lover\n",
       "279                                            Lover             3      Lover\n",
       "280                                          The Man             4      Lover\n",
       "281                                       The Archer             5      Lover\n",
       "282                                 I Think He Knows             6      Lover\n",
       "283           Miss Americana & The Heartbreak Prince             7      Lover\n",
       "284                                      Paper Rings             8      Lover\n",
       "285                                  Cornelia Street             9      Lover\n",
       "286                         Death By A Thousand Cuts            10      Lover\n",
       "287                                       London Boy            11      Lover\n",
       "288        Soon You’ll Get Better (feat. The Chicks)            12      Lover\n",
       "289                                        False God            13      Lover\n",
       "290                            You Need To Calm Down            14      Lover\n",
       "291                                        Afterglow            15      Lover\n",
       "292  ME! (feat. Brendon Urie of Panic! At The Disco)            16      Lover\n",
       "293                       It’s Nice To Have A Friend            17      Lover\n",
       "294                                         Daylight            18      Lover\n",
       "295                        I Forgot That You Existed             1      Lover\n",
       "296                                     Cruel Summer             2      Lover\n",
       "297                                            Lover             3      Lover\n",
       "298                                          The Man             4      Lover\n",
       "299                                       The Archer             5      Lover\n",
       "300                                 I Think He Knows             6      Lover\n",
       "301           Miss Americana & The Heartbreak Prince             7      Lover\n",
       "302                                      Paper Rings             8      Lover\n",
       "303                                  Cornelia Street             9      Lover\n",
       "304                         Death By A Thousand Cuts            10      Lover\n",
       "305                                       London Boy            11      Lover\n",
       "306        Soon You’ll Get Better (feat. The Chicks)            12      Lover\n",
       "307                                        False God            13      Lover\n",
       "308                            You Need To Calm Down            14      Lover\n",
       "309                                        Afterglow            15      Lover\n",
       "310  ME! (feat. Brendon Urie of Panic! At The Disco)            16      Lover\n",
       "311                       It’s Nice To Have A Friend            17      Lover\n",
       "312                                         Daylight            18      Lover"
      ]
     },
     "execution_count": 30,
     "metadata": {},
     "output_type": "execute_result"
    }
   ],
   "source": [
    "album_duplicado = df[df['album_id'] == '1NAmidJlEaVgA3MpcPFYGq']\n",
    "\n",
    "album_duplicado[['track_name', 'track_number', 'album_name']]"
   ]
  },
  {
   "cell_type": "markdown",
   "metadata": {},
   "source": [
    "Podemos ver que efectivamente tenemos un album duplicado, esto nos explica 18 de los 20 registros duplicados en las pisatas, vamos a ver si encontramos las duplicadas y si son un problema."
   ]
  },
  {
   "cell_type": "code",
   "execution_count": 31,
   "metadata": {},
   "outputs": [],
   "source": [
    "sin_cd_duplicado = df[df['album_id'] != '1NAmidJlEaVgA3MpcPFYGq'][['track_name', 'audio_features.id']]"
   ]
  },
  {
   "cell_type": "code",
   "execution_count": 32,
   "metadata": {},
   "outputs": [
    {
     "data": {
      "text/html": [
       "<div>\n",
       "<style scoped>\n",
       "    .dataframe tbody tr th:only-of-type {\n",
       "        vertical-align: middle;\n",
       "    }\n",
       "\n",
       "    .dataframe tbody tr th {\n",
       "        vertical-align: top;\n",
       "    }\n",
       "\n",
       "    .dataframe thead th {\n",
       "        text-align: right;\n",
       "    }\n",
       "</style>\n",
       "<table border=\"1\" class=\"dataframe\">\n",
       "  <thead>\n",
       "    <tr style=\"text-align: right;\">\n",
       "      <th></th>\n",
       "      <th>track_name</th>\n",
       "      <th>audio_features.id</th>\n",
       "    </tr>\n",
       "  </thead>\n",
       "  <tbody>\n",
       "    <tr>\n",
       "      <th>85</th>\n",
       "      <td>Hits Different</td>\n",
       "      <td>3xYJScVfxByb61dYHTwiby</td>\n",
       "    </tr>\n",
       "    <tr>\n",
       "      <th>88</th>\n",
       "      <td>Hits Different</td>\n",
       "      <td>3xYJScVfxByb61dYHTwiby</td>\n",
       "    </tr>\n",
       "    <tr>\n",
       "      <th>320</th>\n",
       "      <td>Gorgeous</td>\n",
       "      <td>1ZY1PqizIl78geGM4xWlEA</td>\n",
       "    </tr>\n",
       "    <tr>\n",
       "      <th>321</th>\n",
       "      <td>Gorgeous</td>\n",
       "      <td>1ZY1PqizIl78geGM4xWlEA</td>\n",
       "    </tr>\n",
       "  </tbody>\n",
       "</table>\n",
       "</div>"
      ],
      "text/plain": [
       "         track_name       audio_features.id\n",
       "85   Hits Different  3xYJScVfxByb61dYHTwiby\n",
       "88   Hits Different  3xYJScVfxByb61dYHTwiby\n",
       "320        Gorgeous  1ZY1PqizIl78geGM4xWlEA\n",
       "321        Gorgeous  1ZY1PqizIl78geGM4xWlEA"
      ]
     },
     "execution_count": 32,
     "metadata": {},
     "output_type": "execute_result"
    }
   ],
   "source": [
    "sin_cd_duplicado = sin_cd_duplicado[sin_cd_duplicado['audio_features.id'].duplicated(keep=False)]\n",
    "sin_cd_duplicado"
   ]
  },
  {
   "cell_type": "code",
   "execution_count": 33,
   "metadata": {},
   "outputs": [
    {
     "data": {
      "text/plain": [
       "85     True\n",
       "88     True\n",
       "320    True\n",
       "321    True\n",
       "dtype: bool"
      ]
     },
     "execution_count": 33,
     "metadata": {},
     "output_type": "execute_result"
    }
   ],
   "source": [
    "# lista_duplicadas = ['3xYJScVfxByb61dYHTwiby', '1ZY1PqizIl78geGM4xWlEA']\n",
    "pistas_dup = df[(df['audio_features.id'] == '3xYJScVfxByb61dYHTwiby') | (df['audio_features.id'] == '1ZY1PqizIl78geGM4xWlEA')]\n",
    "pistas_dup.duplicated(keep=False)"
   ]
  },
  {
   "cell_type": "markdown",
   "metadata": {},
   "source": [
    "También vemos que tenemos dos pistas duplicadas, dentro de un mismo cd."
   ]
  },
  {
   "cell_type": "markdown",
   "metadata": {},
   "source": [
    "Este álbum duplicado junto a el tema duplicado nos explican los 38 registros duplicados.\n",
    "\n",
    "(2 álbumes x 18 pistas) + 2 pistas x 2 = 40 registros duplicados"
   ]
  },
  {
   "cell_type": "code",
   "execution_count": 34,
   "metadata": {},
   "outputs": [
    {
     "name": "stdout",
     "output_type": "stream",
     "text": [
      "False\n",
      "   index       explicit      \n",
      "    self other     self other\n",
      "0    277   295      NaN   NaN\n",
      "1    278   296    False    No\n",
      "2    279   297      NaN   NaN\n",
      "3    280   298      NaN   NaN\n",
      "4    281   299      NaN   NaN\n",
      "5    282   300      NaN   NaN\n",
      "6    283   301      NaN   NaN\n",
      "7    284   302      NaN   NaN\n",
      "8    285   303      NaN   NaN\n",
      "9    286   304      NaN   NaN\n",
      "10   287   305      NaN   NaN\n",
      "11   288   306      NaN   NaN\n",
      "12   289   307      NaN   NaN\n",
      "13   290   308      NaN   NaN\n",
      "14   291   309      NaN   NaN\n",
      "15   292   310      NaN   NaN\n",
      "16   293   311      NaN   NaN\n",
      "17   294   312      NaN   NaN\n"
     ]
    }
   ],
   "source": [
    "album_duplicado1 = df.iloc[277:295].reset_index()\n",
    "album_duplicado2 = df.iloc[295:313].reset_index()\n",
    "\n",
    "print(album_duplicado1.equals(album_duplicado2))\n",
    "print(album_duplicado1.compare(album_duplicado2))"
   ]
  },
  {
   "cell_type": "code",
   "execution_count": 35,
   "metadata": {},
   "outputs": [
    {
     "data": {
      "text/html": [
       "<div>\n",
       "<style scoped>\n",
       "    .dataframe tbody tr th:only-of-type {\n",
       "        vertical-align: middle;\n",
       "    }\n",
       "\n",
       "    .dataframe tbody tr th {\n",
       "        vertical-align: top;\n",
       "    }\n",
       "\n",
       "    .dataframe thead th {\n",
       "        text-align: right;\n",
       "    }\n",
       "</style>\n",
       "<table border=\"1\" class=\"dataframe\">\n",
       "  <thead>\n",
       "    <tr style=\"text-align: right;\">\n",
       "      <th></th>\n",
       "      <th>track_number</th>\n",
       "      <th>audio_features.id</th>\n",
       "      <th>album_id</th>\n",
       "    </tr>\n",
       "  </thead>\n",
       "  <tbody>\n",
       "    <tr>\n",
       "      <th>277</th>\n",
       "      <td>1</td>\n",
       "      <td>43rA71bccXFGD4C8GOpIlN</td>\n",
       "      <td>1NAmidJlEaVgA3MpcPFYGq</td>\n",
       "    </tr>\n",
       "    <tr>\n",
       "      <th>278</th>\n",
       "      <td>2</td>\n",
       "      <td>1BxfuPKGuaTgP7aM0Bbdwr</td>\n",
       "      <td>1NAmidJlEaVgA3MpcPFYGq</td>\n",
       "    </tr>\n",
       "    <tr>\n",
       "      <th>279</th>\n",
       "      <td>3</td>\n",
       "      <td>1dGr1c8CrMLDpV6mPbImSI</td>\n",
       "      <td>1NAmidJlEaVgA3MpcPFYGq</td>\n",
       "    </tr>\n",
       "    <tr>\n",
       "      <th>280</th>\n",
       "      <td>4</td>\n",
       "      <td>3RauEVgRgj1IuWdJ9fDs70</td>\n",
       "      <td>1NAmidJlEaVgA3MpcPFYGq</td>\n",
       "    </tr>\n",
       "    <tr>\n",
       "      <th>281</th>\n",
       "      <td>5</td>\n",
       "      <td>3pHkh7d0lzM2AldUtz2x37</td>\n",
       "      <td>1NAmidJlEaVgA3MpcPFYGq</td>\n",
       "    </tr>\n",
       "    <tr>\n",
       "      <th>282</th>\n",
       "      <td>6</td>\n",
       "      <td>2YWtcWi3a83pdEg3Gif4Pd</td>\n",
       "      <td>1NAmidJlEaVgA3MpcPFYGq</td>\n",
       "    </tr>\n",
       "    <tr>\n",
       "      <th>283</th>\n",
       "      <td>7</td>\n",
       "      <td>214nt20w5wOxJnY462klLw</td>\n",
       "      <td>1NAmidJlEaVgA3MpcPFYGq</td>\n",
       "    </tr>\n",
       "    <tr>\n",
       "      <th>284</th>\n",
       "      <td>8</td>\n",
       "      <td>4y5bvROuBDPr5fuwXbIBZR</td>\n",
       "      <td>1NAmidJlEaVgA3MpcPFYGq</td>\n",
       "    </tr>\n",
       "    <tr>\n",
       "      <th>285</th>\n",
       "      <td>9</td>\n",
       "      <td>12M5uqx0ZuwkpLp5rJim1a</td>\n",
       "      <td>1NAmidJlEaVgA3MpcPFYGq</td>\n",
       "    </tr>\n",
       "    <tr>\n",
       "      <th>286</th>\n",
       "      <td>10</td>\n",
       "      <td>2dgFqt3w9xIQRjhPtwNk3D</td>\n",
       "      <td>1NAmidJlEaVgA3MpcPFYGq</td>\n",
       "    </tr>\n",
       "    <tr>\n",
       "      <th>287</th>\n",
       "      <td>11</td>\n",
       "      <td>1LLXZFeAHK9R4xUramtUKw</td>\n",
       "      <td>1NAmidJlEaVgA3MpcPFYGq</td>\n",
       "    </tr>\n",
       "    <tr>\n",
       "      <th>288</th>\n",
       "      <td>12</td>\n",
       "      <td>4AYtqFyFbX0Xkc2wtcygTr</td>\n",
       "      <td>1NAmidJlEaVgA3MpcPFYGq</td>\n",
       "    </tr>\n",
       "    <tr>\n",
       "      <th>289</th>\n",
       "      <td>13</td>\n",
       "      <td>5hQSXkFgbxjZo9uCwd11so</td>\n",
       "      <td>1NAmidJlEaVgA3MpcPFYGq</td>\n",
       "    </tr>\n",
       "    <tr>\n",
       "      <th>290</th>\n",
       "      <td>14</td>\n",
       "      <td>6RRNNciQGZEXnqk8SQ9yv5</td>\n",
       "      <td>1NAmidJlEaVgA3MpcPFYGq</td>\n",
       "    </tr>\n",
       "    <tr>\n",
       "      <th>291</th>\n",
       "      <td>15</td>\n",
       "      <td>1SymEzIT3H8UZfibCs3TYi</td>\n",
       "      <td>1NAmidJlEaVgA3MpcPFYGq</td>\n",
       "    </tr>\n",
       "    <tr>\n",
       "      <th>292</th>\n",
       "      <td>16</td>\n",
       "      <td>2Rk4JlNc2TPmZe2af99d45</td>\n",
       "      <td>1NAmidJlEaVgA3MpcPFYGq</td>\n",
       "    </tr>\n",
       "    <tr>\n",
       "      <th>293</th>\n",
       "      <td>17</td>\n",
       "      <td>1SmiQ65iSAbPto6gPFlBYm</td>\n",
       "      <td>1NAmidJlEaVgA3MpcPFYGq</td>\n",
       "    </tr>\n",
       "    <tr>\n",
       "      <th>294</th>\n",
       "      <td>18</td>\n",
       "      <td>1fzAuUVbzlhZ1lJAx9PtY6</td>\n",
       "      <td>1NAmidJlEaVgA3MpcPFYGq</td>\n",
       "    </tr>\n",
       "    <tr>\n",
       "      <th>295</th>\n",
       "      <td>1</td>\n",
       "      <td>43rA71bccXFGD4C8GOpIlN</td>\n",
       "      <td>1NAmidJlEaVgA3MpcPFYGq</td>\n",
       "    </tr>\n",
       "    <tr>\n",
       "      <th>296</th>\n",
       "      <td>2</td>\n",
       "      <td>1BxfuPKGuaTgP7aM0Bbdwr</td>\n",
       "      <td>1NAmidJlEaVgA3MpcPFYGq</td>\n",
       "    </tr>\n",
       "    <tr>\n",
       "      <th>297</th>\n",
       "      <td>3</td>\n",
       "      <td>1dGr1c8CrMLDpV6mPbImSI</td>\n",
       "      <td>1NAmidJlEaVgA3MpcPFYGq</td>\n",
       "    </tr>\n",
       "    <tr>\n",
       "      <th>298</th>\n",
       "      <td>4</td>\n",
       "      <td>3RauEVgRgj1IuWdJ9fDs70</td>\n",
       "      <td>1NAmidJlEaVgA3MpcPFYGq</td>\n",
       "    </tr>\n",
       "    <tr>\n",
       "      <th>299</th>\n",
       "      <td>5</td>\n",
       "      <td>3pHkh7d0lzM2AldUtz2x37</td>\n",
       "      <td>1NAmidJlEaVgA3MpcPFYGq</td>\n",
       "    </tr>\n",
       "    <tr>\n",
       "      <th>300</th>\n",
       "      <td>6</td>\n",
       "      <td>2YWtcWi3a83pdEg3Gif4Pd</td>\n",
       "      <td>1NAmidJlEaVgA3MpcPFYGq</td>\n",
       "    </tr>\n",
       "    <tr>\n",
       "      <th>301</th>\n",
       "      <td>7</td>\n",
       "      <td>214nt20w5wOxJnY462klLw</td>\n",
       "      <td>1NAmidJlEaVgA3MpcPFYGq</td>\n",
       "    </tr>\n",
       "    <tr>\n",
       "      <th>302</th>\n",
       "      <td>8</td>\n",
       "      <td>4y5bvROuBDPr5fuwXbIBZR</td>\n",
       "      <td>1NAmidJlEaVgA3MpcPFYGq</td>\n",
       "    </tr>\n",
       "    <tr>\n",
       "      <th>303</th>\n",
       "      <td>9</td>\n",
       "      <td>12M5uqx0ZuwkpLp5rJim1a</td>\n",
       "      <td>1NAmidJlEaVgA3MpcPFYGq</td>\n",
       "    </tr>\n",
       "    <tr>\n",
       "      <th>304</th>\n",
       "      <td>10</td>\n",
       "      <td>2dgFqt3w9xIQRjhPtwNk3D</td>\n",
       "      <td>1NAmidJlEaVgA3MpcPFYGq</td>\n",
       "    </tr>\n",
       "    <tr>\n",
       "      <th>305</th>\n",
       "      <td>11</td>\n",
       "      <td>1LLXZFeAHK9R4xUramtUKw</td>\n",
       "      <td>1NAmidJlEaVgA3MpcPFYGq</td>\n",
       "    </tr>\n",
       "    <tr>\n",
       "      <th>306</th>\n",
       "      <td>12</td>\n",
       "      <td>4AYtqFyFbX0Xkc2wtcygTr</td>\n",
       "      <td>1NAmidJlEaVgA3MpcPFYGq</td>\n",
       "    </tr>\n",
       "    <tr>\n",
       "      <th>307</th>\n",
       "      <td>13</td>\n",
       "      <td>5hQSXkFgbxjZo9uCwd11so</td>\n",
       "      <td>1NAmidJlEaVgA3MpcPFYGq</td>\n",
       "    </tr>\n",
       "    <tr>\n",
       "      <th>308</th>\n",
       "      <td>14</td>\n",
       "      <td>6RRNNciQGZEXnqk8SQ9yv5</td>\n",
       "      <td>1NAmidJlEaVgA3MpcPFYGq</td>\n",
       "    </tr>\n",
       "    <tr>\n",
       "      <th>309</th>\n",
       "      <td>15</td>\n",
       "      <td>1SymEzIT3H8UZfibCs3TYi</td>\n",
       "      <td>1NAmidJlEaVgA3MpcPFYGq</td>\n",
       "    </tr>\n",
       "    <tr>\n",
       "      <th>310</th>\n",
       "      <td>16</td>\n",
       "      <td>2Rk4JlNc2TPmZe2af99d45</td>\n",
       "      <td>1NAmidJlEaVgA3MpcPFYGq</td>\n",
       "    </tr>\n",
       "    <tr>\n",
       "      <th>311</th>\n",
       "      <td>17</td>\n",
       "      <td>1SmiQ65iSAbPto6gPFlBYm</td>\n",
       "      <td>1NAmidJlEaVgA3MpcPFYGq</td>\n",
       "    </tr>\n",
       "    <tr>\n",
       "      <th>312</th>\n",
       "      <td>18</td>\n",
       "      <td>1fzAuUVbzlhZ1lJAx9PtY6</td>\n",
       "      <td>1NAmidJlEaVgA3MpcPFYGq</td>\n",
       "    </tr>\n",
       "  </tbody>\n",
       "</table>\n",
       "</div>"
      ],
      "text/plain": [
       "     track_number       audio_features.id                album_id\n",
       "277             1  43rA71bccXFGD4C8GOpIlN  1NAmidJlEaVgA3MpcPFYGq\n",
       "278             2  1BxfuPKGuaTgP7aM0Bbdwr  1NAmidJlEaVgA3MpcPFYGq\n",
       "279             3  1dGr1c8CrMLDpV6mPbImSI  1NAmidJlEaVgA3MpcPFYGq\n",
       "280             4  3RauEVgRgj1IuWdJ9fDs70  1NAmidJlEaVgA3MpcPFYGq\n",
       "281             5  3pHkh7d0lzM2AldUtz2x37  1NAmidJlEaVgA3MpcPFYGq\n",
       "282             6  2YWtcWi3a83pdEg3Gif4Pd  1NAmidJlEaVgA3MpcPFYGq\n",
       "283             7  214nt20w5wOxJnY462klLw  1NAmidJlEaVgA3MpcPFYGq\n",
       "284             8  4y5bvROuBDPr5fuwXbIBZR  1NAmidJlEaVgA3MpcPFYGq\n",
       "285             9  12M5uqx0ZuwkpLp5rJim1a  1NAmidJlEaVgA3MpcPFYGq\n",
       "286            10  2dgFqt3w9xIQRjhPtwNk3D  1NAmidJlEaVgA3MpcPFYGq\n",
       "287            11  1LLXZFeAHK9R4xUramtUKw  1NAmidJlEaVgA3MpcPFYGq\n",
       "288            12  4AYtqFyFbX0Xkc2wtcygTr  1NAmidJlEaVgA3MpcPFYGq\n",
       "289            13  5hQSXkFgbxjZo9uCwd11so  1NAmidJlEaVgA3MpcPFYGq\n",
       "290            14  6RRNNciQGZEXnqk8SQ9yv5  1NAmidJlEaVgA3MpcPFYGq\n",
       "291            15  1SymEzIT3H8UZfibCs3TYi  1NAmidJlEaVgA3MpcPFYGq\n",
       "292            16  2Rk4JlNc2TPmZe2af99d45  1NAmidJlEaVgA3MpcPFYGq\n",
       "293            17  1SmiQ65iSAbPto6gPFlBYm  1NAmidJlEaVgA3MpcPFYGq\n",
       "294            18  1fzAuUVbzlhZ1lJAx9PtY6  1NAmidJlEaVgA3MpcPFYGq\n",
       "295             1  43rA71bccXFGD4C8GOpIlN  1NAmidJlEaVgA3MpcPFYGq\n",
       "296             2  1BxfuPKGuaTgP7aM0Bbdwr  1NAmidJlEaVgA3MpcPFYGq\n",
       "297             3  1dGr1c8CrMLDpV6mPbImSI  1NAmidJlEaVgA3MpcPFYGq\n",
       "298             4  3RauEVgRgj1IuWdJ9fDs70  1NAmidJlEaVgA3MpcPFYGq\n",
       "299             5  3pHkh7d0lzM2AldUtz2x37  1NAmidJlEaVgA3MpcPFYGq\n",
       "300             6  2YWtcWi3a83pdEg3Gif4Pd  1NAmidJlEaVgA3MpcPFYGq\n",
       "301             7  214nt20w5wOxJnY462klLw  1NAmidJlEaVgA3MpcPFYGq\n",
       "302             8  4y5bvROuBDPr5fuwXbIBZR  1NAmidJlEaVgA3MpcPFYGq\n",
       "303             9  12M5uqx0ZuwkpLp5rJim1a  1NAmidJlEaVgA3MpcPFYGq\n",
       "304            10  2dgFqt3w9xIQRjhPtwNk3D  1NAmidJlEaVgA3MpcPFYGq\n",
       "305            11  1LLXZFeAHK9R4xUramtUKw  1NAmidJlEaVgA3MpcPFYGq\n",
       "306            12  4AYtqFyFbX0Xkc2wtcygTr  1NAmidJlEaVgA3MpcPFYGq\n",
       "307            13  5hQSXkFgbxjZo9uCwd11so  1NAmidJlEaVgA3MpcPFYGq\n",
       "308            14  6RRNNciQGZEXnqk8SQ9yv5  1NAmidJlEaVgA3MpcPFYGq\n",
       "309            15  1SymEzIT3H8UZfibCs3TYi  1NAmidJlEaVgA3MpcPFYGq\n",
       "310            16  2Rk4JlNc2TPmZe2af99d45  1NAmidJlEaVgA3MpcPFYGq\n",
       "311            17  1SmiQ65iSAbPto6gPFlBYm  1NAmidJlEaVgA3MpcPFYGq\n",
       "312            18  1fzAuUVbzlhZ1lJAx9PtY6  1NAmidJlEaVgA3MpcPFYGq"
      ]
     },
     "execution_count": 35,
     "metadata": {},
     "output_type": "execute_result"
    }
   ],
   "source": [
    "album_duplicado[['track_number', 'audio_features.id', 'album_id']]"
   ]
  },
  {
   "cell_type": "markdown",
   "metadata": {},
   "source": [
    "Vemos que pudimos encontrar un duplicado más, ya que hay una diferencia en la pista 2, vamos a ver cual es la diferencia."
   ]
  },
  {
   "cell_type": "code",
   "execution_count": 36,
   "metadata": {},
   "outputs": [
    {
     "data": {
      "text/html": [
       "<div>\n",
       "<style scoped>\n",
       "    .dataframe tbody tr th:only-of-type {\n",
       "        vertical-align: middle;\n",
       "    }\n",
       "\n",
       "    .dataframe tbody tr th {\n",
       "        vertical-align: top;\n",
       "    }\n",
       "\n",
       "    .dataframe thead th {\n",
       "        text-align: right;\n",
       "    }\n",
       "</style>\n",
       "<table border=\"1\" class=\"dataframe\">\n",
       "  <thead>\n",
       "    <tr style=\"text-align: right;\">\n",
       "      <th></th>\n",
       "      <th>disc_number</th>\n",
       "      <th>duration_ms</th>\n",
       "      <th>explicit</th>\n",
       "      <th>track_number</th>\n",
       "      <th>track_popularity</th>\n",
       "      <th>track_name</th>\n",
       "      <th>audio_features.danceability</th>\n",
       "      <th>audio_features.energy</th>\n",
       "      <th>audio_features.key</th>\n",
       "      <th>audio_features.loudness</th>\n",
       "      <th>...</th>\n",
       "      <th>audio_features.tempo</th>\n",
       "      <th>audio_features.id</th>\n",
       "      <th>audio_features.time_signature</th>\n",
       "      <th>artist_id</th>\n",
       "      <th>artist_name</th>\n",
       "      <th>artist_popularity</th>\n",
       "      <th>album_id</th>\n",
       "      <th>album_name</th>\n",
       "      <th>album_release_date</th>\n",
       "      <th>album_total_tracks</th>\n",
       "    </tr>\n",
       "  </thead>\n",
       "  <tbody>\n",
       "    <tr>\n",
       "      <th>278</th>\n",
       "      <td>1</td>\n",
       "      <td>178426</td>\n",
       "      <td>False</td>\n",
       "      <td>2</td>\n",
       "      <td>99</td>\n",
       "      <td>Cruel Summer</td>\n",
       "      <td>0.552</td>\n",
       "      <td>0.702</td>\n",
       "      <td>9.0</td>\n",
       "      <td>-5.707</td>\n",
       "      <td>...</td>\n",
       "      <td>169.994</td>\n",
       "      <td>1BxfuPKGuaTgP7aM0Bbdwr</td>\n",
       "      <td>4.0</td>\n",
       "      <td>06HL4z0CvFAxyc27GX</td>\n",
       "      <td>Taylor Swift</td>\n",
       "      <td>120</td>\n",
       "      <td>1NAmidJlEaVgA3MpcPFYGq</td>\n",
       "      <td>Lover</td>\n",
       "      <td>2019-08-23</td>\n",
       "      <td>18</td>\n",
       "    </tr>\n",
       "    <tr>\n",
       "      <th>296</th>\n",
       "      <td>1</td>\n",
       "      <td>178426</td>\n",
       "      <td>No</td>\n",
       "      <td>2</td>\n",
       "      <td>99</td>\n",
       "      <td>Cruel Summer</td>\n",
       "      <td>0.552</td>\n",
       "      <td>0.702</td>\n",
       "      <td>9.0</td>\n",
       "      <td>-5.707</td>\n",
       "      <td>...</td>\n",
       "      <td>169.994</td>\n",
       "      <td>1BxfuPKGuaTgP7aM0Bbdwr</td>\n",
       "      <td>4.0</td>\n",
       "      <td>06HL4z0CvFAxyc27GX</td>\n",
       "      <td>Taylor Swift</td>\n",
       "      <td>120</td>\n",
       "      <td>1NAmidJlEaVgA3MpcPFYGq</td>\n",
       "      <td>Lover</td>\n",
       "      <td>2019-08-23</td>\n",
       "      <td>18</td>\n",
       "    </tr>\n",
       "  </tbody>\n",
       "</table>\n",
       "<p>2 rows × 26 columns</p>\n",
       "</div>"
      ],
      "text/plain": [
       "     disc_number  duration_ms explicit  track_number  track_popularity  \\\n",
       "278            1       178426    False             2                99   \n",
       "296            1       178426       No             2                99   \n",
       "\n",
       "       track_name  audio_features.danceability  audio_features.energy  \\\n",
       "278  Cruel Summer                        0.552                  0.702   \n",
       "296  Cruel Summer                        0.552                  0.702   \n",
       "\n",
       "     audio_features.key  audio_features.loudness  ...  audio_features.tempo  \\\n",
       "278                 9.0                   -5.707  ...               169.994   \n",
       "296                 9.0                   -5.707  ...               169.994   \n",
       "\n",
       "          audio_features.id  audio_features.time_signature  \\\n",
       "278  1BxfuPKGuaTgP7aM0Bbdwr                            4.0   \n",
       "296  1BxfuPKGuaTgP7aM0Bbdwr                            4.0   \n",
       "\n",
       "              artist_id   artist_name  artist_popularity  \\\n",
       "278  06HL4z0CvFAxyc27GX  Taylor Swift                120   \n",
       "296  06HL4z0CvFAxyc27GX  Taylor Swift                120   \n",
       "\n",
       "                   album_id album_name  album_release_date album_total_tracks  \n",
       "278  1NAmidJlEaVgA3MpcPFYGq      Lover          2019-08-23                 18  \n",
       "296  1NAmidJlEaVgA3MpcPFYGq      Lover          2019-08-23                 18  \n",
       "\n",
       "[2 rows x 26 columns]"
      ]
     },
     "execution_count": 36,
     "metadata": {},
     "output_type": "execute_result"
    }
   ],
   "source": [
    "df_tema2 = df[(df['audio_features.id'] == '1BxfuPKGuaTgP7aM0Bbdwr') & (df['album_id'] == '1NAmidJlEaVgA3MpcPFYGq')]\n",
    "df_tema2"
   ]
  },
  {
   "cell_type": "markdown",
   "metadata": {},
   "source": [
    "Finalmente comparando ambos temas, podemos ver que hay una diferencia en la variable **explicit**, lo cual pienso que se podría dar debido a que una de las canciones tenga censura, pero de ser así tendría que tener otro identificador único, aparte de que en la documentación de Spotify explica que un False en la variable explicit no necesariamente significa que no posee contenido explícito.\n",
    "Aparte de todo eso, está en un álbum claramente duplicado."
   ]
  },
  {
   "cell_type": "code",
   "execution_count": 37,
   "metadata": {},
   "outputs": [
    {
     "name": "stdout",
     "output_type": "stream",
     "text": [
      "Uniqueness = 92.59%\n"
     ]
    }
   ],
   "source": [
    "repetidos_columna = 1 * df.shape[0]\n",
    "\n",
    "repetidos_filas = (df.shape[1] - 1) * 20 # 20 canciones, restamos una columna que ya contemplamos en repetidos_columna\n",
    "\n",
    "total_repetidos = repetidos_columna + repetidos_filas\n",
    "\n",
    "uniqueness = round(100 - (total_repetidos / df.size * 100), 2)\n",
    "\n",
    "print(f'Uniqueness = {uniqueness}%')"
   ]
  },
  {
   "cell_type": "code",
   "execution_count": 38,
   "metadata": {},
   "outputs": [
    {
     "data": {
      "image/png": "[encoded data removed]",
      "text/plain": [
       "<Figure size 640x480 with 1 Axes>"
      ]
     },
     "metadata": {},
     "output_type": "display_data"
    }
   ],
   "source": [
    "comp_labels = ['Unique', 'Duplicated']\n",
    "\n",
    "comp_data = [uniqueness, 100 - uniqueness]\n",
    "\n",
    "plt.pie(comp_data, labels=comp_labels, autopct='%1.1f%%', pctdistance=0.85)\n",
    "\n",
    "centre_circle = plt.Circle((0, 0), 0.70, fc='white')\n",
    "fig = plt.gcf()\n",
    "\n",
    "fig.gca().add_artist(centre_circle)\n",
    "\n",
    "plt.title('Uniqueness')\n",
    "\n",
    "plt.show()"
   ]
  },
  {
   "cell_type": "markdown",
   "metadata": {},
   "source": [
    "#### Uniqueness = 92.59% <a class=\"anchor\" id=\"puntuacion_2\"></a>\n",
    "\n",
    "Si bien hay información que se repite en todas las filas, como el nombre del artista, su popularidad e identificador único; así como información de los álbumes, considero que es información mas bien redundante, no repetida.\n",
    "\n",
    "Por lo tanto tenemos una columna, un álbum y una canción repetidos.\n",
    "\n",
    "[Índice](#indice)"
   ]
  },
  {
   "cell_type": "markdown",
   "metadata": {},
   "source": [
    "---"
   ]
  },
  {
   "cell_type": "markdown",
   "metadata": {},
   "source": [
    "### 4 - Timeliness <a class=\"anchor\" id=\"timeliness\"></a>\n",
    "\n",
    "Texto extraido de la [pagina FANDOM](https://taylorswift.fandom.com/es/wiki/Discograf%C3%ADa) de Taylor Swift:\n",
    "\n",
    "\"Esta página registra la discografía de Taylor Swift, que consiste en 9 álbumes de estudio, 13 extended plays (EP), 4 álbumes en vivo, 4 álbumes de video, y más de cincuenta sencillos.\"\n",
    "\n",
    "Osea que posee 26 en total (ignoramos los 4 en vivo), siendo el último **1989** al igual que en esta base de datos.\n",
    "\n",
    "[Índice](#indice)"
   ]
  },
  {
   "cell_type": "code",
   "execution_count": 39,
   "metadata": {},
   "outputs": [
    {
     "data": {
      "text/html": [
       "<div>\n",
       "<style scoped>\n",
       "    .dataframe tbody tr th:only-of-type {\n",
       "        vertical-align: middle;\n",
       "    }\n",
       "\n",
       "    .dataframe tbody tr th {\n",
       "        vertical-align: top;\n",
       "    }\n",
       "\n",
       "    .dataframe thead th {\n",
       "        text-align: right;\n",
       "    }\n",
       "</style>\n",
       "<table border=\"1\" class=\"dataframe\">\n",
       "  <thead>\n",
       "    <tr style=\"text-align: right;\">\n",
       "      <th></th>\n",
       "      <th>album_name</th>\n",
       "      <th>album_release_date</th>\n",
       "    </tr>\n",
       "  </thead>\n",
       "  <tbody>\n",
       "    <tr>\n",
       "      <th>394</th>\n",
       "      <td>1989</td>\n",
       "      <td>2014-01-01</td>\n",
       "    </tr>\n",
       "  </tbody>\n",
       "</table>\n",
       "</div>"
      ],
      "text/plain": [
       "    album_name album_release_date\n",
       "394       1989         2014-01-01"
      ]
     },
     "execution_count": 39,
     "metadata": {},
     "output_type": "execute_result"
    }
   ],
   "source": [
    "df[df['album_name'] == '1989'][['album_name', 'album_release_date']].head(1)"
   ]
  },
  {
   "cell_type": "markdown",
   "metadata": {},
   "source": [
    "Se creó un nuevo script, para extraer información de Spotify nuevamente, para comprobar que no haya un úlbum nuevo actualmente."
   ]
  },
  {
   "cell_type": "code",
   "execution_count": 40,
   "metadata": {},
   "outputs": [
    {
     "data": {
      "text/html": [
       "<div>\n",
       "<style scoped>\n",
       "    .dataframe tbody tr th:only-of-type {\n",
       "        vertical-align: middle;\n",
       "    }\n",
       "\n",
       "    .dataframe tbody tr th {\n",
       "        vertical-align: top;\n",
       "    }\n",
       "\n",
       "    .dataframe thead th {\n",
       "        text-align: right;\n",
       "    }\n",
       "</style>\n",
       "<table border=\"1\" class=\"dataframe\">\n",
       "  <thead>\n",
       "    <tr style=\"text-align: right;\">\n",
       "      <th></th>\n",
       "      <th>name</th>\n",
       "      <th>release_date</th>\n",
       "    </tr>\n",
       "  </thead>\n",
       "  <tbody>\n",
       "    <tr>\n",
       "      <th>0</th>\n",
       "      <td>1989 (Taylor's Version) [Deluxe]</td>\n",
       "      <td>2023-10-27</td>\n",
       "    </tr>\n",
       "    <tr>\n",
       "      <th>1</th>\n",
       "      <td>1989 (Taylor's Version)</td>\n",
       "      <td>2023-10-26</td>\n",
       "    </tr>\n",
       "    <tr>\n",
       "      <th>2</th>\n",
       "      <td>Speak Now (Taylor's Version)</td>\n",
       "      <td>2023-07-07</td>\n",
       "    </tr>\n",
       "    <tr>\n",
       "      <th>3</th>\n",
       "      <td>Midnights (The Til Dawn Edition)</td>\n",
       "      <td>2023-05-26</td>\n",
       "    </tr>\n",
       "    <tr>\n",
       "      <th>4</th>\n",
       "      <td>Midnights (3am Edition)</td>\n",
       "      <td>2022-10-22</td>\n",
       "    </tr>\n",
       "    <tr>\n",
       "      <th>5</th>\n",
       "      <td>Midnights</td>\n",
       "      <td>2022-10-21</td>\n",
       "    </tr>\n",
       "    <tr>\n",
       "      <th>6</th>\n",
       "      <td>Red (Taylor's Version)</td>\n",
       "      <td>2021-11-12</td>\n",
       "    </tr>\n",
       "    <tr>\n",
       "      <th>7</th>\n",
       "      <td>Fearless (Taylor's Version)</td>\n",
       "      <td>2021-04-09</td>\n",
       "    </tr>\n",
       "    <tr>\n",
       "      <th>8</th>\n",
       "      <td>evermore (deluxe version)</td>\n",
       "      <td>2021-01-07</td>\n",
       "    </tr>\n",
       "    <tr>\n",
       "      <th>9</th>\n",
       "      <td>evermore</td>\n",
       "      <td>2020-12-11</td>\n",
       "    </tr>\n",
       "    <tr>\n",
       "      <th>10</th>\n",
       "      <td>folklore: the long pond studio sessions (from ...</td>\n",
       "      <td>2020-11-25</td>\n",
       "    </tr>\n",
       "    <tr>\n",
       "      <th>11</th>\n",
       "      <td>folklore (deluxe version)</td>\n",
       "      <td>2020-08-18</td>\n",
       "    </tr>\n",
       "    <tr>\n",
       "      <th>12</th>\n",
       "      <td>folklore</td>\n",
       "      <td>2020-07-24</td>\n",
       "    </tr>\n",
       "    <tr>\n",
       "      <th>13</th>\n",
       "      <td>Lover</td>\n",
       "      <td>2019-08-23</td>\n",
       "    </tr>\n",
       "    <tr>\n",
       "      <th>14</th>\n",
       "      <td>reputation</td>\n",
       "      <td>2017-11-10</td>\n",
       "    </tr>\n",
       "    <tr>\n",
       "      <th>15</th>\n",
       "      <td>reputation Stadium Tour Surprise Song Playlist</td>\n",
       "      <td>2017-11-09</td>\n",
       "    </tr>\n",
       "    <tr>\n",
       "      <th>16</th>\n",
       "      <td>1989 (Deluxe)</td>\n",
       "      <td>2014-01-01</td>\n",
       "    </tr>\n",
       "    <tr>\n",
       "      <th>17</th>\n",
       "      <td>1989</td>\n",
       "      <td>2014-01-01</td>\n",
       "    </tr>\n",
       "    <tr>\n",
       "      <th>18</th>\n",
       "      <td>Red (Deluxe Edition)</td>\n",
       "      <td>2012-10-22</td>\n",
       "    </tr>\n",
       "    <tr>\n",
       "      <th>19</th>\n",
       "      <td>Speak Now World Tour Live</td>\n",
       "      <td>2010-10-25</td>\n",
       "    </tr>\n",
       "    <tr>\n",
       "      <th>20</th>\n",
       "      <td>Speak Now</td>\n",
       "      <td>2010-10-25</td>\n",
       "    </tr>\n",
       "    <tr>\n",
       "      <th>21</th>\n",
       "      <td>Speak Now (Deluxe Package)</td>\n",
       "      <td>2010-01-01</td>\n",
       "    </tr>\n",
       "    <tr>\n",
       "      <th>22</th>\n",
       "      <td>Fearless (Platinum Edition)</td>\n",
       "      <td>2008-11-11</td>\n",
       "    </tr>\n",
       "    <tr>\n",
       "      <th>23</th>\n",
       "      <td>Fearless (International Version)</td>\n",
       "      <td>2008-11-11</td>\n",
       "    </tr>\n",
       "    <tr>\n",
       "      <th>24</th>\n",
       "      <td>Live From Clear Channel Stripped 2008</td>\n",
       "      <td>2008-06-28</td>\n",
       "    </tr>\n",
       "    <tr>\n",
       "      <th>25</th>\n",
       "      <td>Taylor Swift</td>\n",
       "      <td>2006-10-24</td>\n",
       "    </tr>\n",
       "  </tbody>\n",
       "</table>\n",
       "</div>"
      ],
      "text/plain": [
       "                                                 name release_date\n",
       "0                    1989 (Taylor's Version) [Deluxe]   2023-10-27\n",
       "1                             1989 (Taylor's Version)   2023-10-26\n",
       "2                        Speak Now (Taylor's Version)   2023-07-07\n",
       "3                    Midnights (The Til Dawn Edition)   2023-05-26\n",
       "4                             Midnights (3am Edition)   2022-10-22\n",
       "5                                           Midnights   2022-10-21\n",
       "6                              Red (Taylor's Version)   2021-11-12\n",
       "7                         Fearless (Taylor's Version)   2021-04-09\n",
       "8                           evermore (deluxe version)   2021-01-07\n",
       "9                                            evermore   2020-12-11\n",
       "10  folklore: the long pond studio sessions (from ...   2020-11-25\n",
       "11                          folklore (deluxe version)   2020-08-18\n",
       "12                                           folklore   2020-07-24\n",
       "13                                              Lover   2019-08-23\n",
       "14                                         reputation   2017-11-10\n",
       "15     reputation Stadium Tour Surprise Song Playlist   2017-11-09\n",
       "16                                      1989 (Deluxe)   2014-01-01\n",
       "17                                               1989   2014-01-01\n",
       "18                               Red (Deluxe Edition)   2012-10-22\n",
       "19                          Speak Now World Tour Live   2010-10-25\n",
       "20                                          Speak Now   2010-10-25\n",
       "21                         Speak Now (Deluxe Package)   2010-01-01\n",
       "22                        Fearless (Platinum Edition)   2008-11-11\n",
       "23                   Fearless (International Version)   2008-11-11\n",
       "24              Live From Clear Channel Stripped 2008   2008-06-28\n",
       "25                                       Taylor Swift   2006-10-24"
      ]
     },
     "execution_count": 40,
     "metadata": {},
     "output_type": "execute_result"
    }
   ],
   "source": [
    "with open('consulta_actual.json', 'r') as file:\n",
    "    data = json.load(file)\n",
    "\n",
    "df_actual = pd.json_normalize(data=data, record_path=['albums'])\n",
    "df_actual.iloc[:,[1,2]]"
   ]
  },
  {
   "cell_type": "code",
   "execution_count": 41,
   "metadata": {},
   "outputs": [
    {
     "name": "stdout",
     "output_type": "stream",
     "text": [
      "26\n",
      "26\n"
     ]
    }
   ],
   "source": [
    "album_id_actual = list(df_actual['id'])\n",
    "\n",
    "album_id = list(df.album_id.unique())\n",
    "\n",
    "print(len(album_id_actual))\n",
    "print(len(album_id))"
   ]
  },
  {
   "cell_type": "markdown",
   "metadata": {},
   "source": [
    "Comprobamos que la cantidad de álbumes actual corresponde con la cantidad del dataset proporcionado."
   ]
  },
  {
   "cell_type": "code",
   "execution_count": 42,
   "metadata": {},
   "outputs": [
    {
     "data": {
      "text/plain": [
       "0"
      ]
     },
     "execution_count": 42,
     "metadata": {},
     "output_type": "execute_result"
    }
   ],
   "source": [
    "cantidad = len(album_id_actual)\n",
    "\n",
    "for id in album_id_actual:\n",
    "    if id in album_id:\n",
    "        cantidad -= 1\n",
    "\n",
    "cantidad"
   ]
  },
  {
   "cell_type": "markdown",
   "metadata": {},
   "source": [
    "Por último vamos a ver una variable más encontrada en la documentación de la API de Spotify, que es **release_date_precision**.\n",
    "\n",
    "Que es la precisión con la que se conoce el valor de la fecha de lanzamiento del álbum."
   ]
  },
  {
   "cell_type": "code",
   "execution_count": 43,
   "metadata": {},
   "outputs": [
    {
     "data": {
      "text/plain": [
       "['day']"
      ]
     },
     "execution_count": 43,
     "metadata": {},
     "output_type": "execute_result"
    }
   ],
   "source": [
    "with open('release_date_precision.json', 'r') as file:\n",
    "    data = json.load(file)\n",
    "\n",
    "df_precision = pd.json_normalize(data=data,)\n",
    "list(df_precision[\"release_date_precision\"].unique())"
   ]
  },
  {
   "cell_type": "markdown",
   "metadata": {},
   "source": [
    "Vemos que estas fechas de lanzamiento tienen un precisión de un día."
   ]
  },
  {
   "cell_type": "code",
   "execution_count": 44,
   "metadata": {},
   "outputs": [
    {
     "data": {
      "image/png": "[encoded data removed]",
      "text/plain": [
       "<Figure size 640x480 with 1 Axes>"
      ]
     },
     "metadata": {},
     "output_type": "display_data"
    }
   ],
   "source": [
    "timeliness = 100\n",
    "\n",
    "comp_labels = ['Dated', 'Outdated']\n",
    "\n",
    "comp_data = [timeliness, 0]\n",
    "\n",
    "plt.pie(comp_data, labels=comp_labels, autopct='%1.1f%%', pctdistance=0.85)\n",
    "\n",
    "centre_circle = plt.Circle((0, 0), 0.70, fc='white')\n",
    "fig = plt.gcf()\n",
    "\n",
    "fig.gca().add_artist(centre_circle)\n",
    "\n",
    "plt.title('Timeliness')\n",
    "\n",
    "plt.show()"
   ]
  },
  {
   "cell_type": "markdown",
   "metadata": {},
   "source": [
    "#### Timeliness = 100% <a class=\"anchor\" id=\"puntuacion_3\"></a>\n",
    "\n",
    "Lo más importante es que se pudo comprobar que el dataset se encuentra actualizado hasta el último álbum.\n",
    "\n",
    "Si bien **release_date** y **release _date_precision** no quiere decir que el día que se lanza un album es el mismo día que se encuentra disponible en Spotify, aportan confianza.\n",
    "\n",
    "Por último, según documentación de Spotify, un albúm puede tardar algunos días desde su subida hasta estar disponible al público, ya que Spotify hace un control de todo lo que se sube, aún así Spotify ofrece opciones para que se pueda cargar contenido con anticipación y este sea lanzado el día esperado, lo cual es de esperarce con artistas de gran talla como Taylor Swift.\n",
    "\n",
    "[Índice](#indice)"
   ]
  },
  {
   "cell_type": "markdown",
   "metadata": {},
   "source": [
    "---"
   ]
  },
  {
   "cell_type": "markdown",
   "metadata": {},
   "source": [
    "### 5 - Validity <a class=\"anchor\" id=\"validity\"></a>\n",
    "\n",
    "**Pequeño recordatorio:**\n",
    "\n",
    "- **disc_number:** entero > 0\n",
    "\n",
    "- **duration_ms:** entero > 0\n",
    "\n",
    "- **track_number:** entero > 0\n",
    "\n",
    "- **track_popularity:** entero entre 0 y 100\n",
    "\n",
    "- **audio_features.danceability:** float entre 0 y 1\n",
    "\n",
    "- **audio_features.energy:** float entre 0 y 1\n",
    "\n",
    "- **audio_features.key:** entero entre -1 y 11\n",
    "\n",
    "- **audio_features.loudness:** float entre -60 y 0\n",
    "\n",
    "- **audio_features.mode:** entero 1 o 0\n",
    "\n",
    "- **audio_features.speechiness:** float entre 0 y 1\n",
    "\n",
    "- **audio_features.acousticness:** float entre 0 y 1\n",
    "\n",
    "- **audio_features.instrumentalness:** float entre 0 y 1\n",
    "\n",
    "- **audio_features.liveness:** float entre 0 y 1\n",
    "\n",
    "- **audio_features.valence:** float entre 0 y 1\n",
    "\n",
    "- **audio_features.tempo:** float\n",
    "\n",
    "- **audio_features.id:** string, chequear que el largo de los strings sea consistente\n",
    "\n",
    "- **audio_features.time_signature:** entero entre 3 y 7\n",
    "\n",
    "- **artist_id:** string, chequear que el largo de los strings sea consistente\n",
    "\n",
    "- **artist_name:** string\n",
    "\n",
    "- **artist_popularity:** entero\n",
    "\n",
    "- **album_id:** string, chequear que el largo de los strings sea consistente\n",
    "\n",
    "- **album_release_date:** date, entre 24/10/2006 (primer álbum) y 27/10/2023 (último álbum)\n",
    "\n",
    "- **album_total_tracks:** entero\n",
    "\n",
    "[Índice](#indice)"
   ]
  },
  {
   "cell_type": "code",
   "execution_count": 45,
   "metadata": {},
   "outputs": [
    {
     "name": "stdout",
     "output_type": "stream",
     "text": [
      "<class 'pandas.core.frame.DataFrame'>\n",
      "RangeIndex: 539 entries, 0 to 538\n",
      "Data columns (total 26 columns):\n",
      " #   Column                           Non-Null Count  Dtype  \n",
      "---  ------                           --------------  -----  \n",
      " 0   disc_number                      539 non-null    int64  \n",
      " 1   duration_ms                      539 non-null    int64  \n",
      " 2   explicit                         539 non-null    object \n",
      " 3   track_number                     539 non-null    int64  \n",
      " 4   track_popularity                 539 non-null    int64  \n",
      " 5   track_name                       532 non-null    object \n",
      " 6   audio_features.danceability      537 non-null    float64\n",
      " 7   audio_features.energy            537 non-null    float64\n",
      " 8   audio_features.key               538 non-null    float64\n",
      " 9   audio_features.loudness          537 non-null    float64\n",
      " 10  audio_features.mode              539 non-null    int64  \n",
      " 11  audio_features.speechiness       538 non-null    float64\n",
      " 12  audio_features.acousticness      538 non-null    float64\n",
      " 13  audio_features.instrumentalness  539 non-null    object \n",
      " 14  audio_features.liveness          538 non-null    float64\n",
      " 15  audio_features.valence           539 non-null    float64\n",
      " 16  audio_features.tempo             538 non-null    float64\n",
      " 17  audio_features.id                539 non-null    object \n",
      " 18  audio_features.time_signature    538 non-null    float64\n",
      " 19  artist_id                        539 non-null    object \n",
      " 20  artist_name                      539 non-null    object \n",
      " 21  artist_popularity                539 non-null    int64  \n",
      " 22  album_id                         539 non-null    object \n",
      " 23  album_name                       477 non-null    object \n",
      " 24  album_release_date               539 non-null    object \n",
      " 25  album_total_tracks               539 non-null    object \n",
      "dtypes: float64(10), int64(6), object(10)\n",
      "memory usage: 109.6+ KB\n"
     ]
    }
   ],
   "source": [
    "df.info()"
   ]
  },
  {
   "cell_type": "markdown",
   "metadata": {},
   "source": [
    "Vemos que la columna **explicit** es de tipo object, cuando debería ser booleana, como vimos anteriormente, en lugar de tener True o False, también tiene Si(1) y No(4)"
   ]
  },
  {
   "cell_type": "code",
   "execution_count": 46,
   "metadata": {},
   "outputs": [
    {
     "data": {
      "text/plain": [
       "explicit\n",
       "False    480\n",
       "True      54\n",
       "No         4\n",
       "Si         1\n",
       "Name: count, dtype: int64"
      ]
     },
     "execution_count": 46,
     "metadata": {},
     "output_type": "execute_result"
    }
   ],
   "source": [
    "df['explicit'].value_counts()"
   ]
  },
  {
   "cell_type": "code",
   "execution_count": 47,
   "metadata": {},
   "outputs": [],
   "source": [
    "df['explicit'] = df['explicit'].str.replace('Si', 'True')\n",
    "df['explicit'] = df['explicit'].str.replace('No', '')\n",
    "df['explicit'] = df['explicit'].str.replace('False', '')\n",
    "df['explicit'] = df['explicit'].astype(bool)"
   ]
  },
  {
   "cell_type": "code",
   "execution_count": 48,
   "metadata": {},
   "outputs": [
    {
     "name": "stdout",
     "output_type": "stream",
     "text": [
      "<class 'pandas.core.frame.DataFrame'>\n",
      "RangeIndex: 539 entries, 0 to 538\n",
      "Data columns (total 26 columns):\n",
      " #   Column                           Non-Null Count  Dtype  \n",
      "---  ------                           --------------  -----  \n",
      " 0   disc_number                      539 non-null    int64  \n",
      " 1   duration_ms                      539 non-null    int64  \n",
      " 2   explicit                         539 non-null    bool   \n",
      " 3   track_number                     539 non-null    int64  \n",
      " 4   track_popularity                 539 non-null    int64  \n",
      " 5   track_name                       532 non-null    object \n",
      " 6   audio_features.danceability      537 non-null    float64\n",
      " 7   audio_features.energy            537 non-null    float64\n",
      " 8   audio_features.key               538 non-null    float64\n",
      " 9   audio_features.loudness          537 non-null    float64\n",
      " 10  audio_features.mode              539 non-null    int64  \n",
      " 11  audio_features.speechiness       538 non-null    float64\n",
      " 12  audio_features.acousticness      538 non-null    float64\n",
      " 13  audio_features.instrumentalness  539 non-null    object \n",
      " 14  audio_features.liveness          538 non-null    float64\n",
      " 15  audio_features.valence           539 non-null    float64\n",
      " 16  audio_features.tempo             538 non-null    float64\n",
      " 17  audio_features.id                539 non-null    object \n",
      " 18  audio_features.time_signature    538 non-null    float64\n",
      " 19  artist_id                        539 non-null    object \n",
      " 20  artist_name                      539 non-null    object \n",
      " 21  artist_popularity                539 non-null    int64  \n",
      " 22  album_id                         539 non-null    object \n",
      " 23  album_name                       477 non-null    object \n",
      " 24  album_release_date               539 non-null    object \n",
      " 25  album_total_tracks               539 non-null    object \n",
      "dtypes: bool(1), float64(10), int64(6), object(9)\n",
      "memory usage: 105.9+ KB\n"
     ]
    }
   ],
   "source": [
    "df.info()"
   ]
  },
  {
   "cell_type": "code",
   "execution_count": 49,
   "metadata": {},
   "outputs": [],
   "source": [
    "inv_explicit = 5"
   ]
  },
  {
   "cell_type": "markdown",
   "metadata": {},
   "source": [
    "**audio_features.instrumentalness** debería ser punto flotante"
   ]
  },
  {
   "cell_type": "code",
   "execution_count": 50,
   "metadata": {},
   "outputs": [
    {
     "data": {
      "text/plain": [
       "0      3.66e-05\n",
       "1             0\n",
       "2        0.0197\n",
       "3      5.59e-05\n",
       "4             0\n",
       "         ...   \n",
       "534           0\n",
       "535    0.000807\n",
       "536           0\n",
       "537           0\n",
       "538           0\n",
       "Name: audio_features.instrumentalness, Length: 539, dtype: object"
      ]
     },
     "execution_count": 50,
     "metadata": {},
     "output_type": "execute_result"
    }
   ],
   "source": [
    "df['audio_features.instrumentalness']"
   ]
  },
  {
   "cell_type": "markdown",
   "metadata": {},
   "source": [
    "Vemos que al querer convertir la columna **audio_features.instrumentalness** a punto flotante nos marca un error, ya que tenemos una notación científica como *7.28x-06* en lugar de *7.28e-06*"
   ]
  },
  {
   "cell_type": "code",
   "execution_count": 51,
   "metadata": {},
   "outputs": [
    {
     "name": "stdout",
     "output_type": "stream",
     "text": [
      "could not convert string to float: '7.28x-06'\n"
     ]
    }
   ],
   "source": [
    "try:\n",
    "    df['audio_features.instrumentalness'] = df['audio_features.instrumentalness'].astype(float)\n",
    "except ValueError as e:\n",
    "    print(e)"
   ]
  },
  {
   "cell_type": "markdown",
   "metadata": {},
   "source": [
    "Vemos que hay 4 valores que tienen una **x** en lugar de una **e**."
   ]
  },
  {
   "cell_type": "code",
   "execution_count": 52,
   "metadata": {},
   "outputs": [
    {
     "data": {
      "text/plain": [
       "audio_features.instrumentalness\n",
       "-1    538\n",
       " 4      1\n",
       "Name: count, dtype: int64"
      ]
     },
     "execution_count": 52,
     "metadata": {},
     "output_type": "execute_result"
    }
   ],
   "source": [
    "df['audio_features.instrumentalness'].str.find('x').value_counts()"
   ]
  },
  {
   "cell_type": "code",
   "execution_count": 53,
   "metadata": {},
   "outputs": [],
   "source": [
    "inv_instrumentalness = 4"
   ]
  },
  {
   "cell_type": "code",
   "execution_count": 54,
   "metadata": {},
   "outputs": [],
   "source": [
    "df['audio_features.instrumentalness'] = df['audio_features.instrumentalness'].str.replace('x', 'e')"
   ]
  },
  {
   "cell_type": "markdown",
   "metadata": {},
   "source": [
    "La vamos a comvertir a punto flotante por más de que no sea parte de la consigna, para ver si los valores están dentro de rango."
   ]
  },
  {
   "cell_type": "code",
   "execution_count": 55,
   "metadata": {},
   "outputs": [],
   "source": [
    "df['audio_features.instrumentalness'] = df['audio_features.instrumentalness'].astype(float)"
   ]
  },
  {
   "cell_type": "markdown",
   "metadata": {},
   "source": [
    "En este caso solo teníamos esas 4 **x** en lugar de **e**, y al reemplazarlas se solucionó el problema, pero en caso de haber mas errores habría que escribir una función usando expresiones regulares para comprobar la validez de los datos."
   ]
  },
  {
   "cell_type": "markdown",
   "metadata": {},
   "source": [
    "La columna fecha tiene todos datos válidos.\n",
    "Spoiler: ya vamos a ver que tiene valores fuera de rango."
   ]
  },
  {
   "cell_type": "code",
   "execution_count": 56,
   "metadata": {},
   "outputs": [
    {
     "data": {
      "text/plain": [
       "<bound method Series.info of 0     2023-10-27\n",
       "1     2023-10-27\n",
       "2     2023-10-27\n",
       "3     2023-10-27\n",
       "4     2023-10-27\n",
       "         ...    \n",
       "534   1989-10-24\n",
       "535   1989-10-24\n",
       "536   1989-10-24\n",
       "537   1989-10-24\n",
       "538   1989-10-24\n",
       "Name: album_release_date, Length: 539, dtype: datetime64[ns]>"
      ]
     },
     "execution_count": 56,
     "metadata": {},
     "output_type": "execute_result"
    }
   ],
   "source": [
    "try:\n",
    "    df['album_release_date'] = pd.to_datetime(df['album_release_date'])\n",
    "except ValueError as e:\n",
    "    print(e)\n",
    "\n",
    "df['album_release_date'].info"
   ]
  },
  {
   "cell_type": "code",
   "execution_count": 57,
   "metadata": {},
   "outputs": [
    {
     "name": "stdout",
     "output_type": "stream",
     "text": [
      "invalid literal for int() with base 10: 'Thirteen'\n"
     ]
    }
   ],
   "source": [
    "try:\n",
    "    df['album_total_tracks'] = df['album_total_tracks'].astype(int)\n",
    "except ValueError as e:\n",
    "    print(e)"
   ]
  },
  {
   "cell_type": "code",
   "execution_count": 58,
   "metadata": {},
   "outputs": [
    {
     "data": {
      "text/plain": [
       "album_total_tracks\n",
       "22          88\n",
       "34          64\n",
       "16          48\n",
       "46          46\n",
       "19          38\n",
       "18          36\n",
       "17          34\n",
       "13          26\n",
       "26          26\n",
       "24          24\n",
       "21          21\n",
       "20          20\n",
       "15          16\n",
       "10          15\n",
       "Thirteen    15\n",
       "14          14\n",
       "8            8\n",
       "Name: count, dtype: int64"
      ]
     },
     "execution_count": 58,
     "metadata": {},
     "output_type": "execute_result"
    }
   ],
   "source": [
    "df['album_total_tracks'].value_counts()"
   ]
  },
  {
   "cell_type": "code",
   "execution_count": 59,
   "metadata": {},
   "outputs": [],
   "source": [
    "inv_album_total_tracks = 15"
   ]
  },
  {
   "cell_type": "code",
   "execution_count": 60,
   "metadata": {},
   "outputs": [],
   "source": [
    "df['album_total_tracks'] = df['album_total_tracks'].str.replace('Thirteen', '13')\n",
    "\n",
    "df['album_total_tracks'] = df['album_total_tracks'].astype(int)"
   ]
  },
  {
   "cell_type": "markdown",
   "metadata": {},
   "source": [
    "Vamos a usar el método DataFrame.describe() para ver información estadística del conjunto de datos y ver que tenemos que investigar."
   ]
  },
  {
   "cell_type": "code",
   "execution_count": 61,
   "metadata": {},
   "outputs": [
    {
     "data": {
      "text/html": [
       "<div>\n",
       "<style scoped>\n",
       "    .dataframe tbody tr th:only-of-type {\n",
       "        vertical-align: middle;\n",
       "    }\n",
       "\n",
       "    .dataframe tbody tr th {\n",
       "        vertical-align: top;\n",
       "    }\n",
       "\n",
       "    .dataframe thead th {\n",
       "        text-align: right;\n",
       "    }\n",
       "</style>\n",
       "<table border=\"1\" class=\"dataframe\">\n",
       "  <thead>\n",
       "    <tr style=\"text-align: right;\">\n",
       "      <th></th>\n",
       "      <th>disc_number</th>\n",
       "      <th>duration_ms</th>\n",
       "      <th>track_number</th>\n",
       "      <th>track_popularity</th>\n",
       "      <th>audio_features.danceability</th>\n",
       "      <th>audio_features.energy</th>\n",
       "      <th>audio_features.key</th>\n",
       "      <th>audio_features.loudness</th>\n",
       "      <th>audio_features.mode</th>\n",
       "      <th>audio_features.speechiness</th>\n",
       "      <th>audio_features.acousticness</th>\n",
       "      <th>audio_features.instrumentalness</th>\n",
       "      <th>audio_features.liveness</th>\n",
       "      <th>audio_features.valence</th>\n",
       "      <th>audio_features.tempo</th>\n",
       "      <th>audio_features.time_signature</th>\n",
       "      <th>artist_popularity</th>\n",
       "      <th>album_release_date</th>\n",
       "      <th>album_total_tracks</th>\n",
       "    </tr>\n",
       "  </thead>\n",
       "  <tbody>\n",
       "    <tr>\n",
       "      <th>count</th>\n",
       "      <td>539.000000</td>\n",
       "      <td>539.000000</td>\n",
       "      <td>539.000000</td>\n",
       "      <td>539.000000</td>\n",
       "      <td>537.000000</td>\n",
       "      <td>537.000000</td>\n",
       "      <td>538.000000</td>\n",
       "      <td>537.000000</td>\n",
       "      <td>539.000000</td>\n",
       "      <td>538.000000</td>\n",
       "      <td>538.000000</td>\n",
       "      <td>539.000000</td>\n",
       "      <td>538.000000</td>\n",
       "      <td>539.000000</td>\n",
       "      <td>538.000000</td>\n",
       "      <td>538.000000</td>\n",
       "      <td>539.0</td>\n",
       "      <td>539</td>\n",
       "      <td>539.000000</td>\n",
       "    </tr>\n",
       "    <tr>\n",
       "      <th>mean</th>\n",
       "      <td>1.031540</td>\n",
       "      <td>236003.725417</td>\n",
       "      <td>11.280148</td>\n",
       "      <td>62.918367</td>\n",
       "      <td>0.587242</td>\n",
       "      <td>0.573065</td>\n",
       "      <td>4.587361</td>\n",
       "      <td>-7.520639</td>\n",
       "      <td>0.912801</td>\n",
       "      <td>0.057709</td>\n",
       "      <td>0.337806</td>\n",
       "      <td>0.003909</td>\n",
       "      <td>0.163308</td>\n",
       "      <td>0.398410</td>\n",
       "      <td>122.362639</td>\n",
       "      <td>3.986989</td>\n",
       "      <td>120.0</td>\n",
       "      <td>2017-09-10 02:08:14.248608768</td>\n",
       "      <td>22.671614</td>\n",
       "    </tr>\n",
       "    <tr>\n",
       "      <th>min</th>\n",
       "      <td>1.000000</td>\n",
       "      <td>-223093.000000</td>\n",
       "      <td>1.000000</td>\n",
       "      <td>-92.000000</td>\n",
       "      <td>0.243000</td>\n",
       "      <td>0.118000</td>\n",
       "      <td>0.000000</td>\n",
       "      <td>-17.932000</td>\n",
       "      <td>0.000000</td>\n",
       "      <td>0.023100</td>\n",
       "      <td>-0.003540</td>\n",
       "      <td>0.000000</td>\n",
       "      <td>0.033500</td>\n",
       "      <td>0.037400</td>\n",
       "      <td>68.097000</td>\n",
       "      <td>3.000000</td>\n",
       "      <td>120.0</td>\n",
       "      <td>1989-10-24 00:00:00</td>\n",
       "      <td>8.000000</td>\n",
       "    </tr>\n",
       "    <tr>\n",
       "      <th>25%</th>\n",
       "      <td>1.000000</td>\n",
       "      <td>209486.500000</td>\n",
       "      <td>5.000000</td>\n",
       "      <td>51.000000</td>\n",
       "      <td>0.517000</td>\n",
       "      <td>0.436000</td>\n",
       "      <td>2.000000</td>\n",
       "      <td>-9.287000</td>\n",
       "      <td>1.000000</td>\n",
       "      <td>0.030525</td>\n",
       "      <td>0.036250</td>\n",
       "      <td>0.000000</td>\n",
       "      <td>0.096500</td>\n",
       "      <td>0.230000</td>\n",
       "      <td>96.684500</td>\n",
       "      <td>4.000000</td>\n",
       "      <td>120.0</td>\n",
       "      <td>2014-01-01 00:00:00</td>\n",
       "      <td>16.000000</td>\n",
       "    </tr>\n",
       "    <tr>\n",
       "      <th>50%</th>\n",
       "      <td>1.000000</td>\n",
       "      <td>233626.000000</td>\n",
       "      <td>10.000000</td>\n",
       "      <td>69.000000</td>\n",
       "      <td>0.595000</td>\n",
       "      <td>0.589000</td>\n",
       "      <td>5.000000</td>\n",
       "      <td>-6.942000</td>\n",
       "      <td>1.000000</td>\n",
       "      <td>0.037750</td>\n",
       "      <td>0.167500</td>\n",
       "      <td>0.000002</td>\n",
       "      <td>0.115000</td>\n",
       "      <td>0.386000</td>\n",
       "      <td>119.000500</td>\n",
       "      <td>4.000000</td>\n",
       "      <td>120.0</td>\n",
       "      <td>2020-07-24 00:00:00</td>\n",
       "      <td>20.000000</td>\n",
       "    </tr>\n",
       "    <tr>\n",
       "      <th>75%</th>\n",
       "      <td>1.000000</td>\n",
       "      <td>259045.500000</td>\n",
       "      <td>15.000000</td>\n",
       "      <td>77.000000</td>\n",
       "      <td>0.661000</td>\n",
       "      <td>0.729000</td>\n",
       "      <td>7.000000</td>\n",
       "      <td>-5.376000</td>\n",
       "      <td>1.000000</td>\n",
       "      <td>0.056400</td>\n",
       "      <td>0.663750</td>\n",
       "      <td>0.000063</td>\n",
       "      <td>0.162250</td>\n",
       "      <td>0.535000</td>\n",
       "      <td>143.939000</td>\n",
       "      <td>4.000000</td>\n",
       "      <td>120.0</td>\n",
       "      <td>2021-11-12 00:00:00</td>\n",
       "      <td>26.000000</td>\n",
       "    </tr>\n",
       "    <tr>\n",
       "      <th>max</th>\n",
       "      <td>2.000000</td>\n",
       "      <td>613026.000000</td>\n",
       "      <td>46.000000</td>\n",
       "      <td>152.000000</td>\n",
       "      <td>0.897000</td>\n",
       "      <td>0.949000</td>\n",
       "      <td>11.000000</td>\n",
       "      <td>-1.909000</td>\n",
       "      <td>1.000000</td>\n",
       "      <td>0.912000</td>\n",
       "      <td>5.000000</td>\n",
       "      <td>0.488000</td>\n",
       "      <td>0.931000</td>\n",
       "      <td>0.943000</td>\n",
       "      <td>208.918000</td>\n",
       "      <td>5.000000</td>\n",
       "      <td>120.0</td>\n",
       "      <td>2027-05-26 00:00:00</td>\n",
       "      <td>46.000000</td>\n",
       "    </tr>\n",
       "    <tr>\n",
       "      <th>std</th>\n",
       "      <td>0.174934</td>\n",
       "      <td>55019.871010</td>\n",
       "      <td>7.965621</td>\n",
       "      <td>22.498757</td>\n",
       "      <td>0.116858</td>\n",
       "      <td>0.192309</td>\n",
       "      <td>3.246082</td>\n",
       "      <td>2.933158</td>\n",
       "      <td>0.282388</td>\n",
       "      <td>0.073146</td>\n",
       "      <td>0.395292</td>\n",
       "      <td>0.032864</td>\n",
       "      <td>0.141800</td>\n",
       "      <td>0.199409</td>\n",
       "      <td>30.485522</td>\n",
       "      <td>0.197323</td>\n",
       "      <td>0.0</td>\n",
       "      <td>NaN</td>\n",
       "      <td>9.475744</td>\n",
       "    </tr>\n",
       "  </tbody>\n",
       "</table>\n",
       "</div>"
      ],
      "text/plain": [
       "       disc_number    duration_ms  track_number  track_popularity  \\\n",
       "count   539.000000     539.000000    539.000000        539.000000   \n",
       "mean      1.031540  236003.725417     11.280148         62.918367   \n",
       "min       1.000000 -223093.000000      1.000000        -92.000000   \n",
       "25%       1.000000  209486.500000      5.000000         51.000000   \n",
       "50%       1.000000  233626.000000     10.000000         69.000000   \n",
       "75%       1.000000  259045.500000     15.000000         77.000000   \n",
       "max       2.000000  613026.000000     46.000000        152.000000   \n",
       "std       0.174934   55019.871010      7.965621         22.498757   \n",
       "\n",
       "       audio_features.danceability  audio_features.energy  audio_features.key  \\\n",
       "count                   537.000000             537.000000          538.000000   \n",
       "mean                      0.587242               0.573065            4.587361   \n",
       "min                       0.243000               0.118000            0.000000   \n",
       "25%                       0.517000               0.436000            2.000000   \n",
       "50%                       0.595000               0.589000            5.000000   \n",
       "75%                       0.661000               0.729000            7.000000   \n",
       "max                       0.897000               0.949000           11.000000   \n",
       "std                       0.116858               0.192309            3.246082   \n",
       "\n",
       "       audio_features.loudness  audio_features.mode  \\\n",
       "count               537.000000           539.000000   \n",
       "mean                 -7.520639             0.912801   \n",
       "min                 -17.932000             0.000000   \n",
       "25%                  -9.287000             1.000000   \n",
       "50%                  -6.942000             1.000000   \n",
       "75%                  -5.376000             1.000000   \n",
       "max                  -1.909000             1.000000   \n",
       "std                   2.933158             0.282388   \n",
       "\n",
       "       audio_features.speechiness  audio_features.acousticness  \\\n",
       "count                  538.000000                   538.000000   \n",
       "mean                     0.057709                     0.337806   \n",
       "min                      0.023100                    -0.003540   \n",
       "25%                      0.030525                     0.036250   \n",
       "50%                      0.037750                     0.167500   \n",
       "75%                      0.056400                     0.663750   \n",
       "max                      0.912000                     5.000000   \n",
       "std                      0.073146                     0.395292   \n",
       "\n",
       "       audio_features.instrumentalness  audio_features.liveness  \\\n",
       "count                       539.000000               538.000000   \n",
       "mean                          0.003909                 0.163308   \n",
       "min                           0.000000                 0.033500   \n",
       "25%                           0.000000                 0.096500   \n",
       "50%                           0.000002                 0.115000   \n",
       "75%                           0.000063                 0.162250   \n",
       "max                           0.488000                 0.931000   \n",
       "std                           0.032864                 0.141800   \n",
       "\n",
       "       audio_features.valence  audio_features.tempo  \\\n",
       "count              539.000000            538.000000   \n",
       "mean                 0.398410            122.362639   \n",
       "min                  0.037400             68.097000   \n",
       "25%                  0.230000             96.684500   \n",
       "50%                  0.386000            119.000500   \n",
       "75%                  0.535000            143.939000   \n",
       "max                  0.943000            208.918000   \n",
       "std                  0.199409             30.485522   \n",
       "\n",
       "       audio_features.time_signature  artist_popularity  \\\n",
       "count                     538.000000              539.0   \n",
       "mean                        3.986989              120.0   \n",
       "min                         3.000000              120.0   \n",
       "25%                         4.000000              120.0   \n",
       "50%                         4.000000              120.0   \n",
       "75%                         4.000000              120.0   \n",
       "max                         5.000000              120.0   \n",
       "std                         0.197323                0.0   \n",
       "\n",
       "                  album_release_date  album_total_tracks  \n",
       "count                            539          539.000000  \n",
       "mean   2017-09-10 02:08:14.248608768           22.671614  \n",
       "min              1989-10-24 00:00:00            8.000000  \n",
       "25%              2014-01-01 00:00:00           16.000000  \n",
       "50%              2020-07-24 00:00:00           20.000000  \n",
       "75%              2021-11-12 00:00:00           26.000000  \n",
       "max              2027-05-26 00:00:00           46.000000  \n",
       "std                              NaN            9.475744  "
      ]
     },
     "execution_count": 61,
     "metadata": {},
     "output_type": "execute_result"
    }
   ],
   "source": [
    "df.describe()"
   ]
  },
  {
   "cell_type": "markdown",
   "metadata": {},
   "source": [
    "Con describe podemos ver que las siguientes columnas poseen valores dentro de lo establecido:\n",
    "- disc_number\n",
    "- audio_features.danceability\n",
    "- audio_features.energy\n",
    "- audio_features.key\n",
    "- audio_features.loudness\n",
    "- audio_features.mode\n",
    "- audio_features.speechiness\n",
    "- audio_features.instrumentalness\n",
    "- audio_features.liveness\n",
    "- audio_features.valence\n",
    "- audio_features.tempo\n",
    "- audio_features.time_signature\n",
    "- artist_popularity\n",
    "\n",
    "Pero vemos otras que no tienen valores acordes o que tenemos que explorar mejor ya que no están dentro de un rango:\n",
    "- **duration_ms:** vemos un valor negativo\n",
    "- **track_number:** max 46 parece elevado pero vemos que coincide con album total tracks\n",
    "- **track_popularity:** vemos un valor negativo uno mayor a 100\n",
    "- **audio_features.acousticness:** vemos un valor negativo y uno mayor a 1\n",
    "- **album_release_date:** vemos una fecha mínima muy baja así como una máxima muy alta"
   ]
  },
  {
   "cell_type": "markdown",
   "metadata": {},
   "source": [
    "Vemos que los largos de los ids de álbums y de pistas son constantes (22 caracteres)"
   ]
  },
  {
   "cell_type": "code",
   "execution_count": 62,
   "metadata": {},
   "outputs": [
    {
     "name": "stdout",
     "output_type": "stream",
     "text": [
      "Largo de los id de cada pista:\n",
      "audio_features.id\n",
      "22    539\n",
      "Name: count, dtype: int64\n"
     ]
    }
   ],
   "source": [
    "#df['largo_id_track'] = df['audio_features.id'].str.len()\n",
    "print('Largo de los id de cada pista:')\n",
    "print(df['audio_features.id'].str.len().value_counts())"
   ]
  },
  {
   "cell_type": "code",
   "execution_count": 63,
   "metadata": {},
   "outputs": [
    {
     "name": "stdout",
     "output_type": "stream",
     "text": [
      "Largo de los id de cada álbum:\n",
      "album_id\n",
      "22    539\n",
      "Name: count, dtype: int64\n"
     ]
    }
   ],
   "source": [
    "print('Largo de los id de cada álbum:')\n",
    "print(df['album_id'].str.len().value_counts())"
   ]
  },
  {
   "cell_type": "markdown",
   "metadata": {},
   "source": [
    "Podemos ver que en la columna **duration_ms** tenemos 2 valores menores a cero."
   ]
  },
  {
   "cell_type": "code",
   "execution_count": 64,
   "metadata": {},
   "outputs": [
    {
     "name": "stdout",
     "output_type": "stream",
     "text": [
      "Valores menores a 0 = 2\n"
     ]
    }
   ],
   "source": [
    "duration_menor_que_cero = (df['duration_ms'] < 0).sum()\n",
    "\n",
    "print(f'Valores menores a 0 = {duration_menor_que_cero}')"
   ]
  },
  {
   "cell_type": "markdown",
   "metadata": {},
   "source": [
    "Podemos ver que en la columna **track_popularity** tenemos 6 valores menores a cero y 1 mayor a cien."
   ]
  },
  {
   "cell_type": "code",
   "execution_count": 65,
   "metadata": {},
   "outputs": [
    {
     "name": "stdout",
     "output_type": "stream",
     "text": [
      "Valores menores a 0   = 6\n",
      "Valores mayores a 100 = 1\n"
     ]
    }
   ],
   "source": [
    "popularity_menor_que_cero = (df['track_popularity'] < 0).sum()\n",
    "popularity_mayor_que_cien = (df['track_popularity'] > 100).sum()\n",
    "\n",
    "print(f'Valores menores a 0   = {popularity_menor_que_cero}')\n",
    "print(f'Valores mayores a 100 = {popularity_mayor_que_cien}')"
   ]
  },
  {
   "cell_type": "markdown",
   "metadata": {},
   "source": [
    "Podemos ver que en la columna **audio_features.acousticness** tenemos 2 valores menores a cero y 3 valores mayores a 1."
   ]
  },
  {
   "cell_type": "code",
   "execution_count": 66,
   "metadata": {},
   "outputs": [
    {
     "name": "stdout",
     "output_type": "stream",
     "text": [
      "Valores menores a 0 = 2\n",
      "Valores mayores a 1 = 3\n"
     ]
    }
   ],
   "source": [
    "acousticness_menor_que_cero = (df['audio_features.acousticness'] < 0).sum()\n",
    "acousticness_mayor_que_uno = (df['audio_features.acousticness'] > 1).sum()\n",
    "\n",
    "print(f'Valores menores a 0 = {acousticness_menor_que_cero}')\n",
    "print(f'Valores mayores a 1 = {acousticness_mayor_que_uno}')"
   ]
  },
  {
   "cell_type": "code",
   "execution_count": 67,
   "metadata": {},
   "outputs": [
    {
     "name": "stdout",
     "output_type": "stream",
     "text": [
      "Fechas menores a 2006-10-24 = 15\n",
      "Fechas mayores a 2023-10-27 = 24\n"
     ]
    }
   ],
   "source": [
    "fecha_minima = pd.to_datetime('2006-10-24')\n",
    "fecha_maxima = pd.to_datetime('2023-10-27')\n",
    "\n",
    "fechas_menores = (df['album_release_date'] < fecha_minima).sum()\n",
    "fechas_mayores = (df['album_release_date'] > fecha_maxima).sum()\n",
    "\n",
    "print(f'Fechas menores a 2006-10-24 = {fechas_menores}')\n",
    "print(f'Fechas mayores a 2023-10-27 = {fechas_mayores}')"
   ]
  },
  {
   "cell_type": "code",
   "execution_count": 68,
   "metadata": {},
   "outputs": [
    {
     "name": "stdout",
     "output_type": "stream",
     "text": [
      "Validity = 99.45\n"
     ]
    }
   ],
   "source": [
    "total_invalid = (inv_explicit + \n",
    "                 inv_instrumentalness +\n",
    "                 inv_album_total_tracks +\n",
    "                 duration_menor_que_cero + \n",
    "                 popularity_menor_que_cero +\n",
    "                 popularity_mayor_que_cien +\n",
    "                 acousticness_menor_que_cero +\n",
    "                 acousticness_mayor_que_uno +\n",
    "                 fechas_menores +\n",
    "                 fechas_mayores)\n",
    "\n",
    "validity = round(100 - total_invalid * 100 / df.size, 2)\n",
    "\n",
    "print(f'Validity = {validity}')"
   ]
  },
  {
   "cell_type": "code",
   "execution_count": 69,
   "metadata": {},
   "outputs": [
    {
     "data": {
      "image/png": "[encoded data removed]",
      "text/plain": [
       "<Figure size 640x480 with 1 Axes>"
      ]
     },
     "metadata": {},
     "output_type": "display_data"
    }
   ],
   "source": [
    "comp_labels = ['Valid', 'Invalid']\n",
    "\n",
    "comp_data = [validity, 100 - validity]\n",
    "\n",
    "plt.pie(comp_data, labels=comp_labels, autopct='%1.1f%%', pctdistance=0.85)\n",
    "\n",
    "centre_circle = plt.Circle((0, 0), 0.70, fc='white')\n",
    "fig = plt.gcf()\n",
    "\n",
    "fig.gca().add_artist(centre_circle)\n",
    "\n",
    "plt.title('Validity')\n",
    "\n",
    "plt.show()"
   ]
  },
  {
   "cell_type": "markdown",
   "metadata": {},
   "source": [
    "#### Validity = 99.45% <a class=\"anchor\" id=\"puntuacion_4\"></a>\n",
    "\n",
    "Tan solo 77 valores no eran válidos, lo cual representa una muy pequeña parte del dataset y obtiene un alto porcentaje de validez, pero como las transformaciones de tipos de datos se realizan por columnas, para usar dichas columnas, estas deben tener datos consistentes, por lo que estos pocos datos pueden derivar a una pérdida considerable de tiempo o incluso a una falla en un modelo de machine learning.\n",
    "\n",
    "[Índice](#indice)"
   ]
  },
  {
   "cell_type": "markdown",
   "metadata": {},
   "source": [
    "---"
   ]
  },
  {
   "cell_type": "markdown",
   "metadata": {},
   "source": [
    "### 6 - Accuracy <a class=\"anchor\" id=\"accuracy\"></a>\n",
    "\n",
    "[Índice](#indice)"
   ]
  },
  {
   "cell_type": "markdown",
   "metadata": {},
   "source": [
    "Vamos a analizar explicit, según información en la web.\n",
    "Su álbum más explícito es Midnights, que contiene 6 canciones etiquetadas como explícitas de 20. [LINK](https://bestlifeonline.com/taylor-swift-most-explicit-albums/).\n",
    "Osea que un 30% de las canciones tienen contenido explícito en dicho album."
   ]
  },
  {
   "cell_type": "code",
   "execution_count": 70,
   "metadata": {},
   "outputs": [
    {
     "data": {
      "text/html": [
       "<div>\n",
       "<style scoped>\n",
       "    .dataframe tbody tr th:only-of-type {\n",
       "        vertical-align: middle;\n",
       "    }\n",
       "\n",
       "    .dataframe tbody tr th {\n",
       "        vertical-align: top;\n",
       "    }\n",
       "\n",
       "    .dataframe thead th {\n",
       "        text-align: right;\n",
       "    }\n",
       "</style>\n",
       "<table border=\"1\" class=\"dataframe\">\n",
       "  <thead>\n",
       "    <tr style=\"text-align: right;\">\n",
       "      <th>explicit</th>\n",
       "      <th>False</th>\n",
       "      <th>True</th>\n",
       "    </tr>\n",
       "    <tr>\n",
       "      <th>album_name</th>\n",
       "      <th></th>\n",
       "      <th></th>\n",
       "    </tr>\n",
       "  </thead>\n",
       "  <tbody>\n",
       "    <tr>\n",
       "      <th>1989</th>\n",
       "      <td>13</td>\n",
       "      <td>0</td>\n",
       "    </tr>\n",
       "    <tr>\n",
       "      <th>1989 (Deluxe)</th>\n",
       "      <td>19</td>\n",
       "      <td>0</td>\n",
       "    </tr>\n",
       "    <tr>\n",
       "      <th>1989 (Taylor's Version)</th>\n",
       "      <td>21</td>\n",
       "      <td>0</td>\n",
       "    </tr>\n",
       "    <tr>\n",
       "      <th>1989 (Taylor's Version) [Deluxe]</th>\n",
       "      <td>22</td>\n",
       "      <td>0</td>\n",
       "    </tr>\n",
       "    <tr>\n",
       "      <th>Fearless (International Version)</th>\n",
       "      <td>16</td>\n",
       "      <td>0</td>\n",
       "    </tr>\n",
       "    <tr>\n",
       "      <th>Fearless (Platinum Edition)</th>\n",
       "      <td>19</td>\n",
       "      <td>0</td>\n",
       "    </tr>\n",
       "    <tr>\n",
       "      <th>Fearless (Taylor's Version)</th>\n",
       "      <td>26</td>\n",
       "      <td>0</td>\n",
       "    </tr>\n",
       "    <tr>\n",
       "      <th>Live From Clear Channel Stripped 2008</th>\n",
       "      <td>8</td>\n",
       "      <td>0</td>\n",
       "    </tr>\n",
       "    <tr>\n",
       "      <th>Lover</th>\n",
       "      <td>36</td>\n",
       "      <td>0</td>\n",
       "    </tr>\n",
       "    <tr>\n",
       "      <th>Midnights</th>\n",
       "      <td>7</td>\n",
       "      <td>6</td>\n",
       "    </tr>\n",
       "    <tr>\n",
       "      <th>Midnights (3am Edition)</th>\n",
       "      <td>14</td>\n",
       "      <td>6</td>\n",
       "    </tr>\n",
       "    <tr>\n",
       "      <th>Midnights (The Til Dawn Edition)</th>\n",
       "      <td>14</td>\n",
       "      <td>10</td>\n",
       "    </tr>\n",
       "    <tr>\n",
       "      <th>Red (Deluxe Edition)</th>\n",
       "      <td>22</td>\n",
       "      <td>0</td>\n",
       "    </tr>\n",
       "    <tr>\n",
       "      <th>Red (Taylor's Version)</th>\n",
       "      <td>28</td>\n",
       "      <td>2</td>\n",
       "    </tr>\n",
       "    <tr>\n",
       "      <th>Speak Now</th>\n",
       "      <td>14</td>\n",
       "      <td>0</td>\n",
       "    </tr>\n",
       "    <tr>\n",
       "      <th>Speak Now (Deluxe Package)</th>\n",
       "      <td>22</td>\n",
       "      <td>0</td>\n",
       "    </tr>\n",
       "    <tr>\n",
       "      <th>Speak Now (Taylor's Version)</th>\n",
       "      <td>22</td>\n",
       "      <td>0</td>\n",
       "    </tr>\n",
       "    <tr>\n",
       "      <th>Taylor Swift</th>\n",
       "      <td>14</td>\n",
       "      <td>1</td>\n",
       "    </tr>\n",
       "    <tr>\n",
       "      <th>evermore</th>\n",
       "      <td>9</td>\n",
       "      <td>6</td>\n",
       "    </tr>\n",
       "    <tr>\n",
       "      <th>evermore (deluxe version)</th>\n",
       "      <td>11</td>\n",
       "      <td>6</td>\n",
       "    </tr>\n",
       "    <tr>\n",
       "      <th>folklore</th>\n",
       "      <td>12</td>\n",
       "      <td>4</td>\n",
       "    </tr>\n",
       "    <tr>\n",
       "      <th>folklore (deluxe version)</th>\n",
       "      <td>12</td>\n",
       "      <td>5</td>\n",
       "    </tr>\n",
       "    <tr>\n",
       "      <th>folklore: the long pond studio sessions (from the Disney+ special) [deluxe edition]</th>\n",
       "      <td>25</td>\n",
       "      <td>9</td>\n",
       "    </tr>\n",
       "    <tr>\n",
       "      <th>reputation</th>\n",
       "      <td>16</td>\n",
       "      <td>0</td>\n",
       "    </tr>\n",
       "  </tbody>\n",
       "</table>\n",
       "</div>"
      ],
      "text/plain": [
       "explicit                                            False  True \n",
       "album_name                                                      \n",
       "1989                                                   13      0\n",
       "1989 (Deluxe)                                          19      0\n",
       "1989 (Taylor's Version)                                21      0\n",
       "1989 (Taylor's Version) [Deluxe]                       22      0\n",
       "Fearless (International Version)                       16      0\n",
       "Fearless (Platinum Edition)                            19      0\n",
       "Fearless (Taylor's Version)                            26      0\n",
       "Live From Clear Channel Stripped 2008                   8      0\n",
       "Lover                                                  36      0\n",
       "Midnights                                               7      6\n",
       "Midnights (3am Edition)                                14      6\n",
       "Midnights (The Til Dawn Edition)                       14     10\n",
       "Red (Deluxe Edition)                                   22      0\n",
       "Red (Taylor's Version)                                 28      2\n",
       "Speak Now                                              14      0\n",
       "Speak Now (Deluxe Package)                             22      0\n",
       "Speak Now (Taylor's Version)                           22      0\n",
       "Taylor Swift                                           14      1\n",
       "evermore                                                9      6\n",
       "evermore (deluxe version)                              11      6\n",
       "folklore                                               12      4\n",
       "folklore (deluxe version)                              12      5\n",
       "folklore: the long pond studio sessions (from t...     25      9\n",
       "reputation                                             16      0"
      ]
     },
     "execution_count": 70,
     "metadata": {},
     "output_type": "execute_result"
    }
   ],
   "source": [
    "# Explícitos agrupados por álbum\n",
    "explicitos = df.groupby('album_name')['explicit'].value_counts().unstack(fill_value=0)\n",
    "explicitos"
   ]
  },
  {
   "cell_type": "code",
   "execution_count": 71,
   "metadata": {},
   "outputs": [
    {
     "data": {
      "text/plain": [
       "album_name\n",
       "1989                                                                                    0.000000\n",
       "1989 (Deluxe)                                                                           0.000000\n",
       "1989 (Taylor's Version)                                                                 0.000000\n",
       "1989 (Taylor's Version) [Deluxe]                                                        0.000000\n",
       "Fearless (International Version)                                                        0.000000\n",
       "Fearless (Platinum Edition)                                                             0.000000\n",
       "Fearless (Taylor's Version)                                                             0.000000\n",
       "Live From Clear Channel Stripped 2008                                                   0.000000\n",
       "Lover                                                                                   0.000000\n",
       "Midnights                                                                              46.153846\n",
       "Midnights (3am Edition)                                                                30.000000\n",
       "Midnights (The Til Dawn Edition)                                                       41.666667\n",
       "Red (Deluxe Edition)                                                                    0.000000\n",
       "Red (Taylor's Version)                                                                  6.666667\n",
       "Speak Now                                                                               0.000000\n",
       "Speak Now (Deluxe Package)                                                              0.000000\n",
       "Speak Now (Taylor's Version)                                                            0.000000\n",
       "Taylor Swift                                                                            6.666667\n",
       "evermore                                                                               40.000000\n",
       "evermore (deluxe version)                                                              35.294118\n",
       "folklore                                                                               25.000000\n",
       "folklore (deluxe version)                                                              29.411765\n",
       "folklore: the long pond studio sessions (from the Disney+ special) [deluxe edition]    26.470588\n",
       "reputation                                                                              0.000000\n",
       "Name: explicit, dtype: float64"
      ]
     },
     "execution_count": 71,
     "metadata": {},
     "output_type": "execute_result"
    }
   ],
   "source": [
    "# porcentaje de explícitos agrupados por álbum\n",
    "porcentaje_explicitos = df.groupby('album_name')['explicit'].apply(lambda x: (x == True).mean() * 100)\n",
    "porcentaje_explicitos"
   ]
  },
  {
   "cell_type": "code",
   "execution_count": 72,
   "metadata": {},
   "outputs": [
    {
     "name": "stdout",
     "output_type": "stream",
     "text": [
      "Álbumes con más de un 30% de pistas con contenido explícito = 4\n"
     ]
    }
   ],
   "source": [
    "# Álbumes con más de un 30% de contenido explícito.\n",
    "mas_de_30por = df.groupby('album_name')['explicit'].apply(lambda x: (x == True).mean() * 100 > 30)\n",
    "\n",
    "mas_de_30por = mas_de_30por.sum()\n",
    "\n",
    "print(f\"Álbumes con más de un 30% de pistas con contenido explícito = {mas_de_30por}\")"
   ]
  },
  {
   "cell_type": "code",
   "execution_count": 73,
   "metadata": {},
   "outputs": [
    {
     "name": "stdout",
     "output_type": "stream",
     "text": [
      "Porcentaje total de pistas con contenido explícito = 10.2%\n"
     ]
    }
   ],
   "source": [
    "# Porcentaje total de pistas con contenido explícito\n",
    "por_explicito = round(df['explicit'].sum() * 100 / df.shape[0], 2)\n",
    "\n",
    "print(f\"Porcentaje total de pistas con contenido explícito = {por_explicito}%\")"
   ]
  },
  {
   "cell_type": "code",
   "execution_count": 74,
   "metadata": {},
   "outputs": [
    {
     "name": "stdout",
     "output_type": "stream",
     "text": [
      "Porcentaje de valores con poca certeza = 15.38%\n"
     ]
    }
   ],
   "source": [
    "explicit_inaccurate = round(mas_de_30por / len(df['album_id'].unique()) * 100, 2)\n",
    "\n",
    "print(f\"Porcentaje de valores con poca certeza = {explicit_inaccurate}%\")"
   ]
  },
  {
   "cell_type": "markdown",
   "metadata": {},
   "source": [
    "Vamos a analizar algunas de las variables númericas."
   ]
  },
  {
   "cell_type": "code",
   "execution_count": 75,
   "metadata": {},
   "outputs": [],
   "source": [
    "# Columnas con valores entre 0 y 1\n",
    "columnas_0_1 = ['audio_features.danceability',\n",
    "                'audio_features.energy',\n",
    "                'audio_features.speechiness',\n",
    "                'audio_features.acousticness',\n",
    "                'audio_features.instrumentalness',\n",
    "                'audio_features.liveness',\n",
    "                'audio_features.valence']"
   ]
  },
  {
   "cell_type": "code",
   "execution_count": 76,
   "metadata": {},
   "outputs": [
    {
     "data": {
      "text/html": [
       "<div>\n",
       "<style scoped>\n",
       "    .dataframe tbody tr th:only-of-type {\n",
       "        vertical-align: middle;\n",
       "    }\n",
       "\n",
       "    .dataframe tbody tr th {\n",
       "        vertical-align: top;\n",
       "    }\n",
       "\n",
       "    .dataframe thead th {\n",
       "        text-align: right;\n",
       "    }\n",
       "</style>\n",
       "<table border=\"1\" class=\"dataframe\">\n",
       "  <thead>\n",
       "    <tr style=\"text-align: right;\">\n",
       "      <th></th>\n",
       "      <th>disc_number</th>\n",
       "      <th>duration_ms</th>\n",
       "      <th>track_number</th>\n",
       "      <th>track_popularity</th>\n",
       "      <th>audio_features.danceability</th>\n",
       "      <th>audio_features.energy</th>\n",
       "      <th>audio_features.key</th>\n",
       "      <th>audio_features.loudness</th>\n",
       "      <th>audio_features.mode</th>\n",
       "      <th>audio_features.speechiness</th>\n",
       "      <th>audio_features.acousticness</th>\n",
       "      <th>audio_features.instrumentalness</th>\n",
       "      <th>audio_features.liveness</th>\n",
       "      <th>audio_features.valence</th>\n",
       "      <th>audio_features.tempo</th>\n",
       "      <th>audio_features.time_signature</th>\n",
       "      <th>artist_popularity</th>\n",
       "      <th>album_release_date</th>\n",
       "      <th>album_total_tracks</th>\n",
       "    </tr>\n",
       "  </thead>\n",
       "  <tbody>\n",
       "    <tr>\n",
       "      <th>count</th>\n",
       "      <td>539.000000</td>\n",
       "      <td>539.000000</td>\n",
       "      <td>539.000000</td>\n",
       "      <td>539.000000</td>\n",
       "      <td>537.000000</td>\n",
       "      <td>537.000000</td>\n",
       "      <td>538.000000</td>\n",
       "      <td>537.000000</td>\n",
       "      <td>539.000000</td>\n",
       "      <td>538.000000</td>\n",
       "      <td>538.000000</td>\n",
       "      <td>539.000000</td>\n",
       "      <td>538.000000</td>\n",
       "      <td>539.000000</td>\n",
       "      <td>538.000000</td>\n",
       "      <td>538.000000</td>\n",
       "      <td>539.0</td>\n",
       "      <td>539</td>\n",
       "      <td>539.000000</td>\n",
       "    </tr>\n",
       "    <tr>\n",
       "      <th>mean</th>\n",
       "      <td>1.031540</td>\n",
       "      <td>236003.725417</td>\n",
       "      <td>11.280148</td>\n",
       "      <td>62.918367</td>\n",
       "      <td>0.587242</td>\n",
       "      <td>0.573065</td>\n",
       "      <td>4.587361</td>\n",
       "      <td>-7.520639</td>\n",
       "      <td>0.912801</td>\n",
       "      <td>0.057709</td>\n",
       "      <td>0.337806</td>\n",
       "      <td>0.003909</td>\n",
       "      <td>0.163308</td>\n",
       "      <td>0.398410</td>\n",
       "      <td>122.362639</td>\n",
       "      <td>3.986989</td>\n",
       "      <td>120.0</td>\n",
       "      <td>2017-09-10 02:08:14.248608768</td>\n",
       "      <td>22.671614</td>\n",
       "    </tr>\n",
       "    <tr>\n",
       "      <th>min</th>\n",
       "      <td>1.000000</td>\n",
       "      <td>-223093.000000</td>\n",
       "      <td>1.000000</td>\n",
       "      <td>-92.000000</td>\n",
       "      <td>0.243000</td>\n",
       "      <td>0.118000</td>\n",
       "      <td>0.000000</td>\n",
       "      <td>-17.932000</td>\n",
       "      <td>0.000000</td>\n",
       "      <td>0.023100</td>\n",
       "      <td>-0.003540</td>\n",
       "      <td>0.000000</td>\n",
       "      <td>0.033500</td>\n",
       "      <td>0.037400</td>\n",
       "      <td>68.097000</td>\n",
       "      <td>3.000000</td>\n",
       "      <td>120.0</td>\n",
       "      <td>1989-10-24 00:00:00</td>\n",
       "      <td>8.000000</td>\n",
       "    </tr>\n",
       "    <tr>\n",
       "      <th>25%</th>\n",
       "      <td>1.000000</td>\n",
       "      <td>209486.500000</td>\n",
       "      <td>5.000000</td>\n",
       "      <td>51.000000</td>\n",
       "      <td>0.517000</td>\n",
       "      <td>0.436000</td>\n",
       "      <td>2.000000</td>\n",
       "      <td>-9.287000</td>\n",
       "      <td>1.000000</td>\n",
       "      <td>0.030525</td>\n",
       "      <td>0.036250</td>\n",
       "      <td>0.000000</td>\n",
       "      <td>0.096500</td>\n",
       "      <td>0.230000</td>\n",
       "      <td>96.684500</td>\n",
       "      <td>4.000000</td>\n",
       "      <td>120.0</td>\n",
       "      <td>2014-01-01 00:00:00</td>\n",
       "      <td>16.000000</td>\n",
       "    </tr>\n",
       "    <tr>\n",
       "      <th>50%</th>\n",
       "      <td>1.000000</td>\n",
       "      <td>233626.000000</td>\n",
       "      <td>10.000000</td>\n",
       "      <td>69.000000</td>\n",
       "      <td>0.595000</td>\n",
       "      <td>0.589000</td>\n",
       "      <td>5.000000</td>\n",
       "      <td>-6.942000</td>\n",
       "      <td>1.000000</td>\n",
       "      <td>0.037750</td>\n",
       "      <td>0.167500</td>\n",
       "      <td>0.000002</td>\n",
       "      <td>0.115000</td>\n",
       "      <td>0.386000</td>\n",
       "      <td>119.000500</td>\n",
       "      <td>4.000000</td>\n",
       "      <td>120.0</td>\n",
       "      <td>2020-07-24 00:00:00</td>\n",
       "      <td>20.000000</td>\n",
       "    </tr>\n",
       "    <tr>\n",
       "      <th>75%</th>\n",
       "      <td>1.000000</td>\n",
       "      <td>259045.500000</td>\n",
       "      <td>15.000000</td>\n",
       "      <td>77.000000</td>\n",
       "      <td>0.661000</td>\n",
       "      <td>0.729000</td>\n",
       "      <td>7.000000</td>\n",
       "      <td>-5.376000</td>\n",
       "      <td>1.000000</td>\n",
       "      <td>0.056400</td>\n",
       "      <td>0.663750</td>\n",
       "      <td>0.000063</td>\n",
       "      <td>0.162250</td>\n",
       "      <td>0.535000</td>\n",
       "      <td>143.939000</td>\n",
       "      <td>4.000000</td>\n",
       "      <td>120.0</td>\n",
       "      <td>2021-11-12 00:00:00</td>\n",
       "      <td>26.000000</td>\n",
       "    </tr>\n",
       "    <tr>\n",
       "      <th>max</th>\n",
       "      <td>2.000000</td>\n",
       "      <td>613026.000000</td>\n",
       "      <td>46.000000</td>\n",
       "      <td>152.000000</td>\n",
       "      <td>0.897000</td>\n",
       "      <td>0.949000</td>\n",
       "      <td>11.000000</td>\n",
       "      <td>-1.909000</td>\n",
       "      <td>1.000000</td>\n",
       "      <td>0.912000</td>\n",
       "      <td>5.000000</td>\n",
       "      <td>0.488000</td>\n",
       "      <td>0.931000</td>\n",
       "      <td>0.943000</td>\n",
       "      <td>208.918000</td>\n",
       "      <td>5.000000</td>\n",
       "      <td>120.0</td>\n",
       "      <td>2027-05-26 00:00:00</td>\n",
       "      <td>46.000000</td>\n",
       "    </tr>\n",
       "    <tr>\n",
       "      <th>std</th>\n",
       "      <td>0.174934</td>\n",
       "      <td>55019.871010</td>\n",
       "      <td>7.965621</td>\n",
       "      <td>22.498757</td>\n",
       "      <td>0.116858</td>\n",
       "      <td>0.192309</td>\n",
       "      <td>3.246082</td>\n",
       "      <td>2.933158</td>\n",
       "      <td>0.282388</td>\n",
       "      <td>0.073146</td>\n",
       "      <td>0.395292</td>\n",
       "      <td>0.032864</td>\n",
       "      <td>0.141800</td>\n",
       "      <td>0.199409</td>\n",
       "      <td>30.485522</td>\n",
       "      <td>0.197323</td>\n",
       "      <td>0.0</td>\n",
       "      <td>NaN</td>\n",
       "      <td>9.475744</td>\n",
       "    </tr>\n",
       "  </tbody>\n",
       "</table>\n",
       "</div>"
      ],
      "text/plain": [
       "       disc_number    duration_ms  track_number  track_popularity  \\\n",
       "count   539.000000     539.000000    539.000000        539.000000   \n",
       "mean      1.031540  236003.725417     11.280148         62.918367   \n",
       "min       1.000000 -223093.000000      1.000000        -92.000000   \n",
       "25%       1.000000  209486.500000      5.000000         51.000000   \n",
       "50%       1.000000  233626.000000     10.000000         69.000000   \n",
       "75%       1.000000  259045.500000     15.000000         77.000000   \n",
       "max       2.000000  613026.000000     46.000000        152.000000   \n",
       "std       0.174934   55019.871010      7.965621         22.498757   \n",
       "\n",
       "       audio_features.danceability  audio_features.energy  audio_features.key  \\\n",
       "count                   537.000000             537.000000          538.000000   \n",
       "mean                      0.587242               0.573065            4.587361   \n",
       "min                       0.243000               0.118000            0.000000   \n",
       "25%                       0.517000               0.436000            2.000000   \n",
       "50%                       0.595000               0.589000            5.000000   \n",
       "75%                       0.661000               0.729000            7.000000   \n",
       "max                       0.897000               0.949000           11.000000   \n",
       "std                       0.116858               0.192309            3.246082   \n",
       "\n",
       "       audio_features.loudness  audio_features.mode  \\\n",
       "count               537.000000           539.000000   \n",
       "mean                 -7.520639             0.912801   \n",
       "min                 -17.932000             0.000000   \n",
       "25%                  -9.287000             1.000000   \n",
       "50%                  -6.942000             1.000000   \n",
       "75%                  -5.376000             1.000000   \n",
       "max                  -1.909000             1.000000   \n",
       "std                   2.933158             0.282388   \n",
       "\n",
       "       audio_features.speechiness  audio_features.acousticness  \\\n",
       "count                  538.000000                   538.000000   \n",
       "mean                     0.057709                     0.337806   \n",
       "min                      0.023100                    -0.003540   \n",
       "25%                      0.030525                     0.036250   \n",
       "50%                      0.037750                     0.167500   \n",
       "75%                      0.056400                     0.663750   \n",
       "max                      0.912000                     5.000000   \n",
       "std                      0.073146                     0.395292   \n",
       "\n",
       "       audio_features.instrumentalness  audio_features.liveness  \\\n",
       "count                       539.000000               538.000000   \n",
       "mean                          0.003909                 0.163308   \n",
       "min                           0.000000                 0.033500   \n",
       "25%                           0.000000                 0.096500   \n",
       "50%                           0.000002                 0.115000   \n",
       "75%                           0.000063                 0.162250   \n",
       "max                           0.488000                 0.931000   \n",
       "std                           0.032864                 0.141800   \n",
       "\n",
       "       audio_features.valence  audio_features.tempo  \\\n",
       "count              539.000000            538.000000   \n",
       "mean                 0.398410            122.362639   \n",
       "min                  0.037400             68.097000   \n",
       "25%                  0.230000             96.684500   \n",
       "50%                  0.386000            119.000500   \n",
       "75%                  0.535000            143.939000   \n",
       "max                  0.943000            208.918000   \n",
       "std                  0.199409             30.485522   \n",
       "\n",
       "       audio_features.time_signature  artist_popularity  \\\n",
       "count                     538.000000              539.0   \n",
       "mean                        3.986989              120.0   \n",
       "min                         3.000000              120.0   \n",
       "25%                         4.000000              120.0   \n",
       "50%                         4.000000              120.0   \n",
       "75%                         4.000000              120.0   \n",
       "max                         5.000000              120.0   \n",
       "std                         0.197323                0.0   \n",
       "\n",
       "                  album_release_date  album_total_tracks  \n",
       "count                            539          539.000000  \n",
       "mean   2017-09-10 02:08:14.248608768           22.671614  \n",
       "min              1989-10-24 00:00:00            8.000000  \n",
       "25%              2014-01-01 00:00:00           16.000000  \n",
       "50%              2020-07-24 00:00:00           20.000000  \n",
       "75%              2021-11-12 00:00:00           26.000000  \n",
       "max              2027-05-26 00:00:00           46.000000  \n",
       "std                              NaN            9.475744  "
      ]
     },
     "execution_count": 76,
     "metadata": {},
     "output_type": "execute_result"
    }
   ],
   "source": [
    "df.describe()"
   ]
  },
  {
   "cell_type": "code",
   "execution_count": 77,
   "metadata": {},
   "outputs": [],
   "source": [
    "# filtramos los valores inválidos para graficar\n",
    "df_graf = df.copy()\n",
    "\n",
    "df_graf = df_graf[columnas_0_1]\n",
    "\n",
    "for columna in columnas_0_1:\n",
    "    mask = (df_graf[columna] >= 0) & (df_graf[columna] <= 1)\n",
    "    df_graf = df_graf[mask]"
   ]
  },
  {
   "cell_type": "code",
   "execution_count": 78,
   "metadata": {},
   "outputs": [
    {
     "data": {
      "text/plain": [
       "<Axes: >"
      ]
     },
     "execution_count": 78,
     "metadata": {},
     "output_type": "execute_result"
    },
    {
     "data": {
      "image/png": "[encoded data removed]",
      "text/plain": [
       "<Figure size 2000x800 with 1 Axes>"
      ]
     },
     "metadata": {},
     "output_type": "display_data"
    }
   ],
   "source": [
    "plt.figure(figsize=(20, 8))\n",
    "df_graf.boxplot()"
   ]
  },
  {
   "cell_type": "markdown",
   "metadata": {},
   "source": [
    "Podemos ver que los promedios de los valores están donde se los espera:\n",
    "\n",
    "**danceability y energy** tienen promedio de 0.6, que está dentro de lo que se espera de música pop.\n",
    "\n",
    "**speechiness y instrumentalnes** tienen valores bajos exceptuando algunos outliers, que tambien es de esperarce en música pop.\n",
    "\n",
    "**liveness** se encuentra dentro de valores aceptables ya que es de esperarce mushos más temas grabados en estudio que en vivo.\n",
    "\n",
    "**acousticness** está muy distribuida y es es razonable que su promedio sea bajo, ya que la música pop normalmente no hace musho uso de instrumentos musicales.\n",
    "\n",
    "**valence** esta está razonablemente distribuída, ya que puede haber una mezcla de temas positivos y negativos, pero es de esperarce que haya prevalencia de contenido negativo."
   ]
  },
  {
   "cell_type": "code",
   "execution_count": 79,
   "metadata": {},
   "outputs": [],
   "source": [
    "# filtramos track popularity que previamente vimos que tenía valores inválidos\n",
    "df_graf2 = df.copy()\n",
    "\n",
    "mask = (df_graf2['track_popularity'] <= 100) & (df_graf2['track_popularity'] >= 0)\n",
    "df_graf2 = df_graf2[mask]\n",
    "\n",
    "mask = (df_graf2['duration_ms'] > 0)\n",
    "df_graf2 = df_graf2[mask]\n",
    "\n",
    "df_graf2.dropna(inplace=True)"
   ]
  },
  {
   "cell_type": "code",
   "execution_count": 80,
   "metadata": {},
   "outputs": [],
   "source": [
    "otros_numericos = ['duration_ms', 'track_popularity', 'audio_features.loudness', 'audio_features.tempo']"
   ]
  },
  {
   "cell_type": "code",
   "execution_count": 81,
   "metadata": {},
   "outputs": [
    {
     "data": {
      "image/png": "[encoded data removed]",
      "text/plain": [
       "<Figure size 800x200 with 1 Axes>"
      ]
     },
     "metadata": {},
     "output_type": "display_data"
    }
   ],
   "source": [
    "plt.figure(figsize=(8, 2))\n",
    "plt.boxplot(df_graf2['duration_ms'], vert=False)\n",
    "plt.title('duration_ms')\n",
    "plt.show()"
   ]
  },
  {
   "cell_type": "markdown",
   "metadata": {},
   "source": [
    "Vemos valores muy bajos"
   ]
  },
  {
   "cell_type": "code",
   "execution_count": 82,
   "metadata": {},
   "outputs": [
    {
     "name": "stdout",
     "output_type": "stream",
     "text": [
      "Valores menores a 3 segundos = 5\n"
     ]
    }
   ],
   "source": [
    "menor_tres_segundos = len(df[df['duration_ms'] < 30000])\n",
    "print(f'Valores menores a 3 segundos = {menor_tres_segundos}')"
   ]
  },
  {
   "cell_type": "code",
   "execution_count": 83,
   "metadata": {},
   "outputs": [
    {
     "data": {
      "image/png": "[encoded data removed]",
      "text/plain": [
       "<Figure size 800x200 with 1 Axes>"
      ]
     },
     "metadata": {},
     "output_type": "display_data"
    }
   ],
   "source": [
    "plt.figure(figsize=(8, 2))\n",
    "plt.boxplot(df_graf2['track_popularity'], vert=False)\n",
    "plt.title('track_popularity')\n",
    "plt.show()"
   ]
  },
  {
   "cell_type": "markdown",
   "metadata": {},
   "source": [
    "Vemos valores muy bajos."
   ]
  },
  {
   "cell_type": "code",
   "execution_count": 84,
   "metadata": {},
   "outputs": [
    {
     "name": "stdout",
     "output_type": "stream",
     "text": [
      "Temas con popularidad inferior a 10 = 9\n"
     ]
    }
   ],
   "source": [
    "pop_baja = len(df[df['track_popularity'] < 10])\n",
    "print(f'Temas con popularidad inferior a 10 = {pop_baja}')"
   ]
  },
  {
   "cell_type": "code",
   "execution_count": 85,
   "metadata": {},
   "outputs": [
    {
     "data": {
      "image/png": "[encoded data removed]",
      "text/plain": [
       "<Figure size 800x200 with 1 Axes>"
      ]
     },
     "metadata": {},
     "output_type": "display_data"
    }
   ],
   "source": [
    "plt.figure(figsize=(8, 2))\n",
    "plt.boxplot(df_graf2['audio_features.loudness'], vert=False)\n",
    "plt.title('loudness')\n",
    "plt.show()"
   ]
  },
  {
   "cell_type": "code",
   "execution_count": 86,
   "metadata": {},
   "outputs": [
    {
     "data": {
      "image/png": "[encoded data removed]",
      "text/plain": [
       "<Figure size 800x200 with 1 Axes>"
      ]
     },
     "metadata": {},
     "output_type": "display_data"
    }
   ],
   "source": [
    "plt.figure(figsize=(8, 2))\n",
    "plt.boxplot(df_graf2['audio_features.tempo'], vert=False)\n",
    "plt.title('tempo')\n",
    "plt.show()"
   ]
  },
  {
   "cell_type": "code",
   "execution_count": 87,
   "metadata": {},
   "outputs": [
    {
     "name": "stdout",
     "output_type": "stream",
     "text": [
      "Accuracy = 99.31%\n"
     ]
    }
   ],
   "source": [
    "accuracy_n = (df.shape[0] * explicit_inaccurate / 100) + menor_tres_segundos + pop_baja\n",
    "\n",
    "accuracy = 100 - round(accuracy_n / df.size * 100, 2)\n",
    "\n",
    "print(f'Accuracy = {accuracy}%')"
   ]
  },
  {
   "cell_type": "code",
   "execution_count": 88,
   "metadata": {},
   "outputs": [
    {
     "data": {
      "image/png": "[encoded data removed]",
      "text/plain": [
       "<Figure size 640x480 with 1 Axes>"
      ]
     },
     "metadata": {},
     "output_type": "display_data"
    }
   ],
   "source": [
    "comp_labels = ['Accurate', 'Inaccurate']\n",
    "\n",
    "comp_data = [accuracy, 100 - accuracy]\n",
    "\n",
    "plt.pie(comp_data, labels=comp_labels, autopct='%1.1f%%', pctdistance=0.85)\n",
    "\n",
    "centre_circle = plt.Circle((0, 0), 0.70, fc='white')\n",
    "fig = plt.gcf()\n",
    "\n",
    "fig.gca().add_artist(centre_circle)\n",
    "\n",
    "plt.title('Accuracy')\n",
    "\n",
    "plt.show()"
   ]
  },
  {
   "cell_type": "markdown",
   "metadata": {},
   "source": [
    "#### Accuracy = 99.31% <a class=\"anchor\" id=\"puntuacion_5\"></a>\n",
    "\n",
    "[Índice](#indice)"
   ]
  },
  {
   "cell_type": "markdown",
   "metadata": {},
   "source": [
    "---"
   ]
  },
  {
   "cell_type": "markdown",
   "metadata": {},
   "source": [
    "### 7 - Consistency <a class=\"anchor\" id=\"consistency\"></a>\n",
    "\n",
    "[Índice](#indice)"
   ]
  },
  {
   "cell_type": "markdown",
   "metadata": {},
   "source": [
    "Vamos a usar el archivo obtenido de realizar una nueva consulta a la API de Spotify, para tener una referencia en tanto a la consistencia."
   ]
  },
  {
   "cell_type": "code",
   "execution_count": 89,
   "metadata": {},
   "outputs": [
    {
     "name": "stdout",
     "output_type": "stream",
     "text": [
      "<class 'pandas.core.frame.DataFrame'>\n",
      "RangeIndex: 519 entries, 0 to 518\n",
      "Data columns (total 29 columns):\n",
      " #   Column                           Non-Null Count  Dtype  \n",
      "---  ------                           --------------  -----  \n",
      " 0   id                               519 non-null    object \n",
      " 1   name                             519 non-null    object \n",
      " 2   disc_number                      519 non-null    int64  \n",
      " 3   duraction_ms                     519 non-null    int64  \n",
      " 4   explicit                         519 non-null    bool   \n",
      " 5   track_number                     519 non-null    int64  \n",
      " 6   audio_features.danceability      519 non-null    float64\n",
      " 7   audio_features.energy            519 non-null    float64\n",
      " 8   audio_features.key               519 non-null    int64  \n",
      " 9   audio_features.loudness          519 non-null    float64\n",
      " 10  audio_features.mode              519 non-null    int64  \n",
      " 11  audio_features.speechiness       519 non-null    float64\n",
      " 12  audio_features.acousticness      519 non-null    float64\n",
      " 13  audio_features.instrumentalness  519 non-null    float64\n",
      " 14  audio_features.liveness          519 non-null    float64\n",
      " 15  audio_features.valence           519 non-null    float64\n",
      " 16  audio_features.tempo             519 non-null    float64\n",
      " 17  audio_features.time Signature    519 non-null    int64  \n",
      " 18  audio_features.id                519 non-null    object \n",
      " 19  artist.id                        519 non-null    object \n",
      " 20  artist.name                      519 non-null    object \n",
      " 21  artist.popularity                519 non-null    int64  \n",
      " 22  album.id                         519 non-null    object \n",
      " 23  album.name                       519 non-null    object \n",
      " 24  album.release_date               519 non-null    object \n",
      " 25  album.total_tracks               519 non-null    int64  \n",
      " 26  albums.id                        519 non-null    object \n",
      " 27  albums.name                      519 non-null    object \n",
      " 28  albums.release_date              519 non-null    object \n",
      "dtypes: bool(1), float64(9), int64(8), object(11)\n",
      "memory usage: 114.2+ KB\n"
     ]
    }
   ],
   "source": [
    "df_actualizado = pd.read_csv('consulta_actual.csv')\n",
    "df_actualizado.info()"
   ]
  },
  {
   "cell_type": "code",
   "execution_count": 90,
   "metadata": {},
   "outputs": [
    {
     "name": "stdout",
     "output_type": "stream",
     "text": [
      "<class 'pandas.core.frame.DataFrame'>\n",
      "RangeIndex: 539 entries, 0 to 538\n",
      "Data columns (total 27 columns):\n",
      " #   Column                           Non-Null Count  Dtype  \n",
      "---  ------                           --------------  -----  \n",
      " 0   disc_number                      539 non-null    int64  \n",
      " 1   duration_ms                      539 non-null    int64  \n",
      " 2   explicit                         539 non-null    object \n",
      " 3   track_number                     539 non-null    int64  \n",
      " 4   track_popularity                 539 non-null    int64  \n",
      " 5   track_id                         531 non-null    object \n",
      " 6   track_name                       532 non-null    object \n",
      " 7   audio_features.danceability      537 non-null    float64\n",
      " 8   audio_features.energy            537 non-null    float64\n",
      " 9   audio_features.key               538 non-null    float64\n",
      " 10  audio_features.loudness          537 non-null    float64\n",
      " 11  audio_features.mode              539 non-null    int64  \n",
      " 12  audio_features.speechiness       538 non-null    float64\n",
      " 13  audio_features.acousticness      538 non-null    float64\n",
      " 14  audio_features.instrumentalness  539 non-null    object \n",
      " 15  audio_features.liveness          538 non-null    float64\n",
      " 16  audio_features.valence           539 non-null    float64\n",
      " 17  audio_features.tempo             538 non-null    float64\n",
      " 18  audio_features.id                539 non-null    object \n",
      " 19  audio_features.time_signature    538 non-null    float64\n",
      " 20  artist_id                        539 non-null    object \n",
      " 21  artist_name                      539 non-null    object \n",
      " 22  artist_popularity                539 non-null    int64  \n",
      " 23  album_id                         539 non-null    object \n",
      " 24  album_name                       477 non-null    object \n",
      " 25  album_release_date               539 non-null    object \n",
      " 26  album_total_tracks               539 non-null    object \n",
      "dtypes: float64(10), int64(6), object(11)\n",
      "memory usage: 113.8+ KB\n"
     ]
    }
   ],
   "source": [
    "df_previo = pd.read_csv('dataset.csv')\n",
    "df_previo.info()"
   ]
  },
  {
   "cell_type": "code",
   "execution_count": 91,
   "metadata": {},
   "outputs": [
    {
     "name": "stdout",
     "output_type": "stream",
     "text": [
      "Consistency = 88.89\n"
     ]
    }
   ],
   "source": [
    "columnas_inconsistentes = 3\n",
    "\n",
    "consistency = 100 - round(columnas_inconsistentes / len(df_previo.columns) * 100, 2)\n",
    "\n",
    "print(f\"Consistency = {consistency}\")"
   ]
  },
  {
   "cell_type": "code",
   "execution_count": 92,
   "metadata": {},
   "outputs": [
    {
     "data": {
      "image/png": "[encoded data removed]",
      "text/plain": [
       "<Figure size 640x480 with 1 Axes>"
      ]
     },
     "metadata": {},
     "output_type": "display_data"
    }
   ],
   "source": [
    "comp_labels = ['Consistent', 'Inconsistent']\n",
    "\n",
    "comp_data = [consistency, 100 - consistency]\n",
    "\n",
    "plt.pie(comp_data, labels=comp_labels, autopct='%1.1f%%', pctdistance=0.85)\n",
    "\n",
    "centre_circle = plt.Circle((0, 0), 0.70, fc='white')\n",
    "fig = plt.gcf()\n",
    "\n",
    "fig.gca().add_artist(centre_circle)\n",
    "\n",
    "plt.title('Consistency')\n",
    "\n",
    "plt.show()"
   ]
  },
  {
   "cell_type": "markdown",
   "metadata": {},
   "source": [
    "#### Consistency = 88.89% <a class=\"anchor\" id=\"puntuacion_6\"></a>\n",
    "\n",
    "En esta nueva consulta me parece importante destacar la consistencia de las siguientes variables:\n",
    "\n",
    "**explicit** debería ser booleano y es string.\n",
    "**instrumentalness** debería ser float y es string.\n",
    "**album_total_tracks** debería ser entero y es string.\n",
    "\n",
    "Depende de como se use el dataset, pero en un sistema automatizado, esto podría generar un error, ya que hay que hacer pasos extra muy puntuales para solucionar estas inconsistencias.\n",
    "\n",
    "[Índice](#indice)"
   ]
  },
  {
   "cell_type": "markdown",
   "metadata": {},
   "source": [
    "---"
   ]
  },
  {
   "cell_type": "code",
   "execution_count": 93,
   "metadata": {},
   "outputs": [
    {
     "data": {
      "text/plain": [
       "[99.39, 92.59, 99.45, 88.89, 99.31]"
      ]
     },
     "execution_count": 93,
     "metadata": {},
     "output_type": "execute_result"
    }
   ],
   "source": [
    "comp_data = [completeness, uniqueness, validity, consistency, accuracy]\n",
    "comp_data"
   ]
  },
  {
   "cell_type": "code",
   "execution_count": 94,
   "metadata": {},
   "outputs": [
    {
     "data": {
      "image/png": "[encoded data removed]",
      "text/plain": [
       "<Figure size 640x480 with 1 Axes>"
      ]
     },
     "metadata": {},
     "output_type": "display_data"
    }
   ],
   "source": [
    "comp_labels = ['Completeness', 'Uniqueness', 'Validity', 'Consistency', 'Accuracy', 'Dataset']\n",
    "\n",
    "total = 600 - (completeness + uniqueness + timeliness + validity + accuracy + consistency)\n",
    "\n",
    "comp_data = [100 - completeness, 100 - uniqueness, 100 - validity, 100 - consistency, 100 - accuracy, 100 - total]\n",
    "\n",
    "plt.pie(comp_data, labels=comp_labels, autopct='%1.1f%%', pctdistance=0.85)\n",
    "\n",
    "centre_circle = plt.Circle((0, 0), 0.70, fc='white')\n",
    "fig = plt.gcf()\n",
    "\n",
    "fig.gca().add_artist(centre_circle)\n",
    "\n",
    "plt.title('Puntuación final')\n",
    "\n",
    "plt.show()"
   ]
  },
  {
   "cell_type": "markdown",
   "metadata": {},
   "source": [
    "### 8 - Conclusión Final: Evaluación de la Calidad de Datos <a class=\"anchor\" id=\"conclusion\"></a>\n",
    "\n",
    "Se llevó a cabo una evaluación exhaustiva de la calidad de datos en el conjunto de datos proporcionado, centrándonos en los siguientes aspectos:\n",
    "\n",
    "1. **Completeness = 99.39%**\n",
    "   - Se identificaron áreas donde faltan datos, lo que puede requerir acciones adicionales para recopilar información faltante.\n",
    "\n",
    "2. **Uniqueness = 92.59%**\n",
    "   - Se examinó la presencia de duplicados en el conjunto de datos.\n",
    "\n",
    "3. **Timeliness = 100%**\n",
    "   - Se evaluó la actualidad de los datos.\n",
    "\n",
    "4. **Validity = 99.45%**\n",
    "   - Se destacaron las instancias donde se encontraron datos que no cumplen con lo establecido en los límites y tipos de variables.\n",
    "\n",
    "5. **Accuracy = 99.31%**\n",
    "   - Se examinó la precisión de los valores en comparación con las expectativas.\n",
    "\n",
    "6. **Consistency = 88.89%**\n",
    "   - Se evaluó la coherencia en la representación de datos.\n",
    "\n",
    "## Puntuación Final = 79.63%\n",
    "\n",
    "La importancia de estos análisis individuales puede depender del uso que se haga de este Dataset, pero me parece a destacar la importancia de la Validez y la Consistencia de los datos, ya que estas pueden ser más dificultosas de detectar y tratar correctamente, lo cual afecta a la usabilidad del Dataset.\n",
    "\n",
    "[Índice](#indice)"
   ]
  }
 ],
 "metadata": {
  "kernelspec": {
   "display_name": "venv",
   "language": "python",
   "name": "python3"
  },
  "language_info": {
   "codemirror_mode": {
    "name": "ipython",
    "version": 3
   },
   "file_extension": ".py",
   "mimetype": "text/x-python",
   "name": "python",
   "nbconvert_exporter": "python",
   "pygments_lexer": "ipython3",
   "version": "3.11.3"
  }
 },
 "nbformat": 4,
 "nbformat_minor": 2
}
